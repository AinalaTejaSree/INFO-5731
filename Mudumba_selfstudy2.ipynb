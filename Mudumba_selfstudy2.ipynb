{
 "cells": [
  {
   "cell_type": "markdown",
   "metadata": {},
   "source": [
    "# Downey: Chapter 13 - 18"
   ]
  },
  {
   "cell_type": "code",
   "execution_count": 4,
   "metadata": {},
   "outputs": [
    {
     "name": "stdout",
     "output_type": "stream",
     "text": [
      "0.32615357972532844\n",
      "0.5402045817774714\n",
      "0.06253439696518637\n",
      "0.5629187422111611\n",
      "0.8538572845267246\n",
      "0.49165206616456825\n",
      "0.6355602625194284\n",
      "0.8900749966658108\n",
      "0.2699775435472367\n",
      "0.3340489864518611\n"
     ]
    }
   ],
   "source": [
    "import random\n",
    "\n",
    "for i in range(10):\n",
    "    x = random.random()\n",
    "    print(x)"
   ]
  },
  {
   "cell_type": "code",
   "execution_count": 5,
   "metadata": {},
   "outputs": [
    {
     "data": {
      "text/plain": [
       "5"
      ]
     },
     "execution_count": 5,
     "metadata": {},
     "output_type": "execute_result"
    }
   ],
   "source": [
    "random.randint(5,10)"
   ]
  },
  {
   "cell_type": "code",
   "execution_count": 6,
   "metadata": {},
   "outputs": [
    {
     "data": {
      "text/plain": [
       "7"
      ]
     },
     "execution_count": 6,
     "metadata": {},
     "output_type": "execute_result"
    }
   ],
   "source": [
    "random.randint(5,10)"
   ]
  },
  {
   "cell_type": "code",
   "execution_count": 7,
   "metadata": {},
   "outputs": [
    {
     "data": {
      "text/plain": [
       "3"
      ]
     },
     "execution_count": 7,
     "metadata": {},
     "output_type": "execute_result"
    }
   ],
   "source": [
    "t=[1,2,3]\n",
    "random.choice(t)"
   ]
  },
  {
   "cell_type": "code",
   "execution_count": 8,
   "metadata": {},
   "outputs": [
    {
     "data": {
      "text/plain": [
       "2"
      ]
     },
     "execution_count": 8,
     "metadata": {},
     "output_type": "execute_result"
    }
   ],
   "source": [
    "random.choice(t)"
   ]
  },
  {
   "cell_type": "code",
   "execution_count": 41,
   "metadata": {},
   "outputs": [
    {
     "data": {
      "text/plain": [
       "{'the': 5266,\n",
       " 'project': 31,\n",
       " 'gutenberg': 21,\n",
       " 'etext': 30,\n",
       " 'of': 4339,\n",
       " 'emma': 789,\n",
       " 'by': 595,\n",
       " 'jane': 285,\n",
       " 'austen': 4,\n",
       " 'please': 39,\n",
       " 'take': 122,\n",
       " 'a': 3155,\n",
       " 'look': 123,\n",
       " 'at': 1041,\n",
       " 'important': 21,\n",
       " 'information': 29,\n",
       " 'in': 2199,\n",
       " 'this': 558,\n",
       " 'header': 1,\n",
       " 'we': 368,\n",
       " 'encourage': 4,\n",
       " 'you': 2053,\n",
       " 'to': 5295,\n",
       " 'keep': 34,\n",
       " 'file': 4,\n",
       " 'on': 701,\n",
       " 'your': 376,\n",
       " 'own': 304,\n",
       " 'disk': 4,\n",
       " 'keeping': 12,\n",
       " 'an': 467,\n",
       " 'electronic': 2,\n",
       " 'path': 5,\n",
       " 'open': 42,\n",
       " 'for': 1371,\n",
       " 'next': 65,\n",
       " 'readers': 3,\n",
       " 'do': 648,\n",
       " 'not': 2161,\n",
       " 'remove': 7,\n",
       " 'welcome': 17,\n",
       " 'world': 82,\n",
       " 'free': 8,\n",
       " 'plain': 26,\n",
       " 'vanilla': 1,\n",
       " 'texts': 2,\n",
       " 'etexts': 10,\n",
       " 'readable': 3,\n",
       " 'both': 87,\n",
       " 'humans': 1,\n",
       " 'and': 4931,\n",
       " 'computers': 1,\n",
       " 'since': 67,\n",
       " '1971': 1,\n",
       " 'these': 70,\n",
       " 'prepared': 17,\n",
       " 'hundreds': 2,\n",
       " 'volunteers': 1,\n",
       " 'donations': 4,\n",
       " 'contacting': 1,\n",
       " 'get': 77,\n",
       " 'further': 2,\n",
       " 'is': 1261,\n",
       " 'included': 6,\n",
       " 'below': 7,\n",
       " 'need': 44,\n",
       " 'august': 5,\n",
       " '1994': 1,\n",
       " '158': 1,\n",
       " 'date': 7,\n",
       " 'last': 121,\n",
       " 'updated': 1,\n",
       " '18': 1,\n",
       " '2002': 1,\n",
       " 'should': 374,\n",
       " 'be': 1987,\n",
       " 'named': 11,\n",
       " 'emma10.txt': 1,\n",
       " 'or': 541,\n",
       " 'emma10.zip': 1,\n",
       " 'corrected': 2,\n",
       " 'editions': 1,\n",
       " 'our': 108,\n",
       " 'new': 40,\n",
       " 'number': 11,\n",
       " 'emma11.txt': 1,\n",
       " 'versions': 1,\n",
       " 'based': 1,\n",
       " 'separate': 13,\n",
       " 'sources': 3,\n",
       " 'letter': 110,\n",
       " 'emma10a.txt': 1,\n",
       " 'are': 459,\n",
       " 'now': 315,\n",
       " 'trying': 24,\n",
       " 'release': 4,\n",
       " 'all': 855,\n",
       " 'books': 9,\n",
       " 'one': 458,\n",
       " 'month': 16,\n",
       " 'advance': 5,\n",
       " 'official': 2,\n",
       " 'dates': 1,\n",
       " 'time': 284,\n",
       " 'better': 174,\n",
       " 'editing': 2,\n",
       " 'midnight': 2,\n",
       " 'central': 1,\n",
       " 'day': 187,\n",
       " 'stated': 1,\n",
       " 'preliminary': 1,\n",
       " 'version': 1,\n",
       " 'may': 238,\n",
       " 'often': 92,\n",
       " 'posted': 1,\n",
       " 'suggestion': 3,\n",
       " 'comment': 2,\n",
       " 'those': 97,\n",
       " 'who': 296,\n",
       " 'wish': 139,\n",
       " 'so': 979,\n",
       " 'sure': 205,\n",
       " 'have': 1328,\n",
       " 'up': 192,\n",
       " 'first': 213,\n",
       " 'edition': 2,\n",
       " 'xxxxx10x.xxx': 1,\n",
       " 'check': 6,\n",
       " 'sizes': 1,\n",
       " 'week': 29,\n",
       " 'ftp': 4,\n",
       " 'program': 3,\n",
       " 'has': 254,\n",
       " 'bug': 1,\n",
       " 'it': 2546,\n",
       " 'that': 1809,\n",
       " 'scrambles': 1,\n",
       " 'tried': 27,\n",
       " 'fix': 10,\n",
       " 'failed': 10,\n",
       " 'size': 13,\n",
       " 'will': 577,\n",
       " 'but': 1446,\n",
       " 'try': 24,\n",
       " 'see': 224,\n",
       " 'copy': 7,\n",
       " 'least': 86,\n",
       " 'byte': 1,\n",
       " 'more': 472,\n",
       " 'less': 69,\n",
       " 'about': 252,\n",
       " 'page': 3,\n",
       " 'produce': 12,\n",
       " 'two': 179,\n",
       " 'million': 7,\n",
       " 'dollars': 2,\n",
       " 'each': 50,\n",
       " 'hour': 80,\n",
       " 'work': 26,\n",
       " 'fifty': 4,\n",
       " 'hours': 26,\n",
       " 'conservative': 1,\n",
       " 'estimate': 3,\n",
       " 'how': 373,\n",
       " 'long': 148,\n",
       " 'any': 667,\n",
       " 'selected': 1,\n",
       " 'entered': 25,\n",
       " 'proofread': 2,\n",
       " 'edited': 1,\n",
       " 'copyright': 6,\n",
       " 'searched': 1,\n",
       " 'analyzed': 1,\n",
       " 'letters': 40,\n",
       " 'written': 25,\n",
       " 'etc': 3,\n",
       " 'projected': 3,\n",
       " 'audience': 1,\n",
       " 'hundred': 17,\n",
       " 'if': 505,\n",
       " 'value': 16,\n",
       " 'per': 3,\n",
       " 'text': 2,\n",
       " 'nominally': 1,\n",
       " 'estimated': 2,\n",
       " 'dollar': 1,\n",
       " 'then': 172,\n",
       " '2': 4,\n",
       " 'year': 30,\n",
       " 'four': 31,\n",
       " 'files': 5,\n",
       " 'thus': 13,\n",
       " 'upping': 1,\n",
       " 'productivity': 1,\n",
       " 'from': 554,\n",
       " 'goal': 1,\n",
       " 'give': 164,\n",
       " 'away': 139,\n",
       " 'trillion': 1,\n",
       " 'december': 5,\n",
       " '31': 1,\n",
       " '2001': 2,\n",
       " '10,000': 3,\n",
       " 'x': 4,\n",
       " '100,000,000=trillion': 1,\n",
       " 'ten': 33,\n",
       " 'thousand': 17,\n",
       " 'titles': 1,\n",
       " 'which': 557,\n",
       " '10': 1,\n",
       " 'expected': 41,\n",
       " 'computer': 3,\n",
       " 'users': 2,\n",
       " 'end': 50,\n",
       " 'than': 418,\n",
       " 'ever': 194,\n",
       " 'made': 201,\n",
       " 'gutenberg/ibc': 1,\n",
       " 'tax': 3,\n",
       " 'deductible': 1,\n",
       " 'extent': 8,\n",
       " 'allowable': 5,\n",
       " 'law': 16,\n",
       " 'ibc': 2,\n",
       " 'illinois': 4,\n",
       " 'benedictine': 4,\n",
       " 'college': 4,\n",
       " 'subscriptions': 1,\n",
       " 'paper': 14,\n",
       " 'newsletter': 1,\n",
       " 'go': 133,\n",
       " 'too': 255,\n",
       " 'other': 238,\n",
       " 'matters': 11,\n",
       " 'mail': 1,\n",
       " 'p': 1,\n",
       " 'o': 1,\n",
       " 'box': 24,\n",
       " '2782': 1,\n",
       " 'champaign': 1,\n",
       " 'il': 1,\n",
       " '61825': 1,\n",
       " 'when': 366,\n",
       " 'email': 2,\n",
       " 'fails': 2,\n",
       " 'michael': 2,\n",
       " 's': 4,\n",
       " 'hart': 3,\n",
       " 'executive': 1,\n",
       " 'director': 1,\n",
       " 'hart@vmd.cso.uiuc.edu': 1,\n",
       " 'internet': 3,\n",
       " 'hart@uiucvmd': 1,\n",
       " 'bitnet': 2,\n",
       " 'would': 822,\n",
       " 'prefer': 7,\n",
       " 'send': 25,\n",
       " 'compuserve': 1,\n",
       " 'attmail': 1,\n",
       " 'mcimail': 1,\n",
       " '': 90,\n",
       " 'emulator': 1,\n",
       " 'directly': 53,\n",
       " 'archives': 1,\n",
       " 'mac': 1,\n",
       " 'point': 52,\n",
       " 'click': 1,\n",
       " 'type': 1,\n",
       " 'mrcnext.cso.uiuc.edu': 1,\n",
       " 'login': 1,\n",
       " 'anonymous': 1,\n",
       " 'password': 1,\n",
       " 'your@login': 1,\n",
       " 'cd': 5,\n",
       " 'etext/etext91': 1,\n",
       " 'etext92': 1,\n",
       " 'etext93': 1,\n",
       " 'also': 27,\n",
       " 'etext/etext93': 1,\n",
       " 'etext/articles': 1,\n",
       " 'suggest': 3,\n",
       " 'gut': 2,\n",
       " 'dir': 1,\n",
       " 'mget': 2,\n",
       " 'set': 65,\n",
       " 'bin': 1,\n",
       " 'zip': 1,\n",
       " 'index100.gut': 1,\n",
       " 'index200.gut': 1,\n",
       " 'list': 3,\n",
       " 'new.gut': 1,\n",
       " 'general': 66,\n",
       " 'newsletters': 1,\n",
       " 'legal': 5,\n",
       " 'advisor': 1,\n",
       " 'three': 74,\n",
       " 'pages': 3,\n",
       " 'start**the': 1,\n",
       " 'small': 41,\n",
       " 'print!**for': 1,\n",
       " 'public': 18,\n",
       " 'domain': 5,\n",
       " 'etexts**start': 1,\n",
       " 'why': 56,\n",
       " 'print': 8,\n",
       " 'statement': 6,\n",
       " 'here': 156,\n",
       " 'know': 338,\n",
       " 'lawyers': 1,\n",
       " 'they': 543,\n",
       " 'tell': 79,\n",
       " 'us': 151,\n",
       " 'might': 327,\n",
       " 'sue': 1,\n",
       " 'there': 552,\n",
       " 'something': 114,\n",
       " 'wrong': 41,\n",
       " 'with': 1222,\n",
       " 'even': 136,\n",
       " 'got': 38,\n",
       " 'someone': 1,\n",
       " \"what's\": 1,\n",
       " 'fault': 21,\n",
       " 'among': 55,\n",
       " 'things': 66,\n",
       " 'disclaims': 2,\n",
       " 'most': 252,\n",
       " 'liability': 4,\n",
       " 'tells': 12,\n",
       " 'can': 288,\n",
       " 'distribute': 5,\n",
       " 'copies': 3,\n",
       " 'want': 92,\n",
       " 'before': 251,\n",
       " 'use': 40,\n",
       " 'read': 54,\n",
       " 'using': 3,\n",
       " 'reading': 16,\n",
       " 'part': 72,\n",
       " 'tm': 6,\n",
       " 'indicate': 3,\n",
       " 'understand': 70,\n",
       " 'agree': 17,\n",
       " 'accept': 12,\n",
       " 'receive': 14,\n",
       " 'refund': 4,\n",
       " 'money': 15,\n",
       " 'paid': 22,\n",
       " 'sending': 9,\n",
       " 'request': 7,\n",
       " 'within': 37,\n",
       " '30': 1,\n",
       " 'days': 53,\n",
       " 'receiving': 16,\n",
       " 'person': 67,\n",
       " 'received': 40,\n",
       " 'physical': 2,\n",
       " 'medium': 8,\n",
       " 'such': 493,\n",
       " 'as': 1443,\n",
       " 'must': 573,\n",
       " 'return': 59,\n",
       " 'like': 201,\n",
       " 'distributed': 1,\n",
       " 'professor': 1,\n",
       " 'through': 62,\n",
       " 'association': 3,\n",
       " 'means': 49,\n",
       " 'no': 748,\n",
       " 'owns': 1,\n",
       " 'united': 12,\n",
       " 'states': 3,\n",
       " 'without': 216,\n",
       " 'permission': 2,\n",
       " 'paying': 12,\n",
       " 'royalties': 2,\n",
       " 'special': 1,\n",
       " 'rules': 4,\n",
       " 'forth': 6,\n",
       " 'apply': 4,\n",
       " 'under': 66,\n",
       " \"project's\": 2,\n",
       " 'trademark': 2,\n",
       " 'create': 3,\n",
       " 'expends': 1,\n",
       " 'considerable': 18,\n",
       " 'efforts': 3,\n",
       " 'identify': 1,\n",
       " 'transcribe': 1,\n",
       " 'works': 2,\n",
       " 'despite': 1,\n",
       " 'contain': 3,\n",
       " 'defects': 3,\n",
       " 'form': 25,\n",
       " 'incomplete': 2,\n",
       " 'inaccurate': 1,\n",
       " 'corrupt': 1,\n",
       " 'data': 1,\n",
       " 'transcription': 1,\n",
       " 'errors': 5,\n",
       " 'intellectual': 4,\n",
       " 'property': 7,\n",
       " 'infringement': 1,\n",
       " 'defective': 1,\n",
       " 'damaged': 1,\n",
       " 'virus': 1,\n",
       " 'codes': 1,\n",
       " 'damage': 1,\n",
       " 'cannot': 143,\n",
       " 'equipment': 1,\n",
       " 'limited': 6,\n",
       " 'warranty': 2,\n",
       " 'disclaimer': 1,\n",
       " 'damages': 5,\n",
       " 'right': 93,\n",
       " 'replacement': 3,\n",
       " 'described': 6,\n",
       " '1': 3,\n",
       " 'party': 98,\n",
       " 'costs': 1,\n",
       " 'expenses': 2,\n",
       " 'including': 8,\n",
       " 'fees': 2,\n",
       " 'remedies': 1,\n",
       " 'negligence': 2,\n",
       " 'strict': 4,\n",
       " 'breach': 1,\n",
       " 'contract': 2,\n",
       " 'indirect': 1,\n",
       " 'consequential': 2,\n",
       " 'punitive': 1,\n",
       " 'incidental': 2,\n",
       " 'notice': 28,\n",
       " 'possibility': 14,\n",
       " 'discover': 5,\n",
       " 'defect': 2,\n",
       " '90': 1,\n",
       " 'explanatory': 1,\n",
       " 'note': 25,\n",
       " 'choose': 3,\n",
       " 'alternatively': 2,\n",
       " 'electronically': 3,\n",
       " 'second': 32,\n",
       " 'opportunity': 19,\n",
       " 'otherwise': 21,\n",
       " 'provided': 6,\n",
       " 'warranties': 3,\n",
       " 'kind': 83,\n",
       " 'express': 16,\n",
       " 'implied': 6,\n",
       " 'merchantability': 1,\n",
       " 'fitness': 1,\n",
       " 'particular': 42,\n",
       " 'purpose': 24,\n",
       " 'some': 266,\n",
       " 'allow': 48,\n",
       " 'disclaimers': 2,\n",
       " 'exclusion': 1,\n",
       " 'limitation': 1,\n",
       " 'above': 13,\n",
       " 'exclusions': 1,\n",
       " 'rights': 6,\n",
       " 'indemnity': 1,\n",
       " 'indemnify': 1,\n",
       " 'hold': 15,\n",
       " 'its': 124,\n",
       " 'directors': 1,\n",
       " 'officers': 1,\n",
       " 'members': 1,\n",
       " 'agents': 1,\n",
       " 'harmless': 4,\n",
       " 'cost': 4,\n",
       " 'expense': 10,\n",
       " 'arise': 8,\n",
       " 'indirectly': 1,\n",
       " 'following': 16,\n",
       " 'cause': 18,\n",
       " 'distribution': 2,\n",
       " 'alteration': 3,\n",
       " 'modification': 1,\n",
       " 'addition': 12,\n",
       " '3': 2,\n",
       " 'book': 12,\n",
       " 'either': 66,\n",
       " 'delete': 1,\n",
       " 'references': 1,\n",
       " 'only': 343,\n",
       " 'exact': 5,\n",
       " 'requires': 6,\n",
       " 'alter': 5,\n",
       " 'modify': 1,\n",
       " 'however': 132,\n",
       " 'machine': 1,\n",
       " 'binary': 1,\n",
       " 'compressed': 2,\n",
       " 'mark': 4,\n",
       " 'proprietary': 2,\n",
       " 'resulting': 2,\n",
       " 'conversion': 1,\n",
       " 'word': 96,\n",
       " 'pro': 1,\n",
       " 'cessing': 1,\n",
       " 'hypertext': 2,\n",
       " 'software': 2,\n",
       " 'displayed': 3,\n",
       " 'clearly': 4,\n",
       " 'does': 131,\n",
       " 'characters': 5,\n",
       " 'intended': 18,\n",
       " 'author': 3,\n",
       " 'although': 2,\n",
       " 'tilde': 1,\n",
       " 'asterisk': 1,\n",
       " 'underline': 1,\n",
       " 'used': 52,\n",
       " 'convey': 6,\n",
       " 'punctuation': 1,\n",
       " 'additional': 6,\n",
       " 'links': 1,\n",
       " 'readily': 8,\n",
       " 'converted': 1,\n",
       " 'reader': 1,\n",
       " 'into': 164,\n",
       " 'ascii': 2,\n",
       " 'ebcdic': 2,\n",
       " 'equivalent': 3,\n",
       " 'displays': 3,\n",
       " 'case': 32,\n",
       " 'instance': 10,\n",
       " 'processors': 1,\n",
       " 'provide': 6,\n",
       " 'fee': 2,\n",
       " 'original': 6,\n",
       " 'honor': 1,\n",
       " 'provisions': 1,\n",
       " 'pay': 26,\n",
       " 'license': 1,\n",
       " '20': 1,\n",
       " 'net': 1,\n",
       " 'profits': 4,\n",
       " 'derive': 2,\n",
       " 'calculated': 4,\n",
       " 'method': 4,\n",
       " 'already': 46,\n",
       " 'calculate': 3,\n",
       " 'applicable': 1,\n",
       " 'taxes': 1,\n",
       " \"don't\": 18,\n",
       " 'royalty': 2,\n",
       " 'due': 24,\n",
       " 'payable': 1,\n",
       " '60': 1,\n",
       " 'prepare': 4,\n",
       " 'were': 602,\n",
       " 'legally': 1,\n",
       " 'required': 15,\n",
       " 'annual': 1,\n",
       " 'periodic': 1,\n",
       " 'what': 538,\n",
       " 'gratefully': 6,\n",
       " 'accepts': 2,\n",
       " 'contributions': 1,\n",
       " 'scanning': 1,\n",
       " 'machines': 1,\n",
       " 'ocr': 1,\n",
       " 'licenses': 1,\n",
       " 'every': 436,\n",
       " 'sort': 113,\n",
       " 'contribution': 2,\n",
       " 'think': 385,\n",
       " 'charles': 1,\n",
       " 'b': 1,\n",
       " 'kramer': 1,\n",
       " 'attorney': 2,\n",
       " '72600.2026@compuserve.com': 1,\n",
       " 'tel': 1,\n",
       " '212': 1,\n",
       " '254': 1,\n",
       " '5093': 1,\n",
       " 'end*the': 1,\n",
       " 'etexts*ver.04.29.93*end': 1,\n",
       " 'volume': 3,\n",
       " 'i': 3191,\n",
       " 'chapter': 56,\n",
       " 'woodhouse': 278,\n",
       " 'handsome': 38,\n",
       " 'clever': 27,\n",
       " 'rich': 14,\n",
       " 'comfortable': 34,\n",
       " 'home': 132,\n",
       " 'happy': 125,\n",
       " 'disposition': 24,\n",
       " 'seemed': 141,\n",
       " 'unite': 3,\n",
       " 'best': 85,\n",
       " 'blessings': 6,\n",
       " 'existence': 8,\n",
       " 'had': 1626,\n",
       " 'lived': 25,\n",
       " 'nearly': 14,\n",
       " 'twenty': 30,\n",
       " 'years': 57,\n",
       " 'very': 1212,\n",
       " 'little': 361,\n",
       " 'distress': 19,\n",
       " 'vex': 1,\n",
       " 'her': 2483,\n",
       " 'she': 2364,\n",
       " 'was': 2400,\n",
       " 'youngest': 4,\n",
       " 'daughters': 7,\n",
       " 'affectionate': 9,\n",
       " 'indulgent': 2,\n",
       " 'father': 168,\n",
       " 'consequence': 27,\n",
       " \"sister's\": 6,\n",
       " 'marriage': 35,\n",
       " 'been': 760,\n",
       " 'mistress': 10,\n",
       " 'his': 1150,\n",
       " 'house': 95,\n",
       " 'early': 41,\n",
       " 'period': 18,\n",
       " 'mother': 57,\n",
       " 'died': 4,\n",
       " 'ago': 32,\n",
       " 'indistinct': 1,\n",
       " 'remembrance': 8,\n",
       " 'caresses': 1,\n",
       " 'place': 93,\n",
       " 'supplied': 5,\n",
       " 'excellent': 34,\n",
       " 'woman': 123,\n",
       " 'governess': 9,\n",
       " 'fallen': 7,\n",
       " 'short': 70,\n",
       " 'affection': 50,\n",
       " 'sixteen': 9,\n",
       " 'miss': 602,\n",
       " 'taylor': 41,\n",
       " 'mr': 1154,\n",
       " \"woodhouse's\": 36,\n",
       " 'family': 77,\n",
       " 'friend': 166,\n",
       " 'fond': 39,\n",
       " 'particularly': 46,\n",
       " 'between': 73,\n",
       " 'them': 436,\n",
       " 'intimacy': 21,\n",
       " 'sisters': 12,\n",
       " 'ceased': 6,\n",
       " 'nominal': 1,\n",
       " 'office': 16,\n",
       " 'mildness': 1,\n",
       " 'temper': 36,\n",
       " 'hardly': 71,\n",
       " 'allowed': 40,\n",
       " 'impose': 1,\n",
       " 'restraint': 3,\n",
       " 'shadow': 2,\n",
       " 'authority': 6,\n",
       " 'being': 358,\n",
       " 'passed': 55,\n",
       " 'living': 18,\n",
       " 'together': 81,\n",
       " 'mutually': 3,\n",
       " 'attached': 25,\n",
       " 'doing': 45,\n",
       " 'just': 169,\n",
       " 'liked': 16,\n",
       " 'highly': 24,\n",
       " 'esteeming': 1,\n",
       " \"taylor's\": 8,\n",
       " 'judgment': 29,\n",
       " 'directed': 6,\n",
       " 'chiefly': 7,\n",
       " 'real': 42,\n",
       " 'evils': 10,\n",
       " 'indeed': 202,\n",
       " \"emma's\": 79,\n",
       " 'situation': 64,\n",
       " 'power': 41,\n",
       " 'having': 147,\n",
       " 'rather': 146,\n",
       " 'much': 486,\n",
       " 'way': 156,\n",
       " 'well': 403,\n",
       " 'herself': 279,\n",
       " 'disadvantages': 1,\n",
       " 'threatened': 4,\n",
       " 'alloy': 3,\n",
       " 'many': 138,\n",
       " 'enjoyments': 3,\n",
       " 'danger': 31,\n",
       " 'present': 90,\n",
       " 'unperceived': 2,\n",
       " 'did': 353,\n",
       " 'rank': 9,\n",
       " 'misfortunes': 1,\n",
       " 'sorrow': 4,\n",
       " 'came': 119,\n",
       " 'gentle': 16,\n",
       " 'shape': 5,\n",
       " 'disagreeable': 20,\n",
       " 'consciousness': 21,\n",
       " 'married': 46,\n",
       " 'loss': 23,\n",
       " 'brought': 54,\n",
       " 'grief': 5,\n",
       " 'wedding': 17,\n",
       " 'beloved': 9,\n",
       " 'sat': 37,\n",
       " 'mournful': 1,\n",
       " 'thought': 226,\n",
       " 'continuance': 2,\n",
       " 'over': 139,\n",
       " 'bride': 14,\n",
       " 'people': 93,\n",
       " 'gone': 80,\n",
       " 'left': 68,\n",
       " 'dine': 15,\n",
       " 'prospect': 13,\n",
       " 'third': 5,\n",
       " 'cheer': 4,\n",
       " 'evening': 97,\n",
       " 'composed': 6,\n",
       " 'himself': 146,\n",
       " 'sleep': 2,\n",
       " 'after': 161,\n",
       " 'dinner': 49,\n",
       " 'usual': 51,\n",
       " 'sit': 38,\n",
       " 'lost': 21,\n",
       " 'event': 24,\n",
       " 'promise': 22,\n",
       " 'happiness': 76,\n",
       " 'weston': 389,\n",
       " 'man': 218,\n",
       " 'unexceptionable': 7,\n",
       " 'character': 43,\n",
       " 'easy': 28,\n",
       " 'fortune': 39,\n",
       " 'suitable': 4,\n",
       " 'age': 22,\n",
       " 'pleasant': 41,\n",
       " 'manners': 53,\n",
       " 'satisfaction': 28,\n",
       " 'considering': 20,\n",
       " 'self': 23,\n",
       " 'denying': 7,\n",
       " 'generous': 4,\n",
       " 'friendship': 26,\n",
       " 'always': 238,\n",
       " 'wished': 48,\n",
       " 'promoted': 4,\n",
       " 'match': 32,\n",
       " 'black': 5,\n",
       " \"morning's\": 3,\n",
       " 'felt': 114,\n",
       " 'recalled': 2,\n",
       " 'past': 20,\n",
       " 'kindness': 40,\n",
       " 'taught': 7,\n",
       " 'played': 8,\n",
       " 'five': 42,\n",
       " 'old': 85,\n",
       " 'devoted': 5,\n",
       " 'powers': 14,\n",
       " 'attach': 5,\n",
       " 'amuse': 8,\n",
       " 'health': 39,\n",
       " 'nursed': 3,\n",
       " 'various': 6,\n",
       " 'illnesses': 3,\n",
       " 'childhood': 2,\n",
       " 'large': 35,\n",
       " 'debt': 1,\n",
       " 'gratitude': 29,\n",
       " 'owing': 3,\n",
       " 'intercourse': 12,\n",
       " 'seven': 8,\n",
       " 'equal': 57,\n",
       " 'footing': 3,\n",
       " 'perfect': 34,\n",
       " 'unreserve': 6,\n",
       " 'soon': 224,\n",
       " 'followed': 29,\n",
       " \"isabella's\": 13,\n",
       " 'their': 304,\n",
       " 'yet': 109,\n",
       " 'dearer': 6,\n",
       " 'tenderer': 1,\n",
       " 'recollection': 8,\n",
       " 'companion': 27,\n",
       " 'few': 106,\n",
       " 'possessed': 3,\n",
       " 'intelligent': 4,\n",
       " 'informed': 5,\n",
       " 'useful': 21,\n",
       " 'knowing': 26,\n",
       " 'ways': 16,\n",
       " 'interested': 15,\n",
       " 'concerns': 9,\n",
       " 'peculiarly': 11,\n",
       " 'pleasure': 115,\n",
       " 'scheme': 23,\n",
       " 'hers': 20,\n",
       " 'whom': 73,\n",
       " 'could': 837,\n",
       " 'speak': 99,\n",
       " 'arose': 4,\n",
       " 'never': 358,\n",
       " 'find': 75,\n",
       " 'bear': 52,\n",
       " 'change': 61,\n",
       " 'true': 66,\n",
       " 'going': 120,\n",
       " 'half': 119,\n",
       " 'mile': 11,\n",
       " 'aware': 26,\n",
       " 'great': 265,\n",
       " 'difference': 31,\n",
       " 'mrs': 701,\n",
       " 'advantages': 12,\n",
       " 'natural': 52,\n",
       " 'domestic': 7,\n",
       " 'suffering': 16,\n",
       " 'solitude': 3,\n",
       " 'dearly': 2,\n",
       " 'loved': 27,\n",
       " 'he': 1811,\n",
       " 'meet': 32,\n",
       " 'conversation': 42,\n",
       " 'rational': 18,\n",
       " 'playful': 2,\n",
       " 'evil': 33,\n",
       " 'actual': 3,\n",
       " 'disparity': 7,\n",
       " 'ages': 2,\n",
       " 'increased': 12,\n",
       " 'constitution': 7,\n",
       " 'habits': 12,\n",
       " 'valetudinarian': 1,\n",
       " 'life': 80,\n",
       " 'activity': 4,\n",
       " 'mind': 128,\n",
       " 'body': 164,\n",
       " 'older': 8,\n",
       " 'though': 177,\n",
       " 'everywhere': 3,\n",
       " 'friendliness': 3,\n",
       " 'heart': 66,\n",
       " 'amiable': 35,\n",
       " 'talents': 8,\n",
       " 'recommended': 9,\n",
       " 'him': 771,\n",
       " 'sister': 27,\n",
       " 'comparatively': 2,\n",
       " 'removed': 10,\n",
       " 'matrimony': 8,\n",
       " 'settled': 39,\n",
       " 'london': 45,\n",
       " 'miles': 17,\n",
       " 'off': 99,\n",
       " 'beyond': 54,\n",
       " 'daily': 10,\n",
       " 'reach': 7,\n",
       " 'october': 4,\n",
       " 'november': 5,\n",
       " 'struggled': 2,\n",
       " 'hartfield': 159,\n",
       " 'christmas': 11,\n",
       " 'visit': 86,\n",
       " 'isabella': 56,\n",
       " 'husband': 31,\n",
       " 'children': 60,\n",
       " 'fill': 2,\n",
       " 'society': 48,\n",
       " 'again': 219,\n",
       " 'highbury': 125,\n",
       " 'populous': 2,\n",
       " 'village': 2,\n",
       " 'almost': 89,\n",
       " 'amounting': 1,\n",
       " 'town': 23,\n",
       " 'spite': 24,\n",
       " 'lawn': 4,\n",
       " 'shrubberies': 2,\n",
       " 'name': 56,\n",
       " 'really': 153,\n",
       " 'belong': 15,\n",
       " 'afforded': 8,\n",
       " 'equals': 1,\n",
       " 'woodhouses': 4,\n",
       " 'looked': 91,\n",
       " 'acquaintance': 63,\n",
       " 'universally': 4,\n",
       " 'civil': 13,\n",
       " 'accepted': 11,\n",
       " 'lieu': 1,\n",
       " 'melancholy': 12,\n",
       " 'sigh': 19,\n",
       " 'impossible': 41,\n",
       " 'till': 102,\n",
       " 'awoke': 1,\n",
       " 'necessary': 36,\n",
       " 'cheerful': 29,\n",
       " 'spirits': 64,\n",
       " 'support': 8,\n",
       " 'nervous': 11,\n",
       " 'easily': 14,\n",
       " 'depressed': 6,\n",
       " 'hating': 2,\n",
       " 'origin': 4,\n",
       " 'reconciled': 8,\n",
       " \"daughter's\": 15,\n",
       " 'marrying': 26,\n",
       " 'nor': 64,\n",
       " 'compassion': 14,\n",
       " 'entirely': 39,\n",
       " 'obliged': 76,\n",
       " 'selfishness': 4,\n",
       " 'able': 72,\n",
       " 'suppose': 81,\n",
       " 'feel': 95,\n",
       " 'differently': 11,\n",
       " 'disposed': 21,\n",
       " 'done': 142,\n",
       " 'sad': 25,\n",
       " 'thing': 398,\n",
       " 'deal': 92,\n",
       " 'happier': 11,\n",
       " 'spent': 21,\n",
       " 'rest': 50,\n",
       " 'smiled': 17,\n",
       " 'chatted': 1,\n",
       " 'cheerfully': 8,\n",
       " 'thoughts': 39,\n",
       " 'tea': 27,\n",
       " 'say': 312,\n",
       " 'exactly': 58,\n",
       " 'said': 484,\n",
       " 'poor': 136,\n",
       " 'pity': 26,\n",
       " 'papa': 33,\n",
       " 'good': 358,\n",
       " 'humoured': 6,\n",
       " 'thoroughly': 19,\n",
       " 'deserves': 6,\n",
       " 'wife': 66,\n",
       " 'live': 17,\n",
       " 'my': 732,\n",
       " 'odd': 26,\n",
       " 'humours': 2,\n",
       " 'where': 86,\n",
       " 'advantage': 27,\n",
       " 'times': 29,\n",
       " 'dear': 241,\n",
       " 'shall': 219,\n",
       " 'coming': 89,\n",
       " 'meeting': 39,\n",
       " 'begin': 31,\n",
       " 'am': 414,\n",
       " 'far': 70,\n",
       " 'randalls': 90,\n",
       " 'distance': 25,\n",
       " 'walk': 56,\n",
       " 'nobody': 72,\n",
       " 'walking': 45,\n",
       " 'carriage': 69,\n",
       " 'james': 18,\n",
       " 'put': 64,\n",
       " 'horses': 25,\n",
       " 'while': 133,\n",
       " \"weston's\": 51,\n",
       " 'stable': 2,\n",
       " 'talked': 66,\n",
       " 'night': 40,\n",
       " 'because': 53,\n",
       " 'housemaid': 1,\n",
       " 'doubt': 98,\n",
       " 'whether': 64,\n",
       " 'anywhere': 16,\n",
       " 'else': 80,\n",
       " 'hannah': 2,\n",
       " 'mentioned': 26,\n",
       " 'glad': 50,\n",
       " 'lucky': 10,\n",
       " 'slighted': 6,\n",
       " 'upon': 159,\n",
       " 'account': 59,\n",
       " 'make': 152,\n",
       " 'servant': 6,\n",
       " 'pretty': 68,\n",
       " 'spoken': 31,\n",
       " 'girl': 46,\n",
       " 'opinion': 71,\n",
       " 'whenever': 28,\n",
       " 'curtseys': 1,\n",
       " 'asks': 3,\n",
       " ...}"
      ]
     },
     "execution_count": 41,
     "metadata": {},
     "output_type": "execute_result"
    }
   ],
   "source": [
    "import string\n",
    "\n",
    "def process_file(filename):\n",
    "    hist = dict()\n",
    "    fp = open(filename)\n",
    "    for line in fp:\n",
    "        process_line(line, hist)\n",
    "    return hist\n",
    "def process_line(line, hist):\n",
    "    line = line.replace('-', ' ')\n",
    "    \n",
    "    for word in line.split():\n",
    "        word = word.strip(string.punctuation + string.whitespace)\n",
    "        word = word.lower()\n",
    "        hist[word] = hist.get(word, 0) + 1\n",
    "        \n",
    "hist = process_file('emma.txt')\n",
    "hist"
   ]
  },
  {
   "cell_type": "code",
   "execution_count": 19,
   "metadata": {},
   "outputs": [
    {
     "data": {
      "text/plain": [
       "162742"
      ]
     },
     "execution_count": 19,
     "metadata": {},
     "output_type": "execute_result"
    }
   ],
   "source": [
    "def total_words(hist):\n",
    "    return sum(hist.values())\n",
    "wordsnum= total_words(hist)\n",
    "wordsnum"
   ]
  },
  {
   "cell_type": "code",
   "execution_count": 22,
   "metadata": {},
   "outputs": [
    {
     "data": {
      "text/plain": [
       "7460"
      ]
     },
     "execution_count": 22,
     "metadata": {},
     "output_type": "execute_result"
    }
   ],
   "source": [
    "def different_words(hist):\n",
    "    return len(hist)\n",
    "items_dict = different_words(hist)\n",
    "items_dict"
   ]
  },
  {
   "cell_type": "code",
   "execution_count": 23,
   "metadata": {},
   "outputs": [
    {
     "name": "stdout",
     "output_type": "stream",
     "text": [
      "Total number of words: 162742\n",
      "Number of different words: 7460\n"
     ]
    }
   ],
   "source": [
    "print('Total number of words:', total_words(hist))\n",
    "print('Number of different words:', different_words(hist))"
   ]
  },
  {
   "cell_type": "code",
   "execution_count": 27,
   "metadata": {},
   "outputs": [],
   "source": [
    "def most_common(hist):\n",
    "    t = []\n",
    "    for key, value in hist.items():\n",
    "        t.append((value, key))\n",
    "    t.sort(reverse=True)\n",
    "    return t"
   ]
  },
  {
   "cell_type": "code",
   "execution_count": 28,
   "metadata": {},
   "outputs": [
    {
     "name": "stdout",
     "output_type": "stream",
     "text": [
      "The most common words are:\n",
      "to\t5295\n",
      "the\t5266\n",
      "and\t4931\n",
      "of\t4339\n",
      "i\t3191\n",
      "a\t3155\n",
      "it\t2546\n",
      "her\t2483\n",
      "was\t2400\n",
      "she\t2364\n"
     ]
    }
   ],
   "source": [
    "t = most_common(hist)\n",
    "print('The most common words are:')\n",
    "for freq, word in t[:10]:\n",
    "    print(word, freq, sep='\\t')"
   ]
  },
  {
   "cell_type": "code",
   "execution_count": 29,
   "metadata": {},
   "outputs": [],
   "source": [
    "def print_most_common(hist, num=10):\n",
    "    t = most_common(hist)\n",
    "    print('The most common words are:')\n",
    "    for freq, word in t[:num]:\n",
    "        print(word, freq, sep='\\t')"
   ]
  },
  {
   "cell_type": "code",
   "execution_count": 30,
   "metadata": {},
   "outputs": [
    {
     "name": "stdout",
     "output_type": "stream",
     "text": [
      "The most common words are:\n",
      "to\t5295\n",
      "the\t5266\n",
      "and\t4931\n",
      "of\t4339\n",
      "i\t3191\n",
      "a\t3155\n",
      "it\t2546\n",
      "her\t2483\n",
      "was\t2400\n",
      "she\t2364\n"
     ]
    }
   ],
   "source": [
    "print_most_common(hist)"
   ]
  },
  {
   "cell_type": "code",
   "execution_count": 31,
   "metadata": {},
   "outputs": [
    {
     "name": "stdout",
     "output_type": "stream",
     "text": [
      "The most common words are:\n",
      "to\t5295\n",
      "the\t5266\n",
      "and\t4931\n",
      "of\t4339\n",
      "i\t3191\n",
      "a\t3155\n",
      "it\t2546\n",
      "her\t2483\n",
      "was\t2400\n",
      "she\t2364\n",
      "in\t2199\n",
      "not\t2161\n",
      "you\t2053\n",
      "be\t1987\n",
      "he\t1811\n",
      "that\t1809\n",
      "had\t1626\n",
      "but\t1446\n",
      "as\t1443\n",
      "for\t1371\n"
     ]
    }
   ],
   "source": [
    "print_most_common(hist, 20)"
   ]
  },
  {
   "cell_type": "code",
   "execution_count": 32,
   "metadata": {},
   "outputs": [
    {
     "name": "stdout",
     "output_type": "stream",
     "text": [
      "The most common words are:\n",
      "to\t5295\n",
      "the\t5266\n",
      "and\t4931\n",
      "of\t4339\n",
      "i\t3191\n",
      "a\t3155\n",
      "it\t2546\n",
      "her\t2483\n",
      "was\t2400\n",
      "she\t2364\n",
      "in\t2199\n",
      "not\t2161\n",
      "you\t2053\n",
      "be\t1987\n",
      "he\t1811\n",
      "that\t1809\n",
      "had\t1626\n",
      "but\t1446\n",
      "as\t1443\n",
      "for\t1371\n",
      "have\t1328\n",
      "is\t1261\n",
      "with\t1222\n",
      "very\t1212\n",
      "mr\t1154\n",
      "his\t1150\n",
      "at\t1041\n",
      "so\t979\n",
      "all\t855\n",
      "could\t837\n"
     ]
    }
   ],
   "source": [
    "print_most_common(hist,30)"
   ]
  },
  {
   "cell_type": "code",
   "execution_count": 33,
   "metadata": {},
   "outputs": [
    {
     "name": "stdout",
     "output_type": "stream",
     "text": [
      "The most common words are:\n",
      "to\t5295\n",
      "the\t5266\n",
      "and\t4931\n",
      "of\t4339\n",
      "i\t3191\n"
     ]
    }
   ],
   "source": [
    "print_most_common(hist,5)"
   ]
  },
  {
   "cell_type": "code",
   "execution_count": 51,
   "metadata": {},
   "outputs": [],
   "source": [
    "def subtract(d1, d2):\n",
    "    res = dict()\n",
    "    for key in d1:\n",
    "        if key not in d2:\n",
    "            res[key] = None\n",
    "    return res"
   ]
  },
  {
   "cell_type": "code",
   "execution_count": 60,
   "metadata": {},
   "outputs": [
    {
     "name": "stdout",
     "output_type": "stream",
     "text": [
      "Words in the book that aren't in the words list:\n"
     ]
    },
    {
     "name": "stdout",
     "output_type": "stream",
     "text": [
      "project gutenberg etext emma by jane austen take look at important information this header we encourage keep file on own disk keeping an electronic path open next readers do remove welcome world plain vanilla texts etexts readable both humans computers since 1971 prepared hundreds volunteers donations contacting get further is included below need august 1994 158 date last updated 18 2002 named emma10.txt emma10.zip corrected editions new number emma11.txt versions based separate sources letter emma10a.txt now trying release books one month advance official dates time better editing midnight central day stated preliminary version may often posted suggestion comment those who wish so sure have up first edition xxxxx10x.xxx check sizes week ftp program has bug scrambles tried fix failed size will but try see copy least byte more less about page produce two million dollars each hour work fifty hours conservative estimate how long any selected entered proofread edited copyright searched analyzed letters written etc projected audience hundred value per text nominally estimated dollar then 2 year four files thus upping productivity from goal give away trillion december 31 2001 10,000 x 100,000,000=trillion ten thousand titles which 10 expected computer users end than ever made gutenberg/ibc tax deductible extent allowable law ibc illinois benedictine college subscriptions paper newsletter go too other matters mail p o box 2782 champaign il 61825 when email fails michael s hart executive director hart@vmd.cso.uiuc.edu internet hart@uiucvmd bitnet would prefer send compuserve attmail mcimail  emulator directly archives mac point click type mrcnext.cso.uiuc.edu login anonymous password your@login cd etext/etext91 etext92 etext93 also etext/etext93 etext/articles suggest gut dir mget set bin zip index100.gut index200.gut new.gut general newsletters legal advisor three pages start**the small print!**for public domain etexts**start print statement here lawyers they tell us might sue there something wrong got someone what's fault among things disclaims most liability tells can distribute copies want before use read using reading part tm indicate understand agree accept receive refund paid sending request within 30 days receiving person received physical medium such must return like distributed professor through association means no owns united states without permission paying royalties special rules forth apply under project's trademark create expends considerable efforts identify transcribe works despite contain defects form incomplete inaccurate corrupt data transcription errors intellectual property infringement defective damaged virus codes damage cannot equipment limited warranty disclaimer damages right replacement described 1 party costs expenses fees remedies negligence strict breach contract indirect consequential punitive incidental notice possibility discover defect 90 explanatory note choose alternatively electronically second opportunity otherwise provided warranties kind express implied merchantability fitness particular purpose some allow disclaimers exclusion limitation above exclusions rights indemnity indemnify hold its directors officers agents harmless cost expense arise indirectly following cause distribution alteration modification addition 3 book either delete references exact requires alter modify machine binary compressed mark proprietary resulting conversion word pro cessing hypertext software displayed clearly does characters intended author although tilde asterisk underline used convey punctuation additional links readily converted reader into ascii ebcdic equivalent displays case instance processors provide fee original honor provisions pay license 20 net profits derive calculated method already calculate applicable taxes don't royalty due payable 60 prepare were legally required annual periodic what gratefully accepts contributions scanning machines ocr licenses sort contribution think charles b kramer attorney 72600.2026@compuserve.com tel 212 254 5093 end*the etexts*ver.04.29.93*end volume i chapter woodhouse handsome clever rich comfortable home happy disposition seemed unite blessings existence had lived nearly twenty years very little distress vex her she was youngest daughters affectionate indulgent father consequence sister's marriage been mistress his house early period mother died ago indistinct remembrance caresses place supplied excellent woman governess fallen short affection sixteen miss taylor mr woodhouse's family friend fond particularly between them intimacy sisters ceased nominal office mildness temper hardly allowed impose restraint shadow authority being passed living together mutually attached doing just liked esteeming taylor's judgment directed chiefly real evils indeed emma's situation power having rather much well herself disadvantages threatened alloy enjoyments danger present unperceived did rank misfortunes sorrow came gentle shape disagreeable consciousness married loss brought grief wedding beloved sat mournful thought continuance over bride people gone left dine prospect third cheer evening composed himself sleep after dinner usual sit lost event promise happiness weston man unexceptionable character easy fortune suitable age pleasant manners satisfaction considering self denying generous friendship always wished promoted match black morning's felt recalled past kindness taught played five old devoted powers attach amuse health nursed various illnesses childhood large debt gratitude owing intercourse seven equal footing perfect unreserve soon followed isabella's yet dearer tenderer recollection companion few possessed intelligent informed useful knowing ways interested concerns peculiarly pleasure scheme hers whom could speak arose never bear change true going half mile aware great difference mrs advantages natural domestic suffering solitude dearly loved he meet conversation rational playful evil actual disparity ages increased constitution habits valetudinarian life activity mind body older though everywhere friendliness heart amiable talents recommended him sister comparatively removed matrimony settled london miles off beyond daily reach october november struggled hartfield christmas visit isabella husband children fill society again highbury populous village almost amounting town spite lawn shrubberies name really belong afforded equals woodhouses looked acquaintance universally civil accepted lieu melancholy sigh impossible till awoke necessary cheerful spirits support nervous easily depressed hating origin reconciled daughter's marrying nor compassion entirely obliged selfishness able suppose feel differently disposed done sad thing deal happier spent rest smiled chatted cheerfully thoughts tea say exactly said poor pity papa good humoured thoroughly deserves wife live my odd humours where advantage times dear shall coming meeting begin am far randalls distance walk nobody walking carriage james put horses while weston's stable talked night because housemaid doubt whether anywhere else hannah mentioned glad lucky slighted upon account make servant pretty spoken girl opinion whenever curtseys asks me manner needlework observe turns lock door bangs comfort somebody goes daughter hearing spared exertions maintain flow ideas hoped help backgammon tolerably attacked regrets table placed visitor immediately afterwards walked unnecessary knightley sensible eight thirty intimate connected elder brother frequent mutual connexions returned late absence brunswick square circumstance animated inquiries answered satisfactorily observed come out call afraid shocking sir beautiful moonlight mild draw back fire found damp dirty catch cold shoes speck quite surprising vast rain rained dreadfully hard breakfast wanted bye joy feeling hurry congratulations hope went behave cried ah tis business possibly regard comes question dependence independence rate especially fanciful troublesome creature playfully head certainly believe sometimes dearest mean horrible idea oh meant myself loves joke another fact faults told agreeable knew suspect knows flatter reflection persons chances gainer willing let pass hear behaved charmingly punctual looks tear face seen apart bears sorry lose thinks turned divided tears smiles acceptable secure provision therefore pain happily forgotten matter proved marry shook fondly replied matches foretell whatever pray none greatest amusement success widower perfectly constantly occupied wherever spend single alone deathbed others son uncle letting solemn nonsense subject believed met broadway lane began drizzle darted gallantry borrowed umbrellas farmer mitchell's planned blessed leave making supposes endeavour properly delicately endeavouring bring worthy employment young lady's imagine planning saying yourself idle talk merit proud guess triumph cleverer depend merely luck talent quarrel claim drawn pictures nothing visits given encouragements smoothed enough comprehend straightforward hearted unaffected safely manage likely harm interference rejoined understanding silly break one's circle grievously elton whole fitted comfortably shame longer joining hands same shew attention ask dare laughing invite fish chicken chuse six care ii native born respectable generations rising gentility education succeeding become indisposed homely pursuits brothers engaged satisfied social entering militia county embodied captain favourite introduced churchill yorkshire fell love surprized except full pride importance connexion offend command bore proportion estate dissuaded took infinite mortification threw decorum unsuitable ought whose warm sweet goodness spirit resolution pursue refrain unreasonable brother's anger missing luxuries former income still comparison enscombe cease once considered churchills amazing worst bargain poorer child relieved boy softening lingering illness mother's reconciliation kindred offered charge frank decease scruples reluctance supposed overcome considerations wealth seek improve complete became desirable quitted trade established favourable opening concern leisure occupation pleasures eighteen realised competence purchase adjoining longed portionless according wishes friendly begun influence schemes tyrannic youth shaken determination settling sale forward steadily objects view accomplished bought obtained beginning probability greater unhappy secured delightful judging truly pleasantest proof chosen excite choice tacitly uncle's heir avowed adoption assume unlikely father's assistance apprehension aunt capricious governed nature caprice strong affect deservedly saw report fine sufficiently belonging merits prospects common boasts lively curiosity prevailed compliment achieved generally proposed proper dissentient voice perry drank bates strengthened understood occasion morning mention heard says prized course formed pleasing irresistible sense source expression congratulation fortunate regret partial separation cooled ill missed losing hour's ennui companionableness feeble girls energy difficulties privations convenient solitary female circumstances approaching season hindrance spending evenings altogether moments enjoyment apparent taken surprize centre attended giving stay recovering likelihood ceasing weeks alleviation compliments neighbours teased sorrowful cake eat stomach different unwholesome regarded unfit earnestly dissuade vain prevent body's eating pains consulting apothecary gentlemanlike comforts applied acknowledge against bias inclination disagree perhaps unless moderately confirmation newly pair eaten benevolent nerves strange rumour perrys slice iii causes residence measure horror parties terms fortunately parish donwell abbey seat comprehended unfrequently persuasion preferred fancied unequal company scarcely card standing westons liking privilege exchanging vacant blank elegancies drawing room lovely thrown goddard ladies invitation fetched carried hardship grievance widow vicar lady quadrille respect untoward enjoyed uncommon degree popularity neither stood predicament favour superiority atonement frighten hate outward boasted beauty cleverness distinction middle failing universal contented worked wonders quicksighted surrounded simplicity cheerfulness grateful recommendation mine felicity talker suited trivial communications gossip school seminary establishment professed sentences refined combine liberal acquirements elegant morality principles systems enormous screwed vanity honest fashioned boarding reasonable quantity accomplishments sold price sent scramble themselves prodigies goddard's high repute reckoned healthy spot ample garden gave plenty wholesome food run summer winter dressed chilblains wonder train couple church motherly entitled occasional holiday formerly owed neat parlour hung round fancy win sixpences fireside frequently collect sake concerned remedy delighted pleased contriving quiet prosings women fearfully anticipated looking close requesting respectful smith seventeen sight interest gracious dreaded fair mansion harriet several lately raised condition scholar boarder history visible acquired happened admired plump bloom blue eyes light hair regular features sweetness determined continue struck remarkably smith's engaging inconveniently shy unwilling pushing shewing becoming deference seeming pleasantly admitted artlessly impressed appearance superior style deserve encouragement soft graces wasted inferior unworthy parted martin renting farm residing creditably coarse unpolished intimates knowledge elegance detach bad introduce opinions interesting undertaking busy admiring talking listening forming betweens flew unusual supper closed watch ready moved forwards alacrity impulse indifferent credit attentively honours meal recommend minced scalloped oysters urgency guests occasions feelings warfare cloth laid fashion conviction suppers hospitality welcomed visitors grieve basin thin gruel thorough approbation constrain clearing nicer propose venturing eggs egg boiled serle understands boiling hurt bit tart ours apple tarts preserves advise custard glass wine tumbler water satisfactory intentions personage introduction panic humble gratified affability treated actually iv quick decided inviting encouraging telling foreseen shrubbery divisions ground sufficed varied exercise confined ventured summon valuable privileges approved confirmed designs docile totally conceit desiring guided attachment appreciating shewed taste strength convinced granted sentiment distinct independent object basis esteem attempts usefulness parents questions discovered truth penetration chose farther teachers affairs naturally martins mill months describe encouraged talkativeness amused picture beings enjoying youthful exultation martin's parlours upper maid cows alderneys welch cow called drink dozen thinking immediate fancying son's appeared narrative sink forever inspiriting notion meaning led evidently dislike walks merry games dwelt obliging order walnuts shepherd's sing singing flock bid wool spoke blush goose finest sunday asked nash prince richardson sup line yes reads agricultural reports lay window seats cards aloud extracts entertaining wakefield romance forest ride kingston horseback foot raise yeomanry precisely lower creditable 8th june birthday 23rd fortnight day's settle seem probably repent hence men afford beforehand afloat employed stock diligence indoors talks taking scrape acquainted objected follow fit misfortune birth careful associates gentleman's station degrading force firmly permanently advisable marries mere farmer's your's elizabeth educated ignorant vulgar watched fluctuations speech alarming symptoms admirer trusted serious difficulty harriet's side oppose arrangement road respectfully unfeigned survey yards eye robert contrasted gentlemen gained insensible voluntarily noticed gentleness admiration remained minutes kept waiting running smiling flutter compose happening chance towards forgot morrow happen undoubtedly compared entire expect clownish air imagined confess nearer mortified genteel repeatedly specimens bred seeing perceiving wondering awkward abrupt uncouthness wholly unmodulated knightley's compare gentleman plainly carrying speaking silent forty makes grows glaring disgusting loudness coarseness awkwardness becomes passable detestable later solemnly guessing completely gross inattentive appearances profit engrosses forgetting inquire market thriving thrive illiterate disturb remember answer grave displeasure itself elton's held pattern openness quickness bluntness likes humour copied downright commanding suits figure copying sufferable contrary model seems grown design ingratiating softness strikes softer repeated personal praise justice blushed fixed driving palpably probable feared predict equalled plan brain during expediency low fairly doubtful sufficient vicarage deficiency meetings foundation weight efficacy fastidious feature dispense riding conquered v supplying quarrels fight battle yesterday agreeing associate judge feels sex objection hand wants inducement twelve lists regularly neatly arranged alphabetically rule drew fourteen preserved expecting steady submit requiring industry patience subjection stimulate affirm persuade omitting refresh memory feelingly moment added charm senses spoiled cleverest puzzled assured slow diffident cope inherits dependent preparing material matrimonial submitting borne despair grow cross wantonness plague vexation quarter possibilities pretend genius foretelling flatterer worse undesigned ignorance hourly flattery learn presenting inferiority venture gain places belongs uncomfortable mistaken doctrines tend adapt rationally varieties polish anxious lament attempt deny seldom hazle brilliant countenance complexion height firm upright glance hears gives loveliness add personally appears lies dread equally stout confidence kinder truer qualities lead lasting blunder errs angel spleen brings john blind frightened unjust unkind excuse liberty consider somewhat hinting discussion supposing inconvenience apprehended accountable approves province advice remains fate alarmed outcry sincere excited anxiety gently declares cared hereabouts tempt creating slight state assure conceal respecting destiny suspected transition weather surmise vi direction decidedly hesitation assurance hints confident fairest falling scruple praised warmly wanting perception striking improvement proofs growing graceful attractions infinitely grace artlessness admissible contradict gallant decision points principally superadded skilful sighing animation lover seconded sudden likeness leaving stopt naivete sooner exclaimed exquisite possession passion likenesses attempted tolerable disgust delight entreat charming drawings landscapes flowers inimitable pieces raptures delicate difficult peculiarity lines mouth words answering persuaded proposal stand earnest pressing produced portfolio containing portraits finished decide beginnings miniatures lengths pencil crayon colours turn progress music labour sang steadiness approached excellence deceived skill artist musician reputation accomplishment higher deserved spirited companions ecstasies pleases performances capital variety faces study sitting stealth kindest unlike henry bella sheet eager refuse coarser featured mama's sketch fourth baby sleeping sofa cockade nestled down conveniently that's george corner unclosing length pet vowed provoked agreed flattering trouble persuading finish apologised unfavourable forswear husbands wives repeating declaration wait portrait destined honourable mantelpiece blushing attitude presented mixture fidgeting behind watching touch stationing gaze offence elsewhere occurred employ lessen irksomeness listened peace smallest intermission jump charmed displeased encourager discern complaisance throw considerably filling memorial associations promising entreated attending civilities courtesies accompanied rapid continual defended criticism suspecting addressing correct eyebrows eyelashes resemblance effect shade tall presents proportions fore shortening prettily draws doors shawl shoulders tree safe placing touched admirable framed depended doer commissions stirring fogs alert commission executing errand endure desired repetition entreaties assurances frame directions pack ensure safety incommoding mostly fearful incommoded precious deposit tender suit languish principal vii fresh agitated hurried announcing extraordinary longing minute finding parcel besides songs lent contained direct wrote fast ashamed asking connect i'd pressed expectation grammatical composition disgraced language sentiments conveyed writer expressed liberality propriety delicacy paused anxiously forced slowly helped concise diffuse strongly takes pen vigorous certain returning speedily intelligible unequivocal doubts demurs expressions inflicting unbidden prompted write disappointment beg pardon mistake misunderstanding purport wording reserve continued contemplating persevered silence apprehend bewitching powerful hesitate duty hesitating safer graciously occur definition deceive instead confused thoughtfully mechanically twisted waited result impatience hopes suspense approving grieved wavering visited surmised forcibly aghast dreadful escape honour severe pang killed banished conceited conscience opposing censure natured visiting writing consideration consolation offending cares advised protest formation sentence replying tendency brace decisive ungrateful sealed bringing invited tone linen draper refinement teacher envy conquest appear dark attentions tittle tattle hitherto explained cheering rejected softly absent allowing bond street modest mounts horse solace opens introduces diffuses prepossession suspicious imaginations grew stronger viii slept gradually getting bed appropriated judged safest previously defer induced civility ceremony offering answers amusing contrast protracted apologies hesitations rude sun treat invalids privileged stranger substitute entertain walker pace tedious fetch greatcoat likewise seemingly inclined chat voluntary depends improved cured girl's giggle bestow overpower delay gossips tiresome wretches contradiction presently smile reason confidant dropt hint adviser desperately consult considers imprudent speaks plans advising esteemed counsellor detained wretch absolutely inferred refused red indignation simpleton foolish incomprehensible imagines madness clearer admit address loudly calmer asperity infatuation blinds claims relations simple experience wit avail tempered beneath deserts helpmate trust aright cry extreme crossed friend's partiality richest sphere moves degradation illegitimacy level allowance grudged indubitable gentlemen's whoever shift move distaste ambition proceeded disinclined haphazard selfish farthest reply assertion contemptible represent slightingly waiving possesses recommendations ninety nine philosophic fall minds certainty sought chusing consequently nice comprehending readiness highest possess abusing misapply delights bewitches satisfies pick wondered receives perceive unfortunate puff working weak produces mischief expectations offers connecting obscurity prudent disgrace involved mystery parentage revealed greatly teach desperate master's canvassing angry application abide refusal tolerate assistant altered errant sincerity unconcerned habitual opposite unpleasant views secret projects laughed disclaimed sentimentally act unreserved pounds apiece doings abruptly vexed promoting sanction affair provoking exceedingly indistinctness her's adversary's materially cast adequate restoratives staying uneasy man's pleading failure prominent uneasiness woman's justify pretensions observer hastily resentfully inconsiderate attentive war motives effects overcoming prudence originally attend sick clayton park whist club remonstrated shabby player journey enviable bearer conscious rode significantly luckiest agreeableness ix forgiven proceedings justified endeared elegantly sighed visibly remembered furnished utmost latter improving chapters intention easier pleasanter imagination range labouring enlarge comprehension sober facts literary pursuit mental collecting transcribing riddles quarto hot ornamented ciphers trophies literature collections grand scale assisted invention recollect worth putting ended kitty frozen riddle intellects requisition contribute enigmas charades conundrums intently recollections ungallant breathe lips politest puzzles recited charade doth affliction denote destin'd antidote soften heal transcribed security freshness stupidest fellow inspire inspiration piece addressed collection expose deep moment's pause tremor loth examine pomp kings lords earth luxury ease behold monarch seas reverse freedom flown lord sea bends slave reigns thy supply approval beam pondered caught passing puzzling confusion dulness courtship addresses approve epithets justest humph benefit convince crisis observations eagerness kingdom neptune trident mermaid shark syllable mermaids sharks listen court ship cream follows resist concluding pointed completest clear eligibility congratulate confirm alliance embraces articulate arrive acknowledgment verses prologue play motto prose strangest smiths eltons courts pre respective homes sends channel smooth shakespeare passage michaelmas handsomest invitations preached abbots ran front peeped scolded staid arm cole conduct fools phrase rise satisfy nicely studied twelvemonth declining exception intent comparisons cheeks glow rejection committed beaming private divide couplet appropriation ceases poet capacities submitted parts publicity lasts pays tenderest refine betray improperly affix affixed overpowered tribute secrecy pushed proceed souls ridiculous recurrence inquiry dears fairy distinctly explanations complimentary conclusion aye nodded stanza kindled flame deplore hood wink'd aid near approach fatal garrick's christened catherine grandmama nursery easter lawyer inconvenient sadly necessity 28th thankful promises musing accomplish unwelcome submissive affected branch mama eldest chair grandpapa string knife knives grandpapas rough papas boys hardy misbehave sharp tosses ceiling frightful whichever preparation o'clock hero discerned push die ostensible dining promised conditionally thanked disappointing rubber re urged declined bow amiss doubtingly glanced examined smilingly writes effusion honoured replacing proudest parade speeches apt incline laugh indulge sublime charitable detached cottage leading angles broad irregular main abode dwellings rose smartened proprietor slackened observing remark yellow curtains admires intimately hedges gates pools pollards exteriors probabilities class contrive pretence housekeeper message induce tempted recollecting inducements fool husband's formidable image prosing undistinguishing unfastidious relative unmarried poverty celibacy narrow sport candour sour barely perforce illiberal contracted shilling sixpence resources occupations variation carpet affections avoided sensation fear parent warmer blinder nephews nieces niece bates's heaven forbid knightleys fairfax stomacher knit garters grandmother tires death topics superseded compassionate distresses relief counsel purse"
     ]
    },
    {
     "name": "stdout",
     "output_type": "stream",
     "text": [
      " temptations romantic virtue troubles sympathy intelligence sickness remaining impression scene sights trifling creatures vanish hedge tottering footstep slippery stopping wretchedness recall bend trial stability exertion sufferers wretched empty distressing ourselves joined sufferings parley accompany increase footpath imitation stopped lacing boot stooping begged overtaken setting orders pitcher broth acting ahead obligation involuntarily child's theirs around join detail experienced yesterday's cole's stilton cheese north wiltshire butter cellery beet root dessert consoling interests serve quietly pales arrange broke lace dexterously throwing ditch stop acknowledged inability equipped ribband proposition exceed alertness conducting communicated ajar fully incessant practicable lovers windows aspect glory schemed successfully purposely gallantries allusions cautious advances inch hazard believes ingenious device xi superintend quicken measures anticipation reality henceforth prime fortuitous rapidly somehow surry exciting vacation holidays autumn bathing nervously apprehensively forestalling fatigues coachman alarms needless competent maids reaching bustle arrival variously dispersed noise endured respected maternal solicitude ones instantly attendance drinking playing disturbance restless wrapt doating tenderly ties inherited fears wingfield alike benevolence habit profession reserved prevented capable unreasonably reproach perfection worshipping clearness ungracious escaped injuries calmly blindness regardless forbearance peculiarities fidgetiness remonstrance retort bestowed charity properest unsullied cordiality seated shake grievous agrees plaintive hesitated excepting false doubted disengaged forget strike convenience aside advocate misery slighting existed flying henry's kite windy september scarlet fever cobham passes fly exceeding weymouth dated sept madam signed f c coolly finds depending affords bordered sufficiency whence resulted xii disagreement procuring concession quarrelled assist restoration danced aunt's arms unceremoniousness amity sauciness whim dealings discordancies lives lapse understandings example renewing grievances argument bitterly disappointed d'ye succeeded english burying calmness indifference requisite conversable subjects rarely mixing occasionally communicative magistrate curious anecdote field local fail longest attachments drain fence felling destination acre wheat turnips spring corn equality cooler rendered interrupting labours terribly tired unpersuadable article basins ordered discourse south strenuously weakness bella's throat unsafe envious miserable prohibited forgets bilious practice calling attributed embrocation wingfield's applying bateses colds prevalent heavy influenza sickly confound neighbourhood airy vicinity aches palpitations pale turning middling fatigued doctoring coddling graham's intending bailiff scotland prejudice praising accidentally excessively colonel campbell topic discussed similar harmony agitation comments undoubting wholesomeness philippics houses unfortunately failures recent cook hired dangerous shaking fixing ejaculation ear consequences rumination suffice restore relish interval moreover unhealthy mud cromer holds pure lodgings consulted stake travel reached law's breaking coast drugs sarcastic dryness interposition moving langham cut meadows conceive proving maps harsh reflections unconsciously attributing soothing renewal xiii swiftly mornings engagement avoiding denial preference division amounted occupy carriages especial numbers 24th doom feverish sore excluded unavoidable absences representing comfortless advanced invalid carry glowing despatch roast mutton rice pudding hastening describing complaint inflamed heat pulse liable throats alarm infectious putrid risks tranquillised excess remain feed snow interfere hoarse demand previous conceptions impartially vision muttering rejoicing extricated civilly accepting prompt exulting employments dignities duties naming parting assuring news balance overlook moderate negligent slyness astonishment imagining regulate behaviour accordingly ascertain blunders mistakes increasing coldness shrinking punctually motion flakes sky overcharged milder white happiest abroad sacrifice disagreeables drive expressing discontent encounter absurdity snowing folly people's deem thinner clothing defiance shelter dull dismal servants shivering colder rooms assent emulate usually administered travelling complying quarrelsome heroism glasses wrapped arrived step spruce dressing lengthened dress flattered cordial complaints estimable lasted dismay sheepskin precautions contrivances modern fenced guarded breath unpermitted afternoon ha snows seasonable extremely invites snowed se'nnight astonished fires values hospitable select accommodate enter slavery sweep gate xiv joyous disperse related arrangements perplexities uninterrupted communication gratifications oddities enjoy enjoyable engrossed insensibility elbow continually obtruding solicitously avoid internal transfer absurd insufferable zeal effort preserve positively amongst overpowering syllables reviving replete coupled sensations timed appearing polite substance released saddle assented sacrifices january secrets frank's stir issue nodding vagaries whims caprices stone devil wishing undergoing sanguine stands spare blessing instinctive confinement gladly apprehensive delays braithwaites jealousy jealous teazed man_'s decides caution individual nephew owes exercises xv lateness chatty convivial separations augmentation improprieties awake terror perverse infection earnestness chamber learnt concealing inconstancy abominable behaving implore persuasions disorder scrupulous careless nurse catching ulcerated complain assuming offended removing reproof succeed examining opened covered drifting wind prove engagements storm consternation pursuing unfeelingly two's impassable blown bleak confessing lest hurrying impede accommodation contrivance lodged exclamation representation revived blocked adventurous accumulations drifted along shod discussing nowhere whiten clouds coachmen tidings appeased urging recommending brief ring bell rung deposited cool recover carefully discovery darker stept escorted lawfully shut tete suspicions quarters restrain gravity seized demanded violent availing declaring hoping fearing adoring ardent unequalled unexampled resolved seriously apology diffidence professing vainly resolve drunkenness deliver accent boastful amazement drunk elevate confuse protested suspicion injurious slightly acknowledging resumed urgent inebriety presumption fewer struggles politeness witnessed unsteadiness professions dead alive misled sole marking adoration insinuating uppermost joyously interpret confesses error attraction affronted respectably ends misconception inequality supplication swelling resentment emotions zigzags embarrassment indispensable coldly proudly indescribable irritation trembling dangers solicitous perturbation needed separating xvi curled overthrow development blow humiliation mis doubled unmarked dubious jumble thick headed unnecessarily instant indebted start indiscreetly shewn mortifying respects sunk proposals insulted arrogance pretended sighs abundance devise allied aggrandise enrich heiress gradations younger ancient landed inconsiderable notch belonged secondary alliances raving incongruity honesty complaisant courtesy motive warrant ordinary observation misinterpreted adventuring trick introducing william coxe pert relapse dispiriting cogitation explanation future continuing discontinuing subduing eclat unmirthful blundered temporary gloom analogy operation poignant unclosed softened brighter alleviations disappoint acute retentive principals asunder atmosphere unsettled frost thaw unfriendly freeze prisoner excuses absenting confine wise seclusion cleared amiableness hanging xvii lamentations doated innocently feminine ceremonious proposing bath compliance regretted impossibility retain commands agreeably announced pointedly solemnity acknowledgments lonely promptitude recovered undergo penance destroy industriously feeding grossly convictions prophecies confession renewed blaming testifying ingenuousness lowly modesty attaching abundantly artless dignity console resemble welfare minded discreet repressing promote unvarying striving inadequate sympathise extinction composure routine betraying maintained non resolutely inevitable strive unrequited evident persisting removal effecting cooling moderation repellent wound cure xviii distant occurs proportionate depression flies begins restored foresaw suffer suffered churchill's temptation announce gala ending perceived arguments unnatural luxurious contrived master tempers conceived limb amount "
     ]
    },
    {
     "name": "stdout",
     "output_type": "stream",
     "text": [
      "rid idlest haunts watering proves unfair interior chuses manoeuvring finessing vigour messages rightly simply opposition situations loud shifts expedients meanly exerting hearts principle consistently bending knack unmanageable transported obedience observance burst nought roused opposed yielding notions expert flourishing falsehoods hit preserving preventing singular doubly omission signified behindhand french aimable plausible treasure virtues throughout parishes powered chattering coxcomb farming enable require breathing king practised politician conduce display dispensing flatteries puppy prejudiced month's sins presumed imperfection contributing scanty counteract waste floor sized apartment cordially knitting warmest thanks beaufet coles ceremonies ball commendation handsomely wander mistresses misses jumped usher dancing inquiring unexpected eagerly hunting huswife hid apologise fills crosses hetty checker ma'am pore amazingly god spectacles fairfax's handwriting beautifully nobody's deaf jane's twice pondering meanwhile deafness raising remarkable deafer friday saturday tuesday wednesday campbells ireland dixon impatient kingdoms countries declare dixon's press dublin baly craig blame animating insidious excused accompanying joint backward whirling sails dashed presence prefers devoting wisely 7th hang considerate unwell holyhead monday flurry drawback poorly unlucky bless guard story glancing detain regained orphan lieut regiment infantry fame save dying action sinking consumption fondling engrafted officer deserving camp saved england guest fondness campbell's educating appointments subsistence hereafter discipline culture lighter masters abilities nineteen qualified instruction sharing judicious sobering suggestions remind unseen unfelt unabated defies eligibly bread earn fortitude novitiate retire retained wiser resisted relinquished compatible weakened varying human discharged truths double treble recovery welcoming novelty accusation refuted examination acquit eternal fuss reasons imputed magnified injured depreciating fat likeliest grey lashes denied skin cavil colour fuller reigning admire twofold complacency rendering determining entitling started pitiable seduced actions mischievous suggested successless sucking poison sharer purest resolving effectually career laborious recantation prejudices relapsing provocations reappeared description ate exhibitions caps workbags offences necessarily affectation greatness performance cloak disgustingly suspiciously dixons bent insight suitableness smoothness delineated distinguished artifice surmises changing procure forgive provocation openly papers swept entertained undone instrument grandmother's indulgence deficient muffin handed arch arises discretion perseverance appease porker loin leg pork steaks fried grease hind salted salt boils turnip carrot parsnip hither quickest bountiful sound bonnet spencer patty salting pan washing kitchen hawkins desires regards oppress lot goodly heritage sly precise neighbour joyfully absorbing starting appeal standard pew wonderings worn whispered discoveries aspired lets chatter humouredly talkative runs strictly shower lamented strangers detaining rush heated thither evidence corresponding unchecked pour gown ford's woollen haberdasher's shop dealt fainted umbrella buyings whispering tremble can't courage stables floated kindly sincerely wounded genuine disturbed discerning exerted trifle rejoice subordination learned serviceable deadening shock retaining seeking condescension dies hawkins's circulate christian series debased deeply gay caring defying augusta thousands l thereabouts rapidity distinguishing glorious steps accidental rencontre green's brown's blushes richly scattered sweetly congratulated fearless cautiously preparations pique pretension spread inseparably moral lesson profitable administer lessened solicitudes awkwardnesses individually vaunted disdain attainable uncertain blood bristol merchant mercantile hazarded guessed drudge stupid grandeur alas vacancies reappearance glimpse somewhere shoulder favouring warmth conjecture perpetually furniture invariable irritated ceaseless repetitions hat entertainment waverings variations predominated unhappiness dared driven dissipate occasioned absolute neglect ingratitude determine formal drove applications recurrences glossed stars trunk rev philip lifted butcher's cart coaches gravel espalier trees revive portion summons unattended solitarily merest commonplace measured pencilled marks memorandums wainscot shortness thankfully justly resent separated process refreshment leaned murmurs commonest accosted oxford dry resisting quieter reanimation exhausted route sparkling unconscious innocent injunction amendment mounted wore sluggish augur geography tranquillity faithful pupil eleven soliloquy downstairs overcareful fidgets clock hall midst liveliness earlier quicker creep faster needs presume admirably falsehood handled exaggeration horsewoman rides balls musical proportionably fathers reception wisest conferred thanking qualify extravagant acquiescence detected exemption foreseeing objecting treachery nights unmixed crown hay errands yours barnes mixed concurrence fashionable ordinarily gifted tongue hearty puddle sees hop permitted nod engage companionably constant bearing construction amends hyperbolical securing confessed oftener quest positive insincere inn post built sashed contemplate capabilities environs furnish particulars argued prevail inclinations inelegance holding cheap facing recollected successful preparatory betrayed utter deplorable defence hue peculiar disputing attends informs citizen buy sell gloves patriotism adored popular guinea sleek tied parcels men's beavers york tan displaying counter amor patriae stretch pronounce commit claiming discreetly leaves conclude hesitatingly plays vouchsafed sensibility sounds recur oneself stupidity improper quickly checking scenes outwardly critical wickedness prone idolized repulsive quality oftentimes conquering perpetual cautiousness pitied shared blockhead accommodations inevitably inroads housekeeper's butler's pantry willingly freak chaise foppery accord rationality unselfish extravagance restlessness heedlessness charges blot marked harshly leniently allowances excesses bowed bows newspaper hum instant's relieve provoke bearers opportune occurrence unpretending unexpensively yielded larger insult accounting assembled consisting dance bare acted owned solicited folding screen draught persuadable briefly neglecting numerous resigned dews desirous incumbent lessening allay deliberately treatment decline breaks person's mortify reminding touches malt liquor risk hurting piquet hungry butler concealed unspent undaunted moralised impudent handle gloried achievement ostentation evasions defend vanities inference failings propensity amply noticing helping slices practise plentiful owner bravado unconcern taller nonsensical strongest dexterity unobjectionable male cox's females politics surrender pleasantness remote relating pianoforte dialogue ensued broadwood's bewildered rejoiced delightfully instruments slap pitifullest spinet indulging entrapped nay untouched testifies acuteness mode elderly guide extend reflect privation february march cases adopt noble honestly accident overboard vessel consequent durable observable interrupted courses orderly dish injure unconvinced reasonings giver paternal amid everyday remarks jokes entree exult blooming heartily unsentimental pangs shedding purchased guilt dwelling pedal unsuspicious heroine's en passant divined restrained hated cox abundant despise questioned visitings reasonably retirement boast across rousing outree curls irish improvidently distinguish soul thoughtful assisting humane humanity unostentatious disinterested consent amazed supplanted imprudence revolts mad sheep library shameful haunting petticoat petticoats mimic divert irritate louder drown mysteriously lamenting reproached sign combated gaining yield limitations perform accompaniment song correctly duly accused roundly asserted resign vocal instrumental sung voices momentary interruptions objections subside injury deduction touchstone conveying cutting disinclination dwell surprizes enhanced oath fatigue falls indignantly touching mercy concert performers originating space dances waltz top dancer mustered rarity suddenness matched partner languid dignified repaid splendour transgressed submission unfeignedly unequivocally idleness vigorously comforted lamp sunshine valued execution italian coxes producing dined anne impertinently"
     ]
    },
    {
     "name": "stdout",
     "output_type": "stream",
     "text": [
      " swayed muslins traffic busiest stray obstinate mule liveliest butcher tray tidy homewards basket curs quarrelling bone dawdling baker's eyeing gingerbread enlarged knocked shopping fidget palatable wretchedest reward muslin figured ribbon ford job fastening rivet saunders hindered chimney sweeping mistress's baked apples wallis wallises uncivil custom eats gets fruit dumplings dumpling oblige ribbons ye wrist medley fasten exceeds fondest closet baking sack orchard famous shocked larkins distressed bushel bake boil hodges sacks signify remainder unluckily upstairs narration pursued desultory staircase narrower deprived slumbering deedily livelihood silversmith uninterruptedly unevenness wedging emotion bars feebly discrimination pronounced notes prize broadwood whisper random instrument's indefinite contingencies conveniences conjectures workmen tongues labourers conjecturing restoring healed waltzes worlds tune coloured cramer melodies shews compunction apparently cherishing reprehensible key robin adair shortly descried casement d commandingly listeners scepticism deliberating store watches instances successively accrue felicities wicked aids pacing dimensions discovering largest readiest undertook reckoning portioning gilberts gilbert cousins speculation score wild thoughtless inconsiderately resorted deemed endeavoured magnificent demurred crowd gravely measuring art willed forgave purposes certified terrors waits exchange repeat explain representations aired inhabited bodies surely curtain sash complains stokes undertakes carefulness measles wrap perry's council forlorn candlelight clean exchanged nonsenses perplexity ballroom's voted selves draughts miserably crowded sandwiches scouted infamous fraud briskly stairs chief properer brisk minor lights trifles approver fro suggesting overhearing term feasible proceeding uncertainty prosperous affording noisy larkins's week's aimed indignant reprobating joyful urge nephew's unwillingness forwarded repugnance finale exclaim reflected total redeem dejection horrid seize destroyed doubtfully surpass consciously argumentative forerunner forcing reflecting embarrassed completed incapable procrastinating correspond correspondent constancy listlessness weariness thing's insipid oddest mourners triumphant contradicted opportunities woeful odious headache impute unbecoming languor dialogues inventing imaginary quit struggle foresee replies negatives allusion denotes inexcusable supposition build changeable perusal undervalued exterior attractive precision flourishes keenly restraints unadorned wreath lowest adieus gratifying stimulative folded unchanged subsequent clothed advantageous speculations confirming behalf latest disappearance attained ringing soothings ingenuity convincing submissively painful exert violence tenderness beat clearest sighted invaluable names changes devotion retreated vexatious shorten unpretty permit hasty witty clothes bashfulness affectedly composedly shine familiar maple grove suckling's grounds favourably entrance appealed astonishingly exclaiming reminded transplanted strikingly laurels profusion bench enchanted extensive attack dyed overrated beauties counties silenced exploring explore barouche landau preferable suckling explored king's attract proverb selina stuck paling mix unknown waters wonderful secluded host partridge resided impolite auspices dashing reproofs outrage changed precedes performer doatingly passionately devoid mediocre e accustomed smaller spacious apartments outstepped pardoned concerts establish weekly allies jeffereys clara milmans bird cooper enumerate fright wins affirmative gentlewoman e.'s caro sposo upstart airs underbred finery bosom diverted glibly departure hurts remiss neglected avowedly lending baits breeding retract interview presuming enliven congratulating commend unimpeded sneering conjugal colouring enmity disrespect broader vent contemptuous solicitation plea befriend forfeited knight errantry rave ladylike flower fragrance desert verified calm timid timidity prepossessing wright partake housekeeping eligible wear conciliating punishment merited protection heavens dares ing limits licentiousness paradings exclusively decorated guidance patroness meditated guileless worthies affable condescending astonishing penury professedly midsummer pressingly exist refusing inflicted decree issued puzzle quits condemn reproachful faint gratify dictated pronouns thou plainest implanted awes treats comparative littleness irresolute buttons leather gaiters pressure reverie wittier calls appellation vulgarity consents weighs faith deed insulting detailing permanent accuse sensibilities controul alluded conversed triumphantly flowed apprehending dissipated dinners rout cakes ice tables candles unbroken packs waiters refreshments exposed pitiful stipulation bottom deciding eighth accounts begging stricken relates professional ninth immaterial reluctant unexpectedly summoned devote pearls wet saves drops count situated curse outlived imply concentrated quivering lip claimed mildest urbanity plants stockings remonstrances patiently persuasively cough fetches obviate insuperable needlessly grandmama's regularity regulated deciphered increases clerks improves capacity served prevails teaches teaching roundabout vindicated base aspersion desk specimen employing dryly fetching encountered expedition mails tongue's abstained engross repressed april candidates cousin bragge infinity wax schoolroom bragge's dispose july inexperience amuses unemployed offices flesh intellect fling abolition widely victims advertising mortifications entitle harp stipulate honourably gaily beau quaint disgusts selina's trimmed ornaments minority show trimming silver poplin reassembled judges mute finishing sleety finger prolong shrugged confers subdued audible fluently weighing observant overheard interruption precedent fellows southward sixty complained conservatory constitutions grant antagonist incredible nicety travels sheets precaution land interposed beheld disclaiming clifton stationary retired immense plantation desponding untowardly mend hymen's saffron robe dispel gloomy cheerfuller disappointments coughing mentioning genial cheerless prodigy implicitly injustice traits instigator wife's indolent helpless insolence inclines churchill'd mighty upstarts annoyance tupman encumbered west birmingham direful tupmans happens nearest resident worry comprised spoil physic preclude encumbrance witness gaieties goings heretofore unnoticed dissipation fare subsided entangled anticipating tranquil influenced stories fluttered belief group trusting randall's wilful declared weaker medicine richmond medical eminent appreciate indisputable manchester obstacle morrows lightened sanguinely arriving contents desire closely inspection confidantes heartedness modes privy councillors proprieties graciousness qualifying candidly puppyism puppies tolerated chained expeditious gestures movements excellently lighted aladdin's olive feet drop mat here's transformation complacently hairdresser dr hughes where's richard otway caroline arthur roasted coffee complimented patient styles praises drowned suspension tones disapprove frown interfered rub festivity standers classing players pretending rubbers bulky forms row ballroom criticising flirtation recordable events productive dancers sauntering sitters maintaining omit significant glances arranging glee cruel bounded hardened audibly goodnatured spoon tippet begs nailed quantities matting biscuits throws inquired partners forestall queen fricassee sweetbread asparagus dishes soup smells irresistibly reprobation unpardonable rudeness wounding enemies scold flatterers leads lazy asleep impertinence ruin satisfactions suddenly enabled harbour quickened freshened demands iron leaning faints bickerton shaded elms patch greensward gipsies scream steep bank cramp mount powerless terrified trampers courageous assailed clamorous impertinent tempting gang demanding conditioning insolent delayed scissors clinging adventure coldest steadiest linguist grammarian mathematician imaginist foresight groundwork chancing rescue mania partially fervour clung impelled passive concealment night's trembled indisposition invent operations dwindled tenaciously slightest recital seriousness reserves gifts treasures unfolded tunbridge ware lined softest cotton plaister penknife jumping relic pocket senseless tricks secretly pulling memorandum beer brewing treasuring burn remembrances gipsy undesignedly minute's debate dealing speed results veneration inexpressible henceforward obstacles kissed connivance sucklings defeat unison indiscretion void remembering cowper twilight dreamt dream dreamer dreaming premature "
     ]
    },
    {
     "name": "stdout",
     "output_type": "stream",
     "text": [
      "heap absurdities dreams pop preceded suppressed circular pembroke meals alphabets quietness game pointing buried exultingly proclaimed cheek lain involvement disingenuousness vehicle deeper distrust blinded demure sedate excessive darting covert averted closing preconceived unexamined dusk sting imparted fruitless twentieth expressive vouchsafe essay arisen staggered prolonged wheres hows gaiety coolness fed speedy importation novelties stores interchange restricted eventually introductions hill picnic surprise acceded arrear severity goodwill secures pigeon pies lamb lame useable stagnation vexations strawberries ripening plainer strawberry beds cabbage carte blanche delegating preferment authorised humourist baskets pink gardens gather meat inspect anything spurn donkey donkeys purchasing dust dirt dusty borrow blunt specious lurking horrors upbraid credulity unasked dispensed bright mid al fresco listener sympathiser viewed building characteristic sheltered stretching washed stream timber rows avenues rooted covering rambling untainted unexceptionably indulged apparatus gathering sorts hautboy eatable hautboys scarce chili wood flavour cultivation gardeners delicious cherries currants refreshing overhear circles spheres ranks negative insisted morrow's pertinacity insensibly avenue limes river wall pillars erection disputable termination slope steeper abruptness curve verdure oppressive scorned appendages prosperity pastures spreading flocks blossom column smoke ascending agriculture mare repast ponds clover damps stirred engravings drawers medals cameos corals shells cabinets methodical plot lime wearied quitting endurance st mark's venice blameless seizure intolerable defined humanely hotter relented discomposed swisserland sketches tour poem climate prescribed penetrating hardships thwarted madeira par crosser crossness concluded final exclude acceptance punctuality officiating travelled union harmonise collation enlivened admission estimation flirted laying playfulness winning commanded overcame broken bounds management dating unanswerable lowering impudence accents swell mickleham dorking rouse presides swelled presiding carelessly brunt emphatically chaperon mutterings murmured unheard waives verse engages shan't mock conundrum reckon alphabet m em ma gratification explains acrostic vivacity rued confederates oppression educate undertake excepted referring overtake car pitch merriment depart questionable assorted unfeeling generosity honouring irksome blended prevalence liberties badly infant advancing motionless combined reproaching sullenness brutal fagged misspent abhorred gammon sweetest unmerited confiding scornful contrition penitence conferring deriving ridicule ushered escaping volubility twinkling dispersing lie knock ungenerous smallridge indefatigable smallridge's fatiguing bragges salary sums earned abdy's clerk ridden rheumatic gout joints john's ostler accumulation ostler's messenger tom astonish houseroom pensive meditations graver carries heightened instantaneous movement undecided dilatory unfinished diverting disagreeableness disturbing background hasten foreboded departed surviving goldsmith stoops disliked acquitted fancifulness mourning moralising hems commiseration earliest awe rested benefited freed guidable refrained endanger maintenance communicating funeral windsor lavished testify verbal headaches deranged appetite pulmonary undertaken derived tremulous airing classed niece's diet nourishing distasteful arrowroot despatched wandering peremptorily inconsistency reprove unaccountable hush sacred relate undesirable agony inspired otways abhor resuming averting conversations believing utterance protestation darling persevering placidity misunderstandings expressly impropriety integrity adherence transaction indelicacy extenuations excusable system secresy vault undue survive hypocrisy deceit espionage league duped comparing intreat deviation their's world's condolence briskness palliate tormenting constituted deepest dupe misconceptions prophetically disservice guilty risking insufficient insignificance rival repulsed rack storeroom disengage elevation engrossing communicate token recently disclosure unable owning perplexed privately cautioned stoutly misunderstood assert protecting modestly withdrawn silently meditating arrow indelicate irrational demerits enquired forfeit counsels tremblings unsteady threatening perplexing inward delivered feebleness tautology corroborating latterly closest agreement unsuspected relation multiplied undiscerned occurrences enquiring alluding bitter intentionally worship footsteps spontaneous amidst rushed deceptions practising posture weakly imposed imposing involuntary latter's institute delusion sorrowfully threadbare stale debasement sneers inconveniences captivated inconsistent incongruous sequel stoop worldly inexpressibly wilfully impartiality overrating incompatible wretchedly frightfully decisively confidential waking elect essential engagement's rapturous affecting converse effusions pent energetic uttered attestation consented misconduct expiation contributed inquietudes captious irritable unanswered closer foolishly harboured unpardonably levity carelessness surrounding enemy stabbed stormy shrubs despoiling hartfield's erroneous deserted forebodings dispelled brightened ruined tie losses seconds loneliness reign smell serenity intimation unquestionably do's constrained pained doomed scoundrel steadier clemency sets ingeniously underrated calculation vouches disinterestedness purity mortals meets gains weary envied avert startled unsaid confide reconcile indecision alternative ungraciously contemplation refer awakened blamed lectured velocity groundless discouragement attendant render sublimity vouchsafing flight astray despaired crushed disguised relenting soothe enchanting enlightened witnessing differing inferiorities brilliancy stayed gladness keen faultless villain daring respite western plotting breast lungs impending articles contentment sleepless wept sin divested streets shops stolen literally figuratively reinstate deprecated waded packet forwarding enclosed preface nervousness ungenial east w rises hazards discuss caviller brick casements creation bursts obtaining correspondence inheriting inheritance lands absented reprehension excites dropped indicated goodhumoured expiration penetrated extenuation sinned acquittal brotherly queernesses designedly suppress insane encroach unseasonableness 26th ult shrunk retrospect shamefully blameable disapproved dissatisfaction consistent objectionable particularity consenting useless officious filled hatred extended bandied repentance dissolved multiplicity locked stating adding misconstrued subordinate conveyance requested stared accordant descriptive threaten raved wan dictate undoubted subscribe foretold another's impartial distrusted disapprobation fathomed intrigue finesse pervert boyish contend suffers thanker tens inconsideration thoughtlessness acquire attacking inadmissibility transplantation evinced sacrificing unprovided expectant saucy detecting contemplated outweigh periods cheerlessness involve loser worshipped reproaches usage bordering desirableness stroke resorting tooth dentist haunted enduring appointed agitating similarity unsuccessfully checked expedient compress congratulatory accounted penetrate fold purple gold reticule nods admits mum an't minister managed palpable physician cloud commonly whispers magistrates overseers churchwardens crayons applicants bar consultation denoted smallness patronage solidity insinuate greeted dutiful sample broiling fields woods protesting indignity eccentric harry sideboard receipt william's aggression wearying collectedly disgusted owe artificial sons sports freaks fancies la baronne d'almane comtesse d'ostalis madame de genlis adelaide theodore infancy bitterness spoilt endeavours lecture dint thirteen anna fits terseness k n womanly follies attribute corresponded unmentioned enters complimenter differ oppressed unprepared bound affectionately marriages secondly feigning singularly renounced disposing impediment shifted knee outgrown familiarise sagacity disagreements habitation daringly abused agitate composing flushed intends recourse workbasket chambers astley's coach overflowing broadly respectability misunderstand shows cattle drills ox emphasis brightest utility james's disappearing lessons humility circumspection thankfulness resolutions doleful heartfelt disguise equivocation hateful gayest conniving figures stays embarrassing forgiving doat forbade transgression northward accession archly dog tricking mirth readier dispositions bids gesture inclining jewels ornament infant's commended disordered partly obtrude entertainingly regarding completion xix intervals unbiased presumptuous fullest unqualified unintelligible tradesman decent vouch stain unbleached nobility liberally created gradual impair clergyman altar intermediate fortnight's seaside sounded hopeless resignation acquiesced befriended illumination"
     ]
    },
    {
     "name": "stdout",
     "output_type": "stream",
     "text": [
      " poultry robbed turkeys pilfering housebreaking protected weddings detailed satin veils stare deficiencies predictions band finis "
     ]
    }
   ],
   "source": [
    "words = process_file('words.txt')\n",
    "diff = subtract(hist, words)\n",
    "\n",
    "print(\"Words in the book that aren't in the words list:\")\n",
    "for word in diff:\n",
    "    print(word, end=' ')"
   ]
  },
  {
   "cell_type": "code",
   "execution_count": 61,
   "metadata": {},
   "outputs": [],
   "source": [
    "def random_word(h):\n",
    "    t = []\n",
    "    for word, freq in h.items():\n",
    "        t.extend([word] * freq)\n",
    "    return random.choice(t)"
   ]
  },
  {
   "cell_type": "code",
   "execution_count": 64,
   "metadata": {},
   "outputs": [
    {
     "data": {
      "text/plain": [
       "'of'"
      ]
     },
     "execution_count": 64,
     "metadata": {},
     "output_type": "execute_result"
    }
   ],
   "source": [
    "rwords= random_word(hist)\n",
    "rwords"
   ]
  },
  {
   "cell_type": "code",
   "execution_count": 66,
   "metadata": {},
   "outputs": [
    {
     "data": {
      "text/plain": [
       "'frozen'"
      ]
     },
     "execution_count": 66,
     "metadata": {},
     "output_type": "execute_result"
    }
   ],
   "source": [
    "rwords= random_word(hist)\n",
    "rwords"
   ]
  },
  {
   "cell_type": "code",
   "execution_count": 67,
   "metadata": {},
   "outputs": [],
   "source": [
    "def shift(prefix, word):\n",
    "    return prefix[1:] + (word,)"
   ]
  },
  {
   "cell_type": "code",
   "execution_count": 70,
   "metadata": {},
   "outputs": [
    {
     "data": {
      "text/plain": [
       "('varun', 'karan', 'teja')"
      ]
     },
     "execution_count": 70,
     "metadata": {},
     "output_type": "execute_result"
    }
   ],
   "source": [
    "prefix=('tarun','varun','karan')\n",
    "name= shift(prefix, 'teja')\n",
    "name"
   ]
  },
  {
   "cell_type": "code",
   "execution_count": 71,
   "metadata": {},
   "outputs": [
    {
     "data": {
      "text/plain": [
       "24"
      ]
     },
     "execution_count": 71,
     "metadata": {},
     "output_type": "execute_result"
    }
   ],
   "source": [
    "fout = open('words.txt', 'w')\n",
    "line1 = \"This here's the wattle,\\n\"\n",
    "fout.write(line1)"
   ]
  },
  {
   "cell_type": "code",
   "execution_count": 72,
   "metadata": {},
   "outputs": [
    {
     "data": {
      "text/plain": [
       "24"
      ]
     },
     "execution_count": 72,
     "metadata": {},
     "output_type": "execute_result"
    }
   ],
   "source": [
    "line2 = \"the emblem of our land.\\n\"\n",
    "fout.write(line2)"
   ]
  },
  {
   "cell_type": "code",
   "execution_count": 73,
   "metadata": {},
   "outputs": [
    {
     "data": {
      "text/plain": [
       "14"
      ]
     },
     "execution_count": 73,
     "metadata": {},
     "output_type": "execute_result"
    }
   ],
   "source": [
    "line3 = \"It is the end\\n\"\n",
    "fout.write(line3)"
   ]
  },
  {
   "cell_type": "code",
   "execution_count": 74,
   "metadata": {},
   "outputs": [],
   "source": [
    "fout.close()"
   ]
  },
  {
   "cell_type": "code",
   "execution_count": 75,
   "metadata": {},
   "outputs": [],
   "source": [
    "fout = open('words.txt', 'w')"
   ]
  },
  {
   "cell_type": "code",
   "execution_count": 76,
   "metadata": {},
   "outputs": [
    {
     "data": {
      "text/plain": [
       "2"
      ]
     },
     "execution_count": 76,
     "metadata": {},
     "output_type": "execute_result"
    }
   ],
   "source": [
    "x = 52\n",
    "fout.write(str(x))"
   ]
  },
  {
   "cell_type": "code",
   "execution_count": 77,
   "metadata": {},
   "outputs": [
    {
     "data": {
      "text/plain": [
       "'42'"
      ]
     },
     "execution_count": 77,
     "metadata": {},
     "output_type": "execute_result"
    }
   ],
   "source": [
    "camels = 42\n",
    "'%d' % camels"
   ]
  },
  {
   "cell_type": "code",
   "execution_count": 78,
   "metadata": {},
   "outputs": [
    {
     "data": {
      "text/plain": [
       "'I have spotted 42 camels.'"
      ]
     },
     "execution_count": 78,
     "metadata": {},
     "output_type": "execute_result"
    }
   ],
   "source": [
    "'I have spotted %d camels.' % camels"
   ]
  },
  {
   "cell_type": "code",
   "execution_count": 79,
   "metadata": {},
   "outputs": [
    {
     "data": {
      "text/plain": [
       "'In 3 years I have spotted 0.1 camels.'"
      ]
     },
     "execution_count": 79,
     "metadata": {},
     "output_type": "execute_result"
    }
   ],
   "source": [
    "'In %d years I have spotted %g %s.' % (3, 0.1, 'camels')"
   ]
  },
  {
   "cell_type": "code",
   "execution_count": 80,
   "metadata": {},
   "outputs": [
    {
     "ename": "TypeError",
     "evalue": "not enough arguments for format string",
     "output_type": "error",
     "traceback": [
      "\u001b[1;31m---------------------------------------------------------------------------\u001b[0m",
      "\u001b[1;31mTypeError\u001b[0m                                 Traceback (most recent call last)",
      "\u001b[1;32m<ipython-input-80-4a97654d37a9>\u001b[0m in \u001b[0;36m<module>\u001b[1;34m\u001b[0m\n\u001b[1;32m----> 1\u001b[1;33m \u001b[1;34m'%d %d %d'\u001b[0m \u001b[1;33m%\u001b[0m \u001b[1;33m(\u001b[0m\u001b[1;36m1\u001b[0m\u001b[1;33m,\u001b[0m \u001b[1;36m2\u001b[0m\u001b[1;33m)\u001b[0m\u001b[1;33m\u001b[0m\u001b[1;33m\u001b[0m\u001b[0m\n\u001b[0m",
      "\u001b[1;31mTypeError\u001b[0m: not enough arguments for format string"
     ]
    }
   ],
   "source": [
    "'%d %d %d' % (1, 2)"
   ]
  },
  {
   "cell_type": "code",
   "execution_count": 81,
   "metadata": {},
   "outputs": [
    {
     "ename": "TypeError",
     "evalue": "%d format: a number is required, not str",
     "output_type": "error",
     "traceback": [
      "\u001b[1;31m---------------------------------------------------------------------------\u001b[0m",
      "\u001b[1;31mTypeError\u001b[0m                                 Traceback (most recent call last)",
      "\u001b[1;32m<ipython-input-81-f60b471c8eff>\u001b[0m in \u001b[0;36m<module>\u001b[1;34m\u001b[0m\n\u001b[1;32m----> 1\u001b[1;33m \u001b[1;34m'%d'\u001b[0m \u001b[1;33m%\u001b[0m \u001b[1;34m'dollars'\u001b[0m\u001b[1;33m\u001b[0m\u001b[1;33m\u001b[0m\u001b[0m\n\u001b[0m",
      "\u001b[1;31mTypeError\u001b[0m: %d format: a number is required, not str"
     ]
    }
   ],
   "source": [
    "'%d' % 'dollars'"
   ]
  },
  {
   "cell_type": "code",
   "execution_count": 82,
   "metadata": {},
   "outputs": [
    {
     "data": {
      "text/plain": [
       "'C:\\\\Users\\\\varun'"
      ]
     },
     "execution_count": 82,
     "metadata": {},
     "output_type": "execute_result"
    }
   ],
   "source": [
    "import os\n",
    "cwd = os.getcwd()\n",
    "cwd"
   ]
  },
  {
   "cell_type": "code",
   "execution_count": 83,
   "metadata": {},
   "outputs": [
    {
     "data": {
      "text/plain": [
       "'C:\\\\Users\\\\varun\\\\memo.txt'"
      ]
     },
     "execution_count": 83,
     "metadata": {},
     "output_type": "execute_result"
    }
   ],
   "source": [
    "os.path.abspath('memo.txt')"
   ]
  },
  {
   "cell_type": "code",
   "execution_count": 84,
   "metadata": {},
   "outputs": [
    {
     "data": {
      "text/plain": [
       "False"
      ]
     },
     "execution_count": 84,
     "metadata": {},
     "output_type": "execute_result"
    }
   ],
   "source": [
    "os.path.exists('memo.txt')"
   ]
  },
  {
   "cell_type": "code",
   "execution_count": 85,
   "metadata": {},
   "outputs": [
    {
     "data": {
      "text/plain": [
       "True"
      ]
     },
     "execution_count": 85,
     "metadata": {},
     "output_type": "execute_result"
    }
   ],
   "source": [
    "os.path.exists('words.txt')"
   ]
  },
  {
   "cell_type": "code",
   "execution_count": 86,
   "metadata": {},
   "outputs": [
    {
     "data": {
      "text/plain": [
       "False"
      ]
     },
     "execution_count": 86,
     "metadata": {},
     "output_type": "execute_result"
    }
   ],
   "source": [
    "os.path.isdir('memo.txt')"
   ]
  },
  {
   "cell_type": "code",
   "execution_count": 87,
   "metadata": {},
   "outputs": [
    {
     "data": {
      "text/plain": [
       "True"
      ]
     },
     "execution_count": 87,
     "metadata": {},
     "output_type": "execute_result"
    }
   ],
   "source": [
    "os.path.isdir('C:\\\\Users\\\\varun')"
   ]
  },
  {
   "cell_type": "code",
   "execution_count": 88,
   "metadata": {},
   "outputs": [
    {
     "data": {
      "text/plain": [
       "['.anaconda',\n",
       " '.atom',\n",
       " '.bash_history',\n",
       " '.conda',\n",
       " '.condarc',\n",
       " '.config',\n",
       " '.gitconfig',\n",
       " '.hyper.js',\n",
       " '.hyper_plugins',\n",
       " '.ipynb_checkpoints',\n",
       " '.ipython',\n",
       " '.jupyter',\n",
       " '.matplotlib',\n",
       " '.node_repl_history',\n",
       " '.spyder-py3',\n",
       " '.viminfo',\n",
       " '3D Objects',\n",
       " 'Anaconda3',\n",
       " 'AppData',\n",
       " 'Application Data',\n",
       " 'Contacts',\n",
       " 'Cookies',\n",
       " 'Desktop',\n",
       " 'Documents',\n",
       " 'Downloads',\n",
       " 'emma.txt',\n",
       " 'Favorites',\n",
       " 'HP',\n",
       " 'IntelGraphicsProfiles',\n",
       " 'Links',\n",
       " 'Local Settings',\n",
       " 'MicrosoftEdgeBackups',\n",
       " 'Mudumba_selfstudy2.ipynb',\n",
       " 'Music',\n",
       " 'My Documents',\n",
       " 'myfile.txt',\n",
       " 'NetHood',\n",
       " 'NTUSER.DAT',\n",
       " 'ntuser.dat.LOG1',\n",
       " 'ntuser.dat.LOG2',\n",
       " 'NTUSER.DAT{8ebe95f7-3dcb-11e8-a9d9-7cfe90913f50}.TM.blf',\n",
       " 'NTUSER.DAT{8ebe95f7-3dcb-11e8-a9d9-7cfe90913f50}.TMContainer00000000000000000001.regtrans-ms',\n",
       " 'NTUSER.DAT{8ebe95f7-3dcb-11e8-a9d9-7cfe90913f50}.TMContainer00000000000000000002.regtrans-ms',\n",
       " 'ntuser.ini',\n",
       " 'OneDrive',\n",
       " 'PrintHood',\n",
       " 'Python scripts',\n",
       " 'Recent',\n",
       " 'Roaming',\n",
       " 'Saved Games',\n",
       " 'Searches',\n",
       " 'SendTo',\n",
       " 'Start Menu',\n",
       " 'SteamSetup.exe',\n",
       " 'Templates',\n",
       " 'Videos',\n",
       " 'words.txt']"
      ]
     },
     "execution_count": 88,
     "metadata": {},
     "output_type": "execute_result"
    }
   ],
   "source": [
    "os.listdir(cwd)"
   ]
  },
  {
   "cell_type": "code",
   "execution_count": 92,
   "metadata": {},
   "outputs": [
    {
     "name": "stdout",
     "output_type": "stream",
     "text": [
      "C:words.txt\n"
     ]
    }
   ],
   "source": [
    "def walk(dirname):\n",
    "    for name in os.listdir(dirname):\n",
    "        path = os.path.join(dirname, name)\n",
    "    if os.path.isfile(path):\n",
    "        print(path)\n",
    "    else:\n",
    "        walk(path)\n",
    "walk('C:')"
   ]
  },
  {
   "cell_type": "code",
   "execution_count": 93,
   "metadata": {},
   "outputs": [
    {
     "ename": "FileNotFoundError",
     "evalue": "[Errno 2] No such file or directory: 'bad_file'",
     "output_type": "error",
     "traceback": [
      "\u001b[1;31m---------------------------------------------------------------------------\u001b[0m",
      "\u001b[1;31mFileNotFoundError\u001b[0m                         Traceback (most recent call last)",
      "\u001b[1;32m<ipython-input-93-a7d7d7ad396b>\u001b[0m in \u001b[0;36m<module>\u001b[1;34m\u001b[0m\n\u001b[1;32m----> 1\u001b[1;33m \u001b[0mfin\u001b[0m \u001b[1;33m=\u001b[0m \u001b[0mopen\u001b[0m\u001b[1;33m(\u001b[0m\u001b[1;34m'bad_file'\u001b[0m\u001b[1;33m)\u001b[0m\u001b[1;33m\u001b[0m\u001b[1;33m\u001b[0m\u001b[0m\n\u001b[0m",
      "\u001b[1;31mFileNotFoundError\u001b[0m: [Errno 2] No such file or directory: 'bad_file'"
     ]
    }
   ],
   "source": [
    "fin = open('bad_file')"
   ]
  },
  {
   "cell_type": "code",
   "execution_count": 98,
   "metadata": {},
   "outputs": [
    {
     "ename": "PermissionError",
     "evalue": "[Errno 13] Permission denied: 'C:'",
     "output_type": "error",
     "traceback": [
      "\u001b[1;31m---------------------------------------------------------------------------\u001b[0m",
      "\u001b[1;31mPermissionError\u001b[0m                           Traceback (most recent call last)",
      "\u001b[1;32m<ipython-input-98-75c6fbdda3d4>\u001b[0m in \u001b[0;36m<module>\u001b[1;34m\u001b[0m\n\u001b[1;32m----> 1\u001b[1;33m \u001b[0mfin\u001b[0m \u001b[1;33m=\u001b[0m \u001b[0mopen\u001b[0m\u001b[1;33m(\u001b[0m\u001b[1;34m'C:'\u001b[0m\u001b[1;33m)\u001b[0m\u001b[1;33m\u001b[0m\u001b[1;33m\u001b[0m\u001b[0m\n\u001b[0m",
      "\u001b[1;31mPermissionError\u001b[0m: [Errno 13] Permission denied: 'C:'"
     ]
    }
   ],
   "source": [
    "fin = open('C:')"
   ]
  },
  {
   "cell_type": "code",
   "execution_count": 99,
   "metadata": {},
   "outputs": [
    {
     "name": "stdout",
     "output_type": "stream",
     "text": [
      "Something went wrong.\n"
     ]
    }
   ],
   "source": [
    "try:\n",
    "    fin = open('bad_file')\n",
    "except:\n",
    "    print('Something went wrong.')"
   ]
  },
  {
   "cell_type": "code",
   "execution_count": 100,
   "metadata": {},
   "outputs": [],
   "source": [
    "import dbm\n",
    "db = dbm.open('captions', 'c')"
   ]
  },
  {
   "cell_type": "code",
   "execution_count": 101,
   "metadata": {},
   "outputs": [],
   "source": [
    "db['cleese.png'] = 'Photo of John Cleese.'"
   ]
  },
  {
   "cell_type": "code",
   "execution_count": 102,
   "metadata": {},
   "outputs": [
    {
     "data": {
      "text/plain": [
       "b'Photo of John Cleese.'"
      ]
     },
     "execution_count": 102,
     "metadata": {},
     "output_type": "execute_result"
    }
   ],
   "source": [
    "db['cleese.png']"
   ]
  },
  {
   "cell_type": "code",
   "execution_count": 103,
   "metadata": {},
   "outputs": [
    {
     "data": {
      "text/plain": [
       "b'Photo of John Cleese doing a silly walk.'"
      ]
     },
     "execution_count": 103,
     "metadata": {},
     "output_type": "execute_result"
    }
   ],
   "source": [
    "db['cleese.png'] = 'Photo of John Cleese doing a silly walk.'\n",
    "db['cleese.png']"
   ]
  },
  {
   "cell_type": "code",
   "execution_count": 104,
   "metadata": {},
   "outputs": [
    {
     "name": "stdout",
     "output_type": "stream",
     "text": [
      "b'cleese.png' b'Photo of John Cleese doing a silly walk.'\n"
     ]
    }
   ],
   "source": [
    "for key in db:\n",
    "    print(key, db[key])"
   ]
  },
  {
   "cell_type": "code",
   "execution_count": 105,
   "metadata": {},
   "outputs": [],
   "source": [
    "db.close()"
   ]
  },
  {
   "cell_type": "code",
   "execution_count": 106,
   "metadata": {},
   "outputs": [
    {
     "data": {
      "text/plain": [
       "b'\\x80\\x03]q\\x00(K\\x01K\\x02K\\x03e.'"
      ]
     },
     "execution_count": 106,
     "metadata": {},
     "output_type": "execute_result"
    }
   ],
   "source": [
    "import pickle\n",
    "t = [1, 2, 3]\n",
    "pickle.dumps(t)"
   ]
  },
  {
   "cell_type": "code",
   "execution_count": 107,
   "metadata": {},
   "outputs": [
    {
     "data": {
      "text/plain": [
       "[1, 2, 3]"
      ]
     },
     "execution_count": 107,
     "metadata": {},
     "output_type": "execute_result"
    }
   ],
   "source": [
    "t1 = [1, 2, 3]\n",
    "s = pickle.dumps(t1)\n",
    "t2 = pickle.loads(s)\n",
    "t2"
   ]
  },
  {
   "cell_type": "code",
   "execution_count": 108,
   "metadata": {},
   "outputs": [
    {
     "data": {
      "text/plain": [
       "True"
      ]
     },
     "execution_count": 108,
     "metadata": {},
     "output_type": "execute_result"
    }
   ],
   "source": [
    "t1 == t2"
   ]
  },
  {
   "cell_type": "code",
   "execution_count": 109,
   "metadata": {},
   "outputs": [
    {
     "data": {
      "text/plain": [
       "False"
      ]
     },
     "execution_count": 109,
     "metadata": {},
     "output_type": "execute_result"
    }
   ],
   "source": [
    "t1 is t2"
   ]
  },
  {
   "cell_type": "code",
   "execution_count": 110,
   "metadata": {},
   "outputs": [],
   "source": [
    "cmd = 'ls -l'\n",
    "fp = os.popen(cmd)"
   ]
  },
  {
   "cell_type": "code",
   "execution_count": 112,
   "metadata": {},
   "outputs": [
    {
     "data": {
      "text/plain": [
       "''"
      ]
     },
     "execution_count": 112,
     "metadata": {},
     "output_type": "execute_result"
    }
   ],
   "source": [
    "res = fp.read()\n",
    "res"
   ]
  },
  {
   "cell_type": "code",
   "execution_count": 113,
   "metadata": {},
   "outputs": [
    {
     "name": "stdout",
     "output_type": "stream",
     "text": [
      "1\n"
     ]
    }
   ],
   "source": [
    "stat = fp.close()\n",
    "print(stat)"
   ]
  },
  {
   "cell_type": "code",
   "execution_count": 120,
   "metadata": {},
   "outputs": [],
   "source": [
    "filename = 'book.tex'\n",
    "cmd = 'md5sum ' + filename\n",
    "fp = os.popen(cmd)\n",
    "x1 = fp.read()\n",
    "stat = fp.close()"
   ]
  },
  {
   "cell_type": "code",
   "execution_count": 121,
   "metadata": {},
   "outputs": [
    {
     "name": "stdout",
     "output_type": "stream",
     "text": [
      "\n"
     ]
    }
   ],
   "source": [
    "print()"
   ]
  },
  {
   "cell_type": "code",
   "execution_count": 124,
   "metadata": {},
   "outputs": [
    {
     "name": "stdout",
     "output_type": "stream",
     "text": [
      "17077\n"
     ]
    }
   ],
   "source": [
    "def linecount(filename):\n",
    "    count = 0\n",
    "    for line in open(filename):\n",
    "        count += 1\n",
    "    return count\n",
    "print(linecount('emma.txt'))"
   ]
  },
  {
   "cell_type": "code",
   "execution_count": 132,
   "metadata": {},
   "outputs": [
    {
     "name": "stdout",
     "output_type": "stream",
     "text": [
      "1 2\t 3\n",
      " 4\n"
     ]
    }
   ],
   "source": [
    "s = '1 2\\t 3\\n 4'\n",
    "print(s)"
   ]
  },
  {
   "cell_type": "code",
   "execution_count": 133,
   "metadata": {},
   "outputs": [
    {
     "name": "stdout",
     "output_type": "stream",
     "text": [
      "'1 2\\t 3\\n 4'\n"
     ]
    }
   ],
   "source": [
    "print(repr(s))"
   ]
  },
  {
   "cell_type": "code",
   "execution_count": 135,
   "metadata": {},
   "outputs": [],
   "source": [
    "class Point:\n",
    "    \"\"\"Represents a point in 2-D space.\"\"\""
   ]
  },
  {
   "cell_type": "code",
   "execution_count": 136,
   "metadata": {},
   "outputs": [
    {
     "data": {
      "text/plain": [
       "__main__.Point"
      ]
     },
     "execution_count": 136,
     "metadata": {},
     "output_type": "execute_result"
    }
   ],
   "source": [
    "Point"
   ]
  },
  {
   "cell_type": "code",
   "execution_count": 137,
   "metadata": {},
   "outputs": [
    {
     "data": {
      "text/plain": [
       "<__main__.Point at 0x1ba829d04a8>"
      ]
     },
     "execution_count": 137,
     "metadata": {},
     "output_type": "execute_result"
    }
   ],
   "source": [
    "blank = Point()\n",
    "blank"
   ]
  },
  {
   "cell_type": "code",
   "execution_count": 138,
   "metadata": {},
   "outputs": [],
   "source": [
    "blank.x = 3.0\n",
    "blank.y = 4.0"
   ]
  },
  {
   "cell_type": "code",
   "execution_count": 139,
   "metadata": {},
   "outputs": [
    {
     "data": {
      "text/plain": [
       "4.0"
      ]
     },
     "execution_count": 139,
     "metadata": {},
     "output_type": "execute_result"
    }
   ],
   "source": [
    "blank.y"
   ]
  },
  {
   "cell_type": "code",
   "execution_count": 140,
   "metadata": {},
   "outputs": [
    {
     "data": {
      "text/plain": [
       "3.0"
      ]
     },
     "execution_count": 140,
     "metadata": {},
     "output_type": "execute_result"
    }
   ],
   "source": [
    "x= blank.x\n",
    "x"
   ]
  },
  {
   "cell_type": "code",
   "execution_count": 141,
   "metadata": {},
   "outputs": [
    {
     "data": {
      "text/plain": [
       "'(3, 4)'"
      ]
     },
     "execution_count": 141,
     "metadata": {},
     "output_type": "execute_result"
    }
   ],
   "source": [
    "'(%g, %g)' % (blank.x, blank.y)"
   ]
  },
  {
   "cell_type": "code",
   "execution_count": 143,
   "metadata": {},
   "outputs": [
    {
     "data": {
      "text/plain": [
       "5.0"
      ]
     },
     "execution_count": 143,
     "metadata": {},
     "output_type": "execute_result"
    }
   ],
   "source": [
    "import math\n",
    "distance = math.sqrt(blank.x**2 + blank.y**2)\n",
    "distance"
   ]
  },
  {
   "cell_type": "code",
   "execution_count": 144,
   "metadata": {},
   "outputs": [],
   "source": [
    "def print_point(p):\n",
    "    print('(%g, %g)' % (p.x, p.y))"
   ]
  },
  {
   "cell_type": "code",
   "execution_count": 145,
   "metadata": {},
   "outputs": [
    {
     "name": "stdout",
     "output_type": "stream",
     "text": [
      "(3, 4)\n"
     ]
    }
   ],
   "source": [
    "print_point(blank)"
   ]
  },
  {
   "cell_type": "code",
   "execution_count": 148,
   "metadata": {},
   "outputs": [],
   "source": [
    "class Rectangle:\n",
    "    \"\"\"Represents a rectangle.\n",
    "    attributes: width, height, corner.\n",
    "    \"\"\""
   ]
  },
  {
   "cell_type": "code",
   "execution_count": 149,
   "metadata": {},
   "outputs": [],
   "source": [
    "box = Rectangle()\n",
    "box.width = 100.0\n",
    "box.height = 200.0\n",
    "box.corner = Point()\n",
    "box.corner.x = 0.0\n",
    "box.corner.y = 0.0"
   ]
  },
  {
   "cell_type": "code",
   "execution_count": 150,
   "metadata": {},
   "outputs": [
    {
     "data": {
      "text/plain": [
       "<__main__.Rectangle at 0x1ba82633c50>"
      ]
     },
     "execution_count": 150,
     "metadata": {},
     "output_type": "execute_result"
    }
   ],
   "source": [
    "box"
   ]
  },
  {
   "cell_type": "code",
   "execution_count": 152,
   "metadata": {},
   "outputs": [],
   "source": [
    "def find_center(rect):\n",
    "    p = Point()\n",
    "    p.x = rect.corner.x + rect.width/2\n",
    "    p.y = rect.corner.y + rect.height/2\n",
    "    return p"
   ]
  },
  {
   "cell_type": "code",
   "execution_count": 153,
   "metadata": {},
   "outputs": [
    {
     "name": "stdout",
     "output_type": "stream",
     "text": [
      "(50, 100)\n"
     ]
    }
   ],
   "source": [
    "center = find_center(box)\n",
    "print_point(center)"
   ]
  },
  {
   "cell_type": "code",
   "execution_count": 154,
   "metadata": {},
   "outputs": [],
   "source": [
    "box.width = box.width + 50\n",
    "box.height = box.height + 100"
   ]
  },
  {
   "cell_type": "code",
   "execution_count": 155,
   "metadata": {},
   "outputs": [],
   "source": [
    "def grow_rectangle(rect, dwidth, dheight):\n",
    "    rect.width += dwidth\n",
    "    rect.height += dheight"
   ]
  },
  {
   "cell_type": "code",
   "execution_count": 156,
   "metadata": {},
   "outputs": [
    {
     "data": {
      "text/plain": [
       "(150.0, 300.0)"
      ]
     },
     "execution_count": 156,
     "metadata": {},
     "output_type": "execute_result"
    }
   ],
   "source": [
    "box.width, box.height"
   ]
  },
  {
   "cell_type": "code",
   "execution_count": 157,
   "metadata": {},
   "outputs": [
    {
     "data": {
      "text/plain": [
       "(200.0, 400.0)"
      ]
     },
     "execution_count": 157,
     "metadata": {},
     "output_type": "execute_result"
    }
   ],
   "source": [
    "grow_rectangle(box, 50, 100)\n",
    "box.width, box.height"
   ]
  },
  {
   "cell_type": "code",
   "execution_count": 158,
   "metadata": {},
   "outputs": [],
   "source": [
    "p1 = Point()\n",
    "p1.x = 3.0\n",
    "p1.y = 4.0"
   ]
  },
  {
   "cell_type": "code",
   "execution_count": 159,
   "metadata": {},
   "outputs": [],
   "source": [
    "import copy\n",
    "p2 = copy.copy(p1)"
   ]
  },
  {
   "cell_type": "code",
   "execution_count": 160,
   "metadata": {},
   "outputs": [
    {
     "name": "stdout",
     "output_type": "stream",
     "text": [
      "(3, 4)\n"
     ]
    }
   ],
   "source": [
    "print_point(p1)"
   ]
  },
  {
   "cell_type": "code",
   "execution_count": 161,
   "metadata": {},
   "outputs": [
    {
     "name": "stdout",
     "output_type": "stream",
     "text": [
      "(3, 4)\n"
     ]
    }
   ],
   "source": [
    "print_point(p2)"
   ]
  },
  {
   "cell_type": "code",
   "execution_count": 162,
   "metadata": {},
   "outputs": [
    {
     "data": {
      "text/plain": [
       "False"
      ]
     },
     "execution_count": 162,
     "metadata": {},
     "output_type": "execute_result"
    }
   ],
   "source": [
    "p1 is p2"
   ]
  },
  {
   "cell_type": "code",
   "execution_count": 166,
   "metadata": {},
   "outputs": [],
   "source": [
    "p3 = Point()\n",
    "p3.x = 3.0\n",
    "p3.y = 4.0"
   ]
  },
  {
   "cell_type": "code",
   "execution_count": 167,
   "metadata": {},
   "outputs": [
    {
     "data": {
      "text/plain": [
       "False"
      ]
     },
     "execution_count": 167,
     "metadata": {},
     "output_type": "execute_result"
    }
   ],
   "source": [
    "p1 is p3"
   ]
  },
  {
   "cell_type": "code",
   "execution_count": 168,
   "metadata": {},
   "outputs": [
    {
     "data": {
      "text/plain": [
       "False"
      ]
     },
     "execution_count": 168,
     "metadata": {},
     "output_type": "execute_result"
    }
   ],
   "source": [
    "p1 == p2"
   ]
  },
  {
   "cell_type": "code",
   "execution_count": 169,
   "metadata": {},
   "outputs": [
    {
     "data": {
      "text/plain": [
       "False"
      ]
     },
     "execution_count": 169,
     "metadata": {},
     "output_type": "execute_result"
    }
   ],
   "source": [
    "p1 == p3"
   ]
  },
  {
   "cell_type": "code",
   "execution_count": 170,
   "metadata": {},
   "outputs": [
    {
     "data": {
      "text/plain": [
       "False"
      ]
     },
     "execution_count": 170,
     "metadata": {},
     "output_type": "execute_result"
    }
   ],
   "source": [
    "box2 = copy.copy(box)\n",
    "box2 is box"
   ]
  },
  {
   "cell_type": "code",
   "execution_count": 171,
   "metadata": {},
   "outputs": [
    {
     "data": {
      "text/plain": [
       "True"
      ]
     },
     "execution_count": 171,
     "metadata": {},
     "output_type": "execute_result"
    }
   ],
   "source": [
    "box2.corner is box.corner"
   ]
  },
  {
   "cell_type": "code",
   "execution_count": 172,
   "metadata": {},
   "outputs": [
    {
     "data": {
      "text/plain": [
       "False"
      ]
     },
     "execution_count": 172,
     "metadata": {},
     "output_type": "execute_result"
    }
   ],
   "source": [
    "box3 = copy.deepcopy(box)\n",
    "box3 is box"
   ]
  },
  {
   "cell_type": "code",
   "execution_count": 173,
   "metadata": {},
   "outputs": [
    {
     "data": {
      "text/plain": [
       "False"
      ]
     },
     "execution_count": 173,
     "metadata": {},
     "output_type": "execute_result"
    }
   ],
   "source": [
    "box3.corner is box.corner"
   ]
  },
  {
   "cell_type": "code",
   "execution_count": 174,
   "metadata": {},
   "outputs": [
    {
     "ename": "AttributeError",
     "evalue": "'Point' object has no attribute 'z'",
     "output_type": "error",
     "traceback": [
      "\u001b[1;31m---------------------------------------------------------------------------\u001b[0m",
      "\u001b[1;31mAttributeError\u001b[0m                            Traceback (most recent call last)",
      "\u001b[1;32m<ipython-input-174-7ffb705a99ef>\u001b[0m in \u001b[0;36m<module>\u001b[1;34m\u001b[0m\n\u001b[0;32m      2\u001b[0m \u001b[0mp\u001b[0m\u001b[1;33m.\u001b[0m\u001b[0mx\u001b[0m \u001b[1;33m=\u001b[0m \u001b[1;36m3\u001b[0m\u001b[1;33m\u001b[0m\u001b[1;33m\u001b[0m\u001b[0m\n\u001b[0;32m      3\u001b[0m \u001b[0mp\u001b[0m\u001b[1;33m.\u001b[0m\u001b[0my\u001b[0m \u001b[1;33m=\u001b[0m \u001b[1;36m4\u001b[0m\u001b[1;33m\u001b[0m\u001b[1;33m\u001b[0m\u001b[0m\n\u001b[1;32m----> 4\u001b[1;33m \u001b[0mp\u001b[0m\u001b[1;33m.\u001b[0m\u001b[0mz\u001b[0m\u001b[1;33m\u001b[0m\u001b[1;33m\u001b[0m\u001b[0m\n\u001b[0m",
      "\u001b[1;31mAttributeError\u001b[0m: 'Point' object has no attribute 'z'"
     ]
    }
   ],
   "source": [
    "p = Point()\n",
    "p.x = 3\n",
    "p.y = 4\n",
    "p.z"
   ]
  },
  {
   "cell_type": "code",
   "execution_count": 175,
   "metadata": {},
   "outputs": [
    {
     "data": {
      "text/plain": [
       "__main__.Point"
      ]
     },
     "execution_count": 175,
     "metadata": {},
     "output_type": "execute_result"
    }
   ],
   "source": [
    "type(p)"
   ]
  },
  {
   "cell_type": "code",
   "execution_count": 176,
   "metadata": {},
   "outputs": [
    {
     "data": {
      "text/plain": [
       "True"
      ]
     },
     "execution_count": 176,
     "metadata": {},
     "output_type": "execute_result"
    }
   ],
   "source": [
    "isinstance(p, Point)"
   ]
  },
  {
   "cell_type": "code",
   "execution_count": 177,
   "metadata": {},
   "outputs": [
    {
     "data": {
      "text/plain": [
       "True"
      ]
     },
     "execution_count": 177,
     "metadata": {},
     "output_type": "execute_result"
    }
   ],
   "source": [
    "hasattr(p, 'x')"
   ]
  },
  {
   "cell_type": "code",
   "execution_count": 178,
   "metadata": {},
   "outputs": [
    {
     "data": {
      "text/plain": [
       "False"
      ]
     },
     "execution_count": 178,
     "metadata": {},
     "output_type": "execute_result"
    }
   ],
   "source": [
    "hasattr(p, 'z')"
   ]
  },
  {
   "cell_type": "code",
   "execution_count": 188,
   "metadata": {},
   "outputs": [],
   "source": [
    "def atr(p, x):\n",
    "    try:\n",
    "        x = p.x\n",
    "    except AttributeError:\n",
    "        x = 0\n",
    "    print(x)"
   ]
  },
  {
   "cell_type": "code",
   "execution_count": 190,
   "metadata": {},
   "outputs": [
    {
     "name": "stdout",
     "output_type": "stream",
     "text": [
      "3\n"
     ]
    }
   ],
   "source": [
    "atr(p,'x')"
   ]
  },
  {
   "cell_type": "code",
   "execution_count": 192,
   "metadata": {},
   "outputs": [],
   "source": [
    "class Time:\n",
    "    \"\"\"Represents the time of day.\n",
    "    attributes: hour, minute, second\n",
    "    \"\"\""
   ]
  },
  {
   "cell_type": "code",
   "execution_count": 193,
   "metadata": {},
   "outputs": [],
   "source": [
    "time = Time()\n",
    "time.hour = 11\n",
    "time.minute = 59\n",
    "time.second = 30"
   ]
  },
  {
   "cell_type": "code",
   "execution_count": 194,
   "metadata": {},
   "outputs": [],
   "source": [
    "def add_time(t1, t2):\n",
    "    sum = Time()\n",
    "    sum.hour = t1.hour + t2.hour\n",
    "    sum.minute = t1.minute + t2.minute\n",
    "    sum.second = t1.second + t2.second\n",
    "    return sum"
   ]
  },
  {
   "cell_type": "code",
   "execution_count": 198,
   "metadata": {},
   "outputs": [],
   "source": [
    "start = Time()\n",
    "start.hour = 9\n",
    "start.minute = 45\n",
    "start.second = 0\n",
    "duration = Time()\n",
    "duration.hour = 1\n",
    "duration.minute = 35\n",
    "duration.second = 0\n",
    "done = add_time(start, duration)"
   ]
  },
  {
   "cell_type": "code",
   "execution_count": 212,
   "metadata": {},
   "outputs": [
    {
     "name": "stdout",
     "output_type": "stream",
     "text": [
      "10 : 80 : 0\n"
     ]
    }
   ],
   "source": [
    "def print_time(t):\n",
    "    print(t.hour,':',t.minute,':',t.second)\n",
    "print_time(done)"
   ]
  },
  {
   "cell_type": "code",
   "execution_count": 213,
   "metadata": {},
   "outputs": [],
   "source": [
    "def add_time(t1, t2):\n",
    "    sum = Time()\n",
    "    sum.hour = t1.hour + t2.hour\n",
    "    sum.minute = t1.minute + t2.minute\n",
    "    sum.second = t1.second + t2.second\n",
    "    \n",
    "    if sum.second >= 60:\n",
    "        sum.second -= 60\n",
    "        sum.minute += 1\n",
    "        \n",
    "    if sum.minute >= 60:\n",
    "        sum.minute -= 60\n",
    "        sum.hour += 1\n",
    "    \n",
    "    return sum"
   ]
  },
  {
   "cell_type": "code",
   "execution_count": 217,
   "metadata": {},
   "outputs": [
    {
     "name": "stdout",
     "output_type": "stream",
     "text": [
      "11 : 20 : 0\n"
     ]
    }
   ],
   "source": [
    "s= add_time(start, duration)\n",
    "print_time(s)"
   ]
  },
  {
   "cell_type": "code",
   "execution_count": 219,
   "metadata": {},
   "outputs": [],
   "source": [
    "def time_to_int(time):\n",
    "    minutes = time.hour * 60 + time.minute\n",
    "    seconds = minutes * 60 + time.second\n",
    "    return seconds"
   ]
  },
  {
   "cell_type": "code",
   "execution_count": 221,
   "metadata": {},
   "outputs": [
    {
     "data": {
      "text/plain": [
       "35100"
      ]
     },
     "execution_count": 221,
     "metadata": {},
     "output_type": "execute_result"
    }
   ],
   "source": [
    "s = time_to_int(start)\n",
    "s"
   ]
  },
  {
   "cell_type": "code",
   "execution_count": 222,
   "metadata": {},
   "outputs": [],
   "source": [
    "def int_to_time(seconds):\n",
    "    time = Time()\n",
    "    minutes, time.second = divmod(seconds, 60)\n",
    "    time.hour, time.minute = divmod(minutes, 60)\n",
    "    return time"
   ]
  },
  {
   "cell_type": "code",
   "execution_count": 225,
   "metadata": {},
   "outputs": [
    {
     "name": "stdout",
     "output_type": "stream",
     "text": [
      "24 : 0 : 0\n"
     ]
    }
   ],
   "source": [
    "s1= int_to_time(86400)\n",
    "print_time(s1)"
   ]
  },
  {
   "cell_type": "code",
   "execution_count": 226,
   "metadata": {},
   "outputs": [],
   "source": [
    "def add_time(t1, t2):\n",
    "    seconds = time_to_int(t1) + time_to_int(t2)\n",
    "    return int_to_time(seconds)"
   ]
  },
  {
   "cell_type": "code",
   "execution_count": 228,
   "metadata": {},
   "outputs": [
    {
     "name": "stdout",
     "output_type": "stream",
     "text": [
      "11 : 20 : 0\n"
     ]
    }
   ],
   "source": [
    "s3= add_time(start, duration)\n",
    "print_time(s3)"
   ]
  },
  {
   "cell_type": "code",
   "execution_count": 229,
   "metadata": {},
   "outputs": [],
   "source": [
    "def valid_time(time):\n",
    "    if time.hour < 0 or time.minute < 0 or time.second < 0:\n",
    "        return False\n",
    "    if time.minute >= 60 or time.second >= 60:\n",
    "        return False\n",
    "    return True"
   ]
  },
  {
   "cell_type": "code",
   "execution_count": 231,
   "metadata": {},
   "outputs": [
    {
     "data": {
      "text/plain": [
       "True"
      ]
     },
     "execution_count": 231,
     "metadata": {},
     "output_type": "execute_result"
    }
   ],
   "source": [
    "valid_time(duration)"
   ]
  },
  {
   "cell_type": "code",
   "execution_count": 232,
   "metadata": {},
   "outputs": [],
   "source": [
    "def add_time(t1, t2):\n",
    "    if not valid_time(t1) or not valid_time(t2):\n",
    "        raise ValueError('invalid Time object in add_time')\n",
    "    seconds = time_to_int(t1) + time_to_int(t2)\n",
    "    return int_to_time(seconds)"
   ]
  },
  {
   "cell_type": "code",
   "execution_count": 233,
   "metadata": {},
   "outputs": [
    {
     "name": "stdout",
     "output_type": "stream",
     "text": [
      "35 : 20 : 0\n"
     ]
    }
   ],
   "source": [
    "s4= add_time(s1, s3)\n",
    "print_time(s4)"
   ]
  },
  {
   "cell_type": "code",
   "execution_count": 234,
   "metadata": {},
   "outputs": [],
   "source": [
    "def add_time(t1, t2):\n",
    "    assert valid_time(t1) and valid_time(t2)\n",
    "    seconds = time_to_int(t1) + time_to_int(t2)\n",
    "    return int_to_time(seconds)"
   ]
  },
  {
   "cell_type": "code",
   "execution_count": 236,
   "metadata": {},
   "outputs": [
    {
     "name": "stdout",
     "output_type": "stream",
     "text": [
      "11 : 20 : 0\n"
     ]
    }
   ],
   "source": [
    "s5=add_time(start, duration)\n",
    "print_time(s5)"
   ]
  },
  {
   "cell_type": "code",
   "execution_count": 237,
   "metadata": {},
   "outputs": [],
   "source": [
    "class Time:\n",
    "    \"\"\"Represents the time of day.\"\"\""
   ]
  },
  {
   "cell_type": "code",
   "execution_count": 238,
   "metadata": {},
   "outputs": [],
   "source": [
    "def print_time(time):\n",
    "    print('%.2d:%.2d:%.2d' % (time.hour, time.minute, time.second))"
   ]
  },
  {
   "cell_type": "code",
   "execution_count": 307,
   "metadata": {},
   "outputs": [
    {
     "name": "stdout",
     "output_type": "stream",
     "text": [
      "09:45:00\n"
     ]
    }
   ],
   "source": [
    "start = Time()\n",
    "start.hour = 9\n",
    "start.minute = 45\n",
    "start.second = 00\n",
    "print_time(start)"
   ]
  },
  {
   "cell_type": "code",
   "execution_count": 240,
   "metadata": {},
   "outputs": [],
   "source": [
    "class Time:\n",
    "    def print_time(time):\n",
    "        print('%.2d:%.2d:%.2d' % (time.hour, time.minute, time.second))"
   ]
  },
  {
   "cell_type": "code",
   "execution_count": 241,
   "metadata": {},
   "outputs": [
    {
     "name": "stdout",
     "output_type": "stream",
     "text": [
      "09:45:00\n"
     ]
    }
   ],
   "source": [
    "Time.print_time(start)"
   ]
  },
  {
   "cell_type": "code",
   "execution_count": 245,
   "metadata": {},
   "outputs": [
    {
     "name": "stdout",
     "output_type": "stream",
     "text": [
      "09:45:00\n"
     ]
    }
   ],
   "source": [
    "start.print_time()"
   ]
  },
  {
   "cell_type": "code",
   "execution_count": 321,
   "metadata": {},
   "outputs": [],
   "source": [
    "class Time:\n",
    "    def print_time(self):\n",
    "        print('%.2d:%.2d:%.2d' % (self.hour, self.minute, self.second))\n",
    "    def time_to_int(time):\n",
    "        minutes = time.hour * 60 + time.minute\n",
    "        seconds = minutes * 60 + time.second\n",
    "        return seconds\n",
    "    def increment(self, seconds):\n",
    "        seconds += self.time_to_int()\n",
    "        return int_to_time(seconds)\n",
    "    \n",
    "    def is_after(self, other):\n",
    "        return self.time_to_int() > other.time_to_int()\n",
    "    \n",
    "    def __init__(self, hour=0, minute=0, second=0):\n",
    "        self.hour = hour\n",
    "        self.minute = minute\n",
    "        self.second = second\n",
    "    def __str__(self):\n",
    "        return '%.2d:%.2d:%.2d' % (self.hour, self.minute, self.second)\n",
    "    def __add__(self, other):\n",
    "        seconds = self.time_to_int() + other.time_to_int()\n",
    "        return int_to_time(seconds)"
   ]
  },
  {
   "cell_type": "code",
   "execution_count": 259,
   "metadata": {},
   "outputs": [
    {
     "name": "stdout",
     "output_type": "stream",
     "text": [
      "09:45:00\n"
     ]
    }
   ],
   "source": [
    "start.print_time()"
   ]
  },
  {
   "cell_type": "code",
   "execution_count": 349,
   "metadata": {},
   "outputs": [
    {
     "name": "stdout",
     "output_type": "stream",
     "text": [
      "10:07:17\n"
     ]
    }
   ],
   "source": [
    "end = start.increment(1337)\n",
    "end.print_time()"
   ]
  },
  {
   "cell_type": "code",
   "execution_count": 294,
   "metadata": {},
   "outputs": [
    {
     "data": {
      "text/plain": [
       "True"
      ]
     },
     "execution_count": 294,
     "metadata": {},
     "output_type": "execute_result"
    }
   ],
   "source": [
    "end.is_after(start)"
   ]
  },
  {
   "cell_type": "code",
   "execution_count": 311,
   "metadata": {},
   "outputs": [],
   "source": [
    "start.__init__(10, 54, 30)"
   ]
  },
  {
   "cell_type": "code",
   "execution_count": 314,
   "metadata": {},
   "outputs": [
    {
     "name": "stdout",
     "output_type": "stream",
     "text": [
      "10:54:30\n"
     ]
    }
   ],
   "source": [
    "start.print_time()"
   ]
  },
  {
   "cell_type": "code",
   "execution_count": 315,
   "metadata": {},
   "outputs": [
    {
     "name": "stdout",
     "output_type": "stream",
     "text": [
      "00:00:00\n"
     ]
    }
   ],
   "source": [
    "time = Time()\n",
    "time.print_time()"
   ]
  },
  {
   "cell_type": "code",
   "execution_count": 316,
   "metadata": {},
   "outputs": [
    {
     "name": "stdout",
     "output_type": "stream",
     "text": [
      "09:00:00\n"
     ]
    }
   ],
   "source": [
    "time = Time (9)\n",
    "time.print_time()"
   ]
  },
  {
   "cell_type": "code",
   "execution_count": 317,
   "metadata": {},
   "outputs": [
    {
     "name": "stdout",
     "output_type": "stream",
     "text": [
      "09:45:00\n"
     ]
    }
   ],
   "source": [
    "time = Time(9, 45)\n",
    "time.print_time()"
   ]
  },
  {
   "cell_type": "code",
   "execution_count": 320,
   "metadata": {},
   "outputs": [
    {
     "name": "stdout",
     "output_type": "stream",
     "text": [
      "09:45:00\n"
     ]
    }
   ],
   "source": [
    "time = Time(9, 45)\n",
    "print(time)"
   ]
  },
  {
   "cell_type": "code",
   "execution_count": 331,
   "metadata": {},
   "outputs": [
    {
     "name": "stdout",
     "output_type": "stream",
     "text": [
      "11:20:00\n"
     ]
    }
   ],
   "source": [
    "start = Time(9, 45)\n",
    "duration = Time(1, 35)\n",
    "print(start + duration)"
   ]
  },
  {
   "cell_type": "code",
   "execution_count": 362,
   "metadata": {},
   "outputs": [],
   "source": [
    "class Time:\n",
    "    def print_time(self):\n",
    "        print('%.2d:%.2d:%.2d' % (self.hour, self.minute, self.second))\n",
    "    def time_to_int(time):\n",
    "        minutes = time.hour * 60 + time.minute\n",
    "        seconds = minutes * 60 + time.second\n",
    "        return seconds\n",
    "    def increment(self, seconds):\n",
    "        seconds += self.time_to_int()\n",
    "        return int_to_time(seconds)\n",
    "    \n",
    "    def is_after(self, other):\n",
    "        return self.time_to_int() > other.time_to_int()\n",
    "    \n",
    "    def __init__(self, hour=0, minute=0, second=0):\n",
    "        self.hour = hour\n",
    "        self.minute = minute\n",
    "        self.second = second\n",
    "    def __str__(self):\n",
    "        return '%.2d:%.2d:%.2d' % (self.hour, self.minute, self.second)\n",
    "    def __add__(self, other):\n",
    "        seconds = self.time_to_int() + other.time_to_int()\n",
    "        return int_to_time(seconds)\n",
    "    \n",
    "    def add_time(self, other):\n",
    "        seconds = self.time_to_int() + other.time_to_int()\n",
    "        return int_to_time(seconds)\n",
    "    def __radd__(self, other):\n",
    "        return self.__add__(other)\n",
    "    def time_to_int(time):\n",
    "        minutes = time.hour * 60 + time.minute\n",
    "        seconds = minutes * 60 + time.second\n",
    "        return seconds"
   ]
  },
  {
   "cell_type": "code",
   "execution_count": 348,
   "metadata": {},
   "outputs": [
    {
     "name": "stdout",
     "output_type": "stream",
     "text": [
      "11:20:00\n"
     ]
    }
   ],
   "source": [
    "start = Time(9, 45)\n",
    "duration = Time(1, 35)\n",
    "print(start + duration)"
   ]
  },
  {
   "cell_type": "code",
   "execution_count": 350,
   "metadata": {},
   "outputs": [
    {
     "name": "stdout",
     "output_type": "stream",
     "text": [
      "19:52:17\n"
     ]
    }
   ],
   "source": [
    "print(start + end)"
   ]
  },
  {
   "cell_type": "code",
   "execution_count": 351,
   "metadata": {},
   "outputs": [],
   "source": [
    "def histogram(s):\n",
    "    d = dict()\n",
    "    for c in s:\n",
    "        if c not in d:\n",
    "            d[c] = 1\n",
    "        else:\n",
    "            d[c] = d[c]+1\n",
    "    return d"
   ]
  },
  {
   "cell_type": "code",
   "execution_count": 352,
   "metadata": {},
   "outputs": [
    {
     "data": {
      "text/plain": [
       "{'spam': 4, 'egg': 1, 'bacon': 1}"
      ]
     },
     "execution_count": 352,
     "metadata": {},
     "output_type": "execute_result"
    }
   ],
   "source": [
    "t = ['spam', 'egg', 'spam', 'spam', 'bacon', 'spam']\n",
    "histogram(t)"
   ]
  },
  {
   "cell_type": "code",
   "execution_count": 353,
   "metadata": {},
   "outputs": [
    {
     "data": {
      "text/plain": [
       "{'varun': 1, 'saran': 1, 'white': 1, 'black': 1}"
      ]
     },
     "execution_count": 353,
     "metadata": {},
     "output_type": "execute_result"
    }
   ],
   "source": [
    "v = ['varun', 'saran', 'white', 'black']\n",
    "histogram(v)"
   ]
  },
  {
   "cell_type": "code",
   "execution_count": 363,
   "metadata": {},
   "outputs": [
    {
     "ename": "AttributeError",
     "evalue": "'int' object has no attribute 'time_to_int'",
     "output_type": "error",
     "traceback": [
      "\u001b[1;31m---------------------------------------------------------------------------\u001b[0m",
      "\u001b[1;31mAttributeError\u001b[0m                            Traceback (most recent call last)",
      "\u001b[1;32m<ipython-input-363-b33b953f4ad2>\u001b[0m in \u001b[0;36m<module>\u001b[1;34m\u001b[0m\n\u001b[0;32m      2\u001b[0m \u001b[0mt2\u001b[0m \u001b[1;33m=\u001b[0m \u001b[0mTime\u001b[0m\u001b[1;33m(\u001b[0m\u001b[1;36m7\u001b[0m\u001b[1;33m,\u001b[0m \u001b[1;36m41\u001b[0m\u001b[1;33m)\u001b[0m\u001b[1;33m\u001b[0m\u001b[1;33m\u001b[0m\u001b[0m\n\u001b[0;32m      3\u001b[0m \u001b[0mt3\u001b[0m \u001b[1;33m=\u001b[0m \u001b[0mTime\u001b[0m\u001b[1;33m(\u001b[0m\u001b[1;36m7\u001b[0m\u001b[1;33m,\u001b[0m \u001b[1;36m37\u001b[0m\u001b[1;33m)\u001b[0m\u001b[1;33m\u001b[0m\u001b[1;33m\u001b[0m\u001b[0m\n\u001b[1;32m----> 4\u001b[1;33m \u001b[0mtotal\u001b[0m \u001b[1;33m=\u001b[0m \u001b[0msum\u001b[0m\u001b[1;33m(\u001b[0m\u001b[1;33m[\u001b[0m\u001b[0mt1\u001b[0m\u001b[1;33m,\u001b[0m \u001b[0mt2\u001b[0m\u001b[1;33m,\u001b[0m \u001b[0mt3\u001b[0m\u001b[1;33m]\u001b[0m\u001b[1;33m)\u001b[0m\u001b[1;33m\u001b[0m\u001b[1;33m\u001b[0m\u001b[0m\n\u001b[0m\u001b[0;32m      5\u001b[0m \u001b[1;31m# print(total)\u001b[0m\u001b[1;33m\u001b[0m\u001b[1;33m\u001b[0m\u001b[1;33m\u001b[0m\u001b[0m\n",
      "\u001b[1;32m<ipython-input-362-7168092e11aa>\u001b[0m in \u001b[0;36m__radd__\u001b[1;34m(self, other)\u001b[0m\n\u001b[0;32m     27\u001b[0m         \u001b[1;32mreturn\u001b[0m \u001b[0mint_to_time\u001b[0m\u001b[1;33m(\u001b[0m\u001b[0mseconds\u001b[0m\u001b[1;33m)\u001b[0m\u001b[1;33m\u001b[0m\u001b[1;33m\u001b[0m\u001b[0m\n\u001b[0;32m     28\u001b[0m     \u001b[1;32mdef\u001b[0m \u001b[0m__radd__\u001b[0m\u001b[1;33m(\u001b[0m\u001b[0mself\u001b[0m\u001b[1;33m,\u001b[0m \u001b[0mother\u001b[0m\u001b[1;33m)\u001b[0m\u001b[1;33m:\u001b[0m\u001b[1;33m\u001b[0m\u001b[1;33m\u001b[0m\u001b[0m\n\u001b[1;32m---> 29\u001b[1;33m         \u001b[1;32mreturn\u001b[0m \u001b[0mself\u001b[0m\u001b[1;33m.\u001b[0m\u001b[0m__add__\u001b[0m\u001b[1;33m(\u001b[0m\u001b[0mother\u001b[0m\u001b[1;33m)\u001b[0m\u001b[1;33m\u001b[0m\u001b[1;33m\u001b[0m\u001b[0m\n\u001b[0m\u001b[0;32m     30\u001b[0m     \u001b[1;32mdef\u001b[0m \u001b[0mtime_to_int\u001b[0m\u001b[1;33m(\u001b[0m\u001b[0mtime\u001b[0m\u001b[1;33m)\u001b[0m\u001b[1;33m:\u001b[0m\u001b[1;33m\u001b[0m\u001b[1;33m\u001b[0m\u001b[0m\n\u001b[0;32m     31\u001b[0m         \u001b[0mminutes\u001b[0m \u001b[1;33m=\u001b[0m \u001b[0mtime\u001b[0m\u001b[1;33m.\u001b[0m\u001b[0mhour\u001b[0m \u001b[1;33m*\u001b[0m \u001b[1;36m60\u001b[0m \u001b[1;33m+\u001b[0m \u001b[0mtime\u001b[0m\u001b[1;33m.\u001b[0m\u001b[0mminute\u001b[0m\u001b[1;33m\u001b[0m\u001b[1;33m\u001b[0m\u001b[0m\n",
      "\u001b[1;32m<ipython-input-362-7168092e11aa>\u001b[0m in \u001b[0;36m__add__\u001b[1;34m(self, other)\u001b[0m\n\u001b[0;32m     20\u001b[0m         \u001b[1;32mreturn\u001b[0m \u001b[1;34m'%.2d:%.2d:%.2d'\u001b[0m \u001b[1;33m%\u001b[0m \u001b[1;33m(\u001b[0m\u001b[0mself\u001b[0m\u001b[1;33m.\u001b[0m\u001b[0mhour\u001b[0m\u001b[1;33m,\u001b[0m \u001b[0mself\u001b[0m\u001b[1;33m.\u001b[0m\u001b[0mminute\u001b[0m\u001b[1;33m,\u001b[0m \u001b[0mself\u001b[0m\u001b[1;33m.\u001b[0m\u001b[0msecond\u001b[0m\u001b[1;33m)\u001b[0m\u001b[1;33m\u001b[0m\u001b[1;33m\u001b[0m\u001b[0m\n\u001b[0;32m     21\u001b[0m     \u001b[1;32mdef\u001b[0m \u001b[0m__add__\u001b[0m\u001b[1;33m(\u001b[0m\u001b[0mself\u001b[0m\u001b[1;33m,\u001b[0m \u001b[0mother\u001b[0m\u001b[1;33m)\u001b[0m\u001b[1;33m:\u001b[0m\u001b[1;33m\u001b[0m\u001b[1;33m\u001b[0m\u001b[0m\n\u001b[1;32m---> 22\u001b[1;33m         \u001b[0mseconds\u001b[0m \u001b[1;33m=\u001b[0m \u001b[0mself\u001b[0m\u001b[1;33m.\u001b[0m\u001b[0mtime_to_int\u001b[0m\u001b[1;33m(\u001b[0m\u001b[1;33m)\u001b[0m \u001b[1;33m+\u001b[0m \u001b[0mother\u001b[0m\u001b[1;33m.\u001b[0m\u001b[0mtime_to_int\u001b[0m\u001b[1;33m(\u001b[0m\u001b[1;33m)\u001b[0m\u001b[1;33m\u001b[0m\u001b[1;33m\u001b[0m\u001b[0m\n\u001b[0m\u001b[0;32m     23\u001b[0m         \u001b[1;32mreturn\u001b[0m \u001b[0mint_to_time\u001b[0m\u001b[1;33m(\u001b[0m\u001b[0mseconds\u001b[0m\u001b[1;33m)\u001b[0m\u001b[1;33m\u001b[0m\u001b[1;33m\u001b[0m\u001b[0m\n\u001b[0;32m     24\u001b[0m \u001b[1;33m\u001b[0m\u001b[0m\n",
      "\u001b[1;31mAttributeError\u001b[0m: 'int' object has no attribute 'time_to_int'"
     ]
    }
   ],
   "source": [
    "t1 = Time(7, 43)\n",
    "t2 = Time(7, 41)\n",
    "t3 = Time(7, 37)\n",
    "total = sum([t1, t2, t3])\n",
    "# print(total)"
   ]
  },
  {
   "cell_type": "code",
   "execution_count": 365,
   "metadata": {},
   "outputs": [
    {
     "data": {
      "text/plain": [
       "{'x': 3, 'y': 4}"
      ]
     },
     "execution_count": 365,
     "metadata": {},
     "output_type": "execute_result"
    }
   ],
   "source": [
    "p = Point()\n",
    "p.x=3\n",
    "p.y=4\n",
    "vars(p)"
   ]
  },
  {
   "cell_type": "code",
   "execution_count": 366,
   "metadata": {},
   "outputs": [],
   "source": [
    "def print_attributes(obj):\n",
    "    for attr in vars(obj):\n",
    "        print(attr, getattr(obj, attr))"
   ]
  },
  {
   "cell_type": "code",
   "execution_count": 367,
   "metadata": {},
   "outputs": [
    {
     "name": "stdout",
     "output_type": "stream",
     "text": [
      "x 3\n",
      "y 4\n"
     ]
    }
   ],
   "source": [
    "print_attributes(p)"
   ]
  },
  {
   "cell_type": "code",
   "execution_count": 368,
   "metadata": {},
   "outputs": [],
   "source": [
    "class Card:\n",
    "    \"\"\"Represents a standard playing card.\"\"\"\n",
    "    def __init__(self, suit=0, rank=2):\n",
    "        self.suit = suit\n",
    "        self.rank = rank"
   ]
  },
  {
   "cell_type": "code",
   "execution_count": 369,
   "metadata": {},
   "outputs": [],
   "source": [
    "queen_of_diamonds = Card(1, 12)"
   ]
  },
  {
   "cell_type": "code",
   "execution_count": 371,
   "metadata": {},
   "outputs": [
    {
     "name": "stdout",
     "output_type": "stream",
     "text": [
      "suit 1\n",
      "rank 12\n"
     ]
    }
   ],
   "source": [
    "print_attributes(queen_of_diamonds)"
   ]
  },
  {
   "cell_type": "code",
   "execution_count": 372,
   "metadata": {},
   "outputs": [],
   "source": [
    "class Card:\n",
    "    \"\"\"Represents a standard playing card.\"\"\"\n",
    "    def __init__(self, suit=0, rank=2):\n",
    "        self.suit = suit\n",
    "        self.rank = rank\n",
    "    suit_names = ['Clubs', 'Diamonds', 'Hearts', 'Spades']\n",
    "    rank_names = [None, 'Ace', '2', '3', '4', '5', '6', '7','8', '9', '10', 'Jack', 'Queen', 'King']\n",
    "    def __str__(self):\n",
    "        return '%s of %s' % (Card.rank_names[self.rank],Card.suit_names[self.suit])"
   ]
  },
  {
   "cell_type": "code",
   "execution_count": 374,
   "metadata": {},
   "outputs": [
    {
     "name": "stdout",
     "output_type": "stream",
     "text": [
      "Jack of Hearts\n"
     ]
    }
   ],
   "source": [
    "card1 = Card(2, 11)\n",
    "print(card1)"
   ]
  },
  {
   "cell_type": "code",
   "execution_count": 473,
   "metadata": {},
   "outputs": [],
   "source": [
    "class Card:\n",
    "    \"\"\"Represents a standard playing card.\"\"\"\n",
    "    def __init__(self, suit=0, rank=2):\n",
    "        self.suit = suit\n",
    "        self.rank = rank\n",
    "    suit_names = ['Clubs', 'Diamonds', 'Hearts', 'Spades']\n",
    "    rank_names = [None, 'Ace', '2', '3', '4', '5', '6', '7','8', '9', '10', 'Jack', 'Queen', 'King']\n",
    "    def __str__(self):\n",
    "        return '%s of %s' % (Card.rank_names[self.rank],Card.suit_names[self.suit])\n",
    "    def __lt__(self, other):\n",
    "        if self.suit < other.suit: return True\n",
    "        if self.suit > other.suit: return False\n",
    "        return self.rank < other.rank\n",
    "    def __lt__(self, other):\n",
    "        t1 = self.suit, self.rank\n",
    "        t2 = other.suit, other.rank\n",
    "        return t1 < t2"
   ]
  },
  {
   "cell_type": "code",
   "execution_count": 393,
   "metadata": {},
   "outputs": [],
   "source": [
    "class Deck:\n",
    "    def __init__(self):\n",
    "        self.cards = []\n",
    "        for suit in range(4):\n",
    "            for rank in range(1, 14):\n",
    "                card = Card(suit, rank)\n",
    "                self.cards.append(card)\n",
    "    def __str__(self):\n",
    "        res = []\n",
    "        for card in self.cards:\n",
    "            res.append(str(card))\n",
    "        return '\\n'.join(res)"
   ]
  },
  {
   "cell_type": "code",
   "execution_count": 394,
   "metadata": {},
   "outputs": [
    {
     "name": "stdout",
     "output_type": "stream",
     "text": [
      "Ace of Clubs\n",
      "2 of Clubs\n",
      "3 of Clubs\n",
      "4 of Clubs\n",
      "5 of Clubs\n",
      "6 of Clubs\n",
      "7 of Clubs\n",
      "8 of Clubs\n",
      "9 of Clubs\n",
      "10 of Clubs\n",
      "Jack of Clubs\n",
      "Queen of Clubs\n",
      "King of Clubs\n",
      "Ace of Diamonds\n",
      "2 of Diamonds\n",
      "3 of Diamonds\n",
      "4 of Diamonds\n",
      "5 of Diamonds\n",
      "6 of Diamonds\n",
      "7 of Diamonds\n",
      "8 of Diamonds\n",
      "9 of Diamonds\n",
      "10 of Diamonds\n",
      "Jack of Diamonds\n",
      "Queen of Diamonds\n",
      "King of Diamonds\n",
      "Ace of Hearts\n",
      "2 of Hearts\n",
      "3 of Hearts\n",
      "4 of Hearts\n",
      "5 of Hearts\n",
      "6 of Hearts\n",
      "7 of Hearts\n",
      "8 of Hearts\n",
      "9 of Hearts\n",
      "10 of Hearts\n",
      "Jack of Hearts\n",
      "Queen of Hearts\n",
      "King of Hearts\n",
      "Ace of Spades\n",
      "2 of Spades\n",
      "3 of Spades\n",
      "4 of Spades\n",
      "5 of Spades\n",
      "6 of Spades\n",
      "7 of Spades\n",
      "8 of Spades\n",
      "9 of Spades\n",
      "10 of Spades\n",
      "Jack of Spades\n",
      "Queen of Spades\n",
      "King of Spades\n"
     ]
    }
   ],
   "source": [
    "deck = Deck()\n",
    "print(deck)"
   ]
  },
  {
   "cell_type": "code",
   "execution_count": 408,
   "metadata": {},
   "outputs": [],
   "source": [
    "class Deck:\n",
    "    def __init__(self):\n",
    "        self.cards = []\n",
    "        for suit in range(4):\n",
    "            for rank in range(1, 14):\n",
    "                card = Card(suit, rank)\n",
    "                self.cards.append(card)\n",
    "    def __str__(self):\n",
    "        res = []\n",
    "        for card in self.cards:\n",
    "            res.append(str(card))\n",
    "        return '\\n'.join(res)\n",
    "    def pop_card(self):\n",
    "        return self.cards.pop()\n",
    "    def add_card(self, card):\n",
    "        self.cards.append(card)\n",
    "    def shuffle(self):\n",
    "        random.shuffle(self.cards)"
   ]
  },
  {
   "cell_type": "code",
   "execution_count": 446,
   "metadata": {},
   "outputs": [
    {
     "name": "stdout",
     "output_type": "stream",
     "text": [
      "Ace of Clubs\n",
      "2 of Clubs\n",
      "3 of Clubs\n",
      "4 of Clubs\n",
      "5 of Clubs\n",
      "6 of Clubs\n",
      "7 of Clubs\n",
      "8 of Clubs\n",
      "9 of Clubs\n",
      "10 of Clubs\n",
      "Jack of Clubs\n",
      "Queen of Clubs\n",
      "King of Clubs\n",
      "Ace of Diamonds\n",
      "2 of Diamonds\n",
      "3 of Diamonds\n",
      "4 of Diamonds\n",
      "5 of Diamonds\n",
      "6 of Diamonds\n",
      "7 of Diamonds\n",
      "8 of Diamonds\n",
      "9 of Diamonds\n",
      "10 of Diamonds\n",
      "Jack of Diamonds\n",
      "Queen of Diamonds\n",
      "King of Diamonds\n",
      "Ace of Hearts\n",
      "2 of Hearts\n",
      "3 of Hearts\n",
      "4 of Hearts\n",
      "5 of Hearts\n",
      "6 of Hearts\n",
      "7 of Hearts\n",
      "8 of Hearts\n",
      "9 of Hearts\n",
      "10 of Hearts\n",
      "Jack of Hearts\n",
      "Queen of Hearts\n",
      "King of Hearts\n",
      "Ace of Spades\n",
      "2 of Spades\n",
      "3 of Spades\n",
      "4 of Spades\n",
      "5 of Spades\n",
      "6 of Spades\n",
      "7 of Spades\n",
      "8 of Spades\n",
      "9 of Spades\n",
      "10 of Spades\n",
      "Jack of Spades\n",
      "Queen of Spades\n",
      "King of Spades\n"
     ]
    }
   ],
   "source": [
    "deck2 = Deck()\n",
    "print(deck2)"
   ]
  },
  {
   "cell_type": "code",
   "execution_count": 418,
   "metadata": {},
   "outputs": [
    {
     "name": "stdout",
     "output_type": "stream",
     "text": [
      "9 of Spades\n"
     ]
    }
   ],
   "source": [
    "cardpoped=deck2.pop_card()\n",
    "print(cardpoped)"
   ]
  },
  {
   "cell_type": "code",
   "execution_count": 472,
   "metadata": {},
   "outputs": [],
   "source": [
    "class Hand(Deck):\n",
    "    \"\"\"Represents a hand of playing cards.\"\"\"\n",
    "    def __init__(self, label=''):\n",
    "        self.cards = []\n",
    "        self.label = label"
   ]
  },
  {
   "cell_type": "code",
   "execution_count": 413,
   "metadata": {},
   "outputs": [
    {
     "data": {
      "text/plain": [
       "[]"
      ]
     },
     "execution_count": 413,
     "metadata": {},
     "output_type": "execute_result"
    }
   ],
   "source": [
    "hand = Hand('new hand')\n",
    "hand.cards"
   ]
  },
  {
   "cell_type": "code",
   "execution_count": 414,
   "metadata": {},
   "outputs": [
    {
     "data": {
      "text/plain": [
       "'new hand'"
      ]
     },
     "execution_count": 414,
     "metadata": {},
     "output_type": "execute_result"
    }
   ],
   "source": [
    "hand.label"
   ]
  },
  {
   "cell_type": "code",
   "execution_count": 447,
   "metadata": {},
   "outputs": [
    {
     "name": "stdout",
     "output_type": "stream",
     "text": [
      "King of Spades\n",
      "Queen of Spades\n",
      "Jack of Spades\n",
      "10 of Spades\n",
      "9 of Spades\n",
      "8 of Spades\n",
      "King of Spades\n"
     ]
    }
   ],
   "source": [
    "deck = Deck()\n",
    "card = deck.pop_card()\n",
    "hand.add_card(card)\n",
    "print(hand)"
   ]
  },
  {
   "cell_type": "code",
   "execution_count": 471,
   "metadata": {},
   "outputs": [],
   "source": [
    "class Deck:\n",
    "    def __init__(self):\n",
    "        self.cards = []\n",
    "        for suit in range(4):\n",
    "            for rank in range(1, 14):\n",
    "                card = Card(suit, rank)\n",
    "                self.cards.append(card)\n",
    "    def __str__(self):\n",
    "        res = []\n",
    "        for card in self.cards:\n",
    "            res.append(str(card))\n",
    "        return '\\n'.join(res)\n",
    "    def pop_card(self):\n",
    "        return self.cards.pop()\n",
    "    def add_card(self, card):\n",
    "        self.cards.append(card)\n",
    "    def shuffle(self):\n",
    "        random.shuffle(self.cards)\n",
    "    def move_cards(self, hand, num):\n",
    "        for i in range(num):\n",
    "            hand.add_card(self.pop_card())"
   ]
  },
  {
   "cell_type": "code",
   "execution_count": 475,
   "metadata": {},
   "outputs": [],
   "source": [
    "class Card:\n",
    "    \"\"\"Represents a standard playing card.\"\"\"\n",
    "    def __init__(self, suit=0, rank=2):\n",
    "        self.suit = suit\n",
    "        self.rank = rank\n",
    "    suit_names = ['Clubs', 'Diamonds', 'Hearts', 'Spades']\n",
    "    rank_names = [None, 'Ace', '2', '3', '4', '5', '6', '7','8', '9', '10', 'Jack', 'Queen', 'King']\n",
    "    def __str__(self):\n",
    "        return '%s of %s' % (Card.rank_names[self.rank],Card.suit_names[self.suit])\n",
    "    def __lt__(self, other):\n",
    "        if self.suit < other.suit: return True\n",
    "        if self.suit > other.suit: return False\n",
    "        return self.rank < other.rank\n",
    "    def __lt__(self, other):\n",
    "        t1 = self.suit, self.rank\n",
    "        t2 = other.suit, other.rank\n",
    "        return t1 < t2"
   ]
  },
  {
   "cell_type": "code",
   "execution_count": 476,
   "metadata": {},
   "outputs": [],
   "source": [
    "class Deck:\n",
    "    def __init__(self):\n",
    "        self.cards = []\n",
    "        for suit in range(4):\n",
    "            for rank in range(1, 14):\n",
    "                card = Card(suit, rank)\n",
    "                self.cards.append(card)\n",
    "    def __str__(self):\n",
    "        res = []\n",
    "        for card in self.cards:\n",
    "            res.append(str(card))\n",
    "        return '\\n'.join(res)\n",
    "    def pop_card(self):\n",
    "        return self.cards.pop()\n",
    "    def add_card(self, card):\n",
    "        self.cards.append(card)\n",
    "    def shuffle(self):\n",
    "        random.shuffle(self.cards)\n",
    "    def move_cards(self, hand, num):\n",
    "        for i in range(num):\n",
    "            hand.add_card(self.pop_card())"
   ]
  },
  {
   "cell_type": "code",
   "execution_count": 477,
   "metadata": {},
   "outputs": [],
   "source": [
    "class Hand(Deck):\n",
    "    \"\"\"Represents a hand of playing cards.\"\"\"\n",
    "    def __init__(self, label=''):\n",
    "        self.cards = []\n",
    "        self.label = label"
   ]
  },
  {
   "cell_type": "code",
   "execution_count": 478,
   "metadata": {},
   "outputs": [],
   "source": [
    "deckin=Deck()"
   ]
  },
  {
   "cell_type": "code",
   "execution_count": 479,
   "metadata": {},
   "outputs": [
    {
     "name": "stdout",
     "output_type": "stream",
     "text": [
      "Ace of Clubs\n",
      "2 of Clubs\n",
      "3 of Clubs\n",
      "4 of Clubs\n",
      "5 of Clubs\n",
      "6 of Clubs\n",
      "7 of Clubs\n",
      "8 of Clubs\n",
      "9 of Clubs\n",
      "10 of Clubs\n",
      "Jack of Clubs\n",
      "Queen of Clubs\n",
      "King of Clubs\n",
      "Ace of Diamonds\n",
      "2 of Diamonds\n",
      "3 of Diamonds\n",
      "4 of Diamonds\n",
      "5 of Diamonds\n",
      "6 of Diamonds\n",
      "7 of Diamonds\n",
      "8 of Diamonds\n",
      "9 of Diamonds\n",
      "10 of Diamonds\n",
      "Jack of Diamonds\n",
      "Queen of Diamonds\n",
      "King of Diamonds\n",
      "Ace of Hearts\n",
      "2 of Hearts\n",
      "3 of Hearts\n",
      "4 of Hearts\n",
      "5 of Hearts\n",
      "6 of Hearts\n",
      "7 of Hearts\n",
      "8 of Hearts\n",
      "9 of Hearts\n",
      "10 of Hearts\n",
      "Jack of Hearts\n",
      "Queen of Hearts\n",
      "King of Hearts\n",
      "Ace of Spades\n",
      "2 of Spades\n",
      "3 of Spades\n",
      "4 of Spades\n",
      "5 of Spades\n",
      "6 of Spades\n",
      "7 of Spades\n",
      "8 of Spades\n",
      "9 of Spades\n",
      "10 of Spades\n",
      "Jack of Spades\n",
      "Queen of Spades\n",
      "King of Spades\n"
     ]
    }
   ],
   "source": [
    "print(deckin)"
   ]
  },
  {
   "cell_type": "code",
   "execution_count": 480,
   "metadata": {},
   "outputs": [],
   "source": [
    "handin= Hand()"
   ]
  },
  {
   "cell_type": "code",
   "execution_count": 481,
   "metadata": {},
   "outputs": [
    {
     "name": "stdout",
     "output_type": "stream",
     "text": [
      "\n"
     ]
    }
   ],
   "source": [
    "print(handin)"
   ]
  },
  {
   "cell_type": "code",
   "execution_count": 482,
   "metadata": {},
   "outputs": [
    {
     "name": "stdout",
     "output_type": "stream",
     "text": [
      "King of Spades\n",
      "Queen of Spades\n"
     ]
    }
   ],
   "source": [
    "deckin.move_cards(handin,2)\n",
    "print(handin)"
   ]
  },
  {
   "cell_type": "code",
   "execution_count": 470,
   "metadata": {},
   "outputs": [
    {
     "name": "stdout",
     "output_type": "stream",
     "text": [
      "King of Spades\n",
      "Queen of Spades\n"
     ]
    }
   ],
   "source": [
    "print(handin)"
   ]
  },
  {
   "cell_type": "code",
   "execution_count": 483,
   "metadata": {},
   "outputs": [],
   "source": [
    "handin.move_cards(deckin,2)"
   ]
  },
  {
   "cell_type": "code",
   "execution_count": 484,
   "metadata": {},
   "outputs": [
    {
     "name": "stdout",
     "output_type": "stream",
     "text": [
      "Ace of Clubs\n",
      "2 of Clubs\n",
      "3 of Clubs\n",
      "4 of Clubs\n",
      "5 of Clubs\n",
      "6 of Clubs\n",
      "7 of Clubs\n",
      "8 of Clubs\n",
      "9 of Clubs\n",
      "10 of Clubs\n",
      "Jack of Clubs\n",
      "Queen of Clubs\n",
      "King of Clubs\n",
      "Ace of Diamonds\n",
      "2 of Diamonds\n",
      "3 of Diamonds\n",
      "4 of Diamonds\n",
      "5 of Diamonds\n",
      "6 of Diamonds\n",
      "7 of Diamonds\n",
      "8 of Diamonds\n",
      "9 of Diamonds\n",
      "10 of Diamonds\n",
      "Jack of Diamonds\n",
      "Queen of Diamonds\n",
      "King of Diamonds\n",
      "Ace of Hearts\n",
      "2 of Hearts\n",
      "3 of Hearts\n",
      "4 of Hearts\n",
      "5 of Hearts\n",
      "6 of Hearts\n",
      "7 of Hearts\n",
      "8 of Hearts\n",
      "9 of Hearts\n",
      "10 of Hearts\n",
      "Jack of Hearts\n",
      "Queen of Hearts\n",
      "King of Hearts\n",
      "Ace of Spades\n",
      "2 of Spades\n",
      "3 of Spades\n",
      "4 of Spades\n",
      "5 of Spades\n",
      "6 of Spades\n",
      "7 of Spades\n",
      "8 of Spades\n",
      "9 of Spades\n",
      "10 of Spades\n",
      "Jack of Spades\n",
      "Queen of Spades\n",
      "King of Spades\n"
     ]
    }
   ],
   "source": [
    "print(deckin)"
   ]
  },
  {
   "cell_type": "code",
   "execution_count": 419,
   "metadata": {},
   "outputs": [],
   "source": [
    "def find_defining_class(obj, meth_name):\n",
    "    for ty in type(obj).mro():\n",
    "        if meth_name in ty.__dict__:\n",
    "            return ty"
   ]
  },
  {
   "cell_type": "code",
   "execution_count": 420,
   "metadata": {},
   "outputs": [
    {
     "data": {
      "text/plain": [
       "__main__.Deck"
      ]
     },
     "execution_count": 420,
     "metadata": {},
     "output_type": "execute_result"
    }
   ],
   "source": [
    "hand = Hand()\n",
    "find_defining_class(hand, 'shuffle')"
   ]
  },
  {
   "cell_type": "markdown",
   "metadata": {},
   "source": [
    "# Grus Chapter 2"
   ]
  },
  {
   "cell_type": "code",
   "execution_count": 587,
   "metadata": {},
   "outputs": [
    {
     "data": {
      "text/plain": [
       "[1, 2, 3, 4]"
      ]
     },
     "execution_count": 587,
     "metadata": {},
     "output_type": "execute_result"
    }
   ],
   "source": [
    "x = [4,1,2,3]\n",
    "y = sorted(x)\n",
    "x.sort()\n",
    "x"
   ]
  },
  {
   "cell_type": "code",
   "execution_count": 595,
   "metadata": {},
   "outputs": [
    {
     "ename": "SyntaxError",
     "evalue": "invalid syntax (<ipython-input-595-48cfd4f8c84c>, line 4)",
     "output_type": "error",
     "traceback": [
      "\u001b[1;36m  File \u001b[1;32m\"<ipython-input-595-48cfd4f8c84c>\"\u001b[1;36m, line \u001b[1;32m4\u001b[0m\n\u001b[1;33m    key=lambda(word, count): count,\u001b[0m\n\u001b[1;37m              ^\u001b[0m\n\u001b[1;31mSyntaxError\u001b[0m\u001b[1;31m:\u001b[0m invalid syntax\n"
     ]
    }
   ],
   "source": [
    "x = sorted([-4,1,-2,3], key=abs, reverse=True) \n",
    "\n",
    "wc = sorted(word_counts.items(),\n",
    "key=lambda(word, count): count,\n",
    "reverse=True)"
   ]
  },
  {
   "cell_type": "code",
   "execution_count": 596,
   "metadata": {},
   "outputs": [],
   "source": [
    "even_numbers = [x for x in range(5) if x % 2 == 0] \n",
    "squares = [x * x for x in range(5)] \n",
    "even_squares = [x * x for x in even_numbers]"
   ]
  },
  {
   "cell_type": "code",
   "execution_count": 597,
   "metadata": {},
   "outputs": [],
   "source": [
    "square_dict = { x : x * x for x in range(5) } # { 0:0, 1:1, 2:4, 3:9, 4:16 }\n",
    "square_set = { x * x for x in [1, -1] } # { 1 }"
   ]
  },
  {
   "cell_type": "code",
   "execution_count": 601,
   "metadata": {},
   "outputs": [],
   "source": [
    "def lazy_range(n):\n",
    "    \"\"\"a lazy version of range\"\"\"\n",
    "    i = 0\n",
    "    while i < n:\n",
    "        yield i\n",
    "        i += 1"
   ]
  },
  {
   "cell_type": "code",
   "execution_count": 604,
   "metadata": {},
   "outputs": [],
   "source": [
    "def natural_numbers():\n",
    "    \"\"\"returns 1, 2, 3, ...\"\"\"\n",
    "    n = 1\n",
    "    while True:\n",
    "        yield n\n",
    "        n += 1"
   ]
  },
  {
   "cell_type": "code",
   "execution_count": 605,
   "metadata": {},
   "outputs": [],
   "source": [
    "lazy_evens_below_20 = (i for i in lazy_range(20) if i % 2 == 0)"
   ]
  },
  {
   "cell_type": "code",
   "execution_count": 608,
   "metadata": {},
   "outputs": [
    {
     "data": {
      "text/plain": [
       "[0.10870708739919466,\n",
       " 0.5344388809146928,\n",
       " 0.17229115052496247,\n",
       " 0.6117879090937001]"
      ]
     },
     "execution_count": 608,
     "metadata": {},
     "output_type": "execute_result"
    }
   ],
   "source": [
    "import random\n",
    "four_uniform_randoms = [random.random() for _ in range(4)]\n",
    "four_uniform_randoms"
   ]
  },
  {
   "cell_type": "code",
   "execution_count": 610,
   "metadata": {},
   "outputs": [
    {
     "name": "stdout",
     "output_type": "stream",
     "text": [
      "0.5714025946899135\n"
     ]
    }
   ],
   "source": [
    "random.seed(10) \n",
    "print(random.random())"
   ]
  },
  {
   "cell_type": "code",
   "execution_count": 612,
   "metadata": {},
   "outputs": [
    {
     "name": "stdout",
     "output_type": "stream",
     "text": [
      "0.5714025946899135\n"
     ]
    }
   ],
   "source": [
    "random.seed(10) \n",
    "print(random.random())"
   ]
  },
  {
   "cell_type": "code",
   "execution_count": 613,
   "metadata": {},
   "outputs": [
    {
     "data": {
      "text/plain": [
       "4"
      ]
     },
     "execution_count": 613,
     "metadata": {},
     "output_type": "execute_result"
    }
   ],
   "source": [
    "random.randrange(10)\n",
    "random.randrange(3, 6)"
   ]
  },
  {
   "cell_type": "code",
   "execution_count": 618,
   "metadata": {},
   "outputs": [
    {
     "name": "stdout",
     "output_type": "stream",
     "text": [
      "[3, 9, 7, 4, 1, 2, 6, 5, 10, 8]\n"
     ]
    }
   ],
   "source": [
    "up_to_ten =[1,2,3,4,5,6,7,8,9,10]\n",
    "random.shuffle(up_to_ten)\n",
    "print(up_to_ten)"
   ]
  },
  {
   "cell_type": "code",
   "execution_count": 620,
   "metadata": {},
   "outputs": [
    {
     "data": {
      "text/plain": [
       "'Charlie'"
      ]
     },
     "execution_count": 620,
     "metadata": {},
     "output_type": "execute_result"
    }
   ],
   "source": [
    "my_best_friend = random.choice([\"Alice\", \"Bob\", \"Charlie\"])\n",
    "my_best_friend"
   ]
  },
  {
   "cell_type": "code",
   "execution_count": 621,
   "metadata": {},
   "outputs": [],
   "source": [
    "lottery_numbers = range(60)\n",
    "winning_numbers = random.sample(lottery_numbers, 6)\n",
    "winning_numbers\n"
   ]
  },
  {
   "cell_type": "code",
   "execution_count": 623,
   "metadata": {},
   "outputs": [
    {
     "data": {
      "text/plain": [
       "[4, 7, 2, 4]"
      ]
     },
     "execution_count": 623,
     "metadata": {},
     "output_type": "execute_result"
    }
   ],
   "source": [
    "four_with_replacement = [random.choice(range(10))for _ in range(4)]\n",
    "four_with_replacement"
   ]
  },
  {
   "cell_type": "code",
   "execution_count": 627,
   "metadata": {},
   "outputs": [
    {
     "name": "stdout",
     "output_type": "stream",
     "text": [
      "[True, <re.Match object; span=(1, 2), match='a'>, True, True, True]\n"
     ]
    }
   ],
   "source": [
    "import re\n",
    "print([\n",
    "not re.match(\"a\", \"cat\"), \n",
    "re.search(\"a\", \"cat\"), \n",
    "not re.search(\"c\", \"dog\"),\n",
    "3 == len(re.split(\"[ab]\", \"carbs\")), \n",
    "\"R-D-\" == re.sub(\"[0-9]\", \"-\", \"R2D2\")])"
   ]
  },
  {
   "cell_type": "code",
   "execution_count": 630,
   "metadata": {},
   "outputs": [],
   "source": [
    "# by convention, we give classes PascalCase names\n",
    "class Set:\n",
    "    def __init__(self, values=None):\n",
    "        self.dict = {} \n",
    "    \n",
    "        if values is not None:\n",
    "            for value in values:\n",
    "                self.add(value)\n",
    "    def __repr__(self):\n",
    "        return \"Set: \" + str(self.dict.keys())\n",
    "    def add(self, value):\n",
    "        self.dict[value] = True\n",
    "    def contains(self, value):\n",
    "        return value in self.dict\n",
    "    def remove(self, value):\n",
    "        del self.dict[value]"
   ]
  },
  {
   "cell_type": "code",
   "execution_count": 631,
   "metadata": {},
   "outputs": [
    {
     "name": "stdout",
     "output_type": "stream",
     "text": [
      "True\n",
      "False\n"
     ]
    }
   ],
   "source": [
    "s = Set([1,2,3])\n",
    "s.add(4)\n",
    "print( s.contains(4)) # True\n",
    "s.remove(3)\n",
    "print (s.contains(3))"
   ]
  },
  {
   "cell_type": "code",
   "execution_count": 635,
   "metadata": {},
   "outputs": [
    {
     "data": {
      "text/plain": [
       "8"
      ]
     },
     "execution_count": 635,
     "metadata": {},
     "output_type": "execute_result"
    }
   ],
   "source": [
    "def exp(base, power):\n",
    "    return base ** power\n",
    "exp(2,3)"
   ]
  },
  {
   "cell_type": "code",
   "execution_count": 636,
   "metadata": {},
   "outputs": [
    {
     "data": {
      "text/plain": [
       "8"
      ]
     },
     "execution_count": 636,
     "metadata": {},
     "output_type": "execute_result"
    }
   ],
   "source": [
    "def two_to_the(power):\n",
    "    return exp(2, power)\n",
    "two_to_the(3)"
   ]
  },
  {
   "cell_type": "code",
   "execution_count": 634,
   "metadata": {},
   "outputs": [
    {
     "name": "stdout",
     "output_type": "stream",
     "text": [
      "8\n"
     ]
    }
   ],
   "source": [
    "from functools import partial\n",
    "two_to_the = partial(exp, 2) \n",
    "print(two_to_the(3))"
   ]
  },
  {
   "cell_type": "code",
   "execution_count": 637,
   "metadata": {},
   "outputs": [
    {
     "name": "stdout",
     "output_type": "stream",
     "text": [
      "9\n"
     ]
    }
   ],
   "source": [
    "square_of = partial(exp, power=2)\n",
    "print(square_of(3))"
   ]
  },
  {
   "cell_type": "code",
   "execution_count": 639,
   "metadata": {},
   "outputs": [
    {
     "data": {
      "text/plain": [
       "4"
      ]
     },
     "execution_count": 639,
     "metadata": {},
     "output_type": "execute_result"
    }
   ],
   "source": [
    "def double(x):\n",
    "    return 2 * x\n",
    "xs = [1, 2, 3, 4]\n",
    "twice_xs = [double(x) for x in xs] \n",
    "twice_xs = map(double, xs) \n",
    "list_doubler = partial(map, double)\n",
    "twice_xs = list_doubler(xs)\n",
    "\n",
    "double(2)"
   ]
  },
  {
   "cell_type": "code",
   "execution_count": 640,
   "metadata": {},
   "outputs": [
    {
     "data": {
      "text/plain": [
       "18"
      ]
     },
     "execution_count": 640,
     "metadata": {},
     "output_type": "execute_result"
    }
   ],
   "source": [
    "def multiply(x, y): return x * y\n",
    "products = map(multiply, [1, 2], [4, 5])\n",
    "\n",
    "multiply(3,6)"
   ]
  },
  {
   "cell_type": "code",
   "execution_count": 537,
   "metadata": {},
   "outputs": [],
   "source": [
    "first_three = x[:3]\n",
    "three_to_end = x[3:]\n",
    "one_to_four = x[1:5] \n",
    "last_three = x[-3:]\n",
    "without_first_and_last = x[1:-1] \n",
    "copy_of_x = x[:]"
   ]
  },
  {
   "cell_type": "code",
   "execution_count": 641,
   "metadata": {},
   "outputs": [
    {
     "data": {
      "text/plain": [
       "False"
      ]
     },
     "execution_count": 641,
     "metadata": {},
     "output_type": "execute_result"
    }
   ],
   "source": [
    "def is_even(x):\n",
    "    return x % 2 == 0\n",
    "is_even(5)"
   ]
  },
  {
   "cell_type": "code",
   "execution_count": 646,
   "metadata": {},
   "outputs": [
    {
     "name": "stdout",
     "output_type": "stream",
     "text": [
      "[2, 4]\n"
     ]
    }
   ],
   "source": [
    "x_evens = [x for x in xs if is_even(x)]\n",
    "print(x_evens)\n",
    "x_evens = filter(is_even, xs)\n",
    "\n",
    "list_evener = partial(filter, is_even)\n",
    "\n",
    "x_evens = list_evener(xs)\n",
    "\n"
   ]
  },
  {
   "cell_type": "code",
   "execution_count": 647,
   "metadata": {},
   "outputs": [
    {
     "name": "stdout",
     "output_type": "stream",
     "text": [
      "<filter object at 0x000001BA837FFD68>\n"
     ]
    }
   ],
   "source": [
    "print(x_evens)"
   ]
  },
  {
   "cell_type": "code",
   "execution_count": 653,
   "metadata": {},
   "outputs": [
    {
     "name": "stdout",
     "output_type": "stream",
     "text": [
      "<zip object at 0x000001BA81024F08>\n"
     ]
    }
   ],
   "source": [
    "list1 = ['a', 'b', 'c']\n",
    "list2 = [1, 2, 3]\n",
    "zipped=zip(list1, list2)\n",
    "print(zipped)"
   ]
  },
  {
   "cell_type": "code",
   "execution_count": 655,
   "metadata": {},
   "outputs": [
    {
     "data": {
      "text/plain": [
       "('a', 'b', 'c')"
      ]
     },
     "execution_count": 655,
     "metadata": {},
     "output_type": "execute_result"
    }
   ],
   "source": [
    "pairs = [('a', 1), ('b', 2), ('c', 3)]\n",
    "letters, numbers = zip(*pairs)\n",
    "letters"
   ]
  },
  {
   "cell_type": "code",
   "execution_count": 656,
   "metadata": {},
   "outputs": [
    {
     "data": {
      "text/plain": [
       "(1, 2, 3)"
      ]
     },
     "execution_count": 656,
     "metadata": {},
     "output_type": "execute_result"
    }
   ],
   "source": [
    "numbers\n"
   ]
  },
  {
   "cell_type": "code",
   "execution_count": 658,
   "metadata": {},
   "outputs": [
    {
     "name": "stdout",
     "output_type": "stream",
     "text": [
      "<zip object at 0x000001BA837E8288>\n"
     ]
    }
   ],
   "source": [
    "print(zip(('a', 1), ('b', 2), ('c', 3)))"
   ]
  },
  {
   "cell_type": "code",
   "execution_count": 660,
   "metadata": {},
   "outputs": [
    {
     "data": {
      "text/plain": [
       "3"
      ]
     },
     "execution_count": 660,
     "metadata": {},
     "output_type": "execute_result"
    }
   ],
   "source": [
    "def add(a, b): return a + b\n",
    "add(1, 2) \n",
    "\n",
    "add(*[1, 2])"
   ]
  },
  {
   "cell_type": "code",
   "execution_count": 663,
   "metadata": {},
   "outputs": [],
   "source": [
    "def doubler(f):\n",
    "    def g(x):\n",
    "        return 2 * f(x)\n",
    "    return g"
   ]
  },
  {
   "cell_type": "code",
   "execution_count": 665,
   "metadata": {},
   "outputs": [
    {
     "name": "stdout",
     "output_type": "stream",
     "text": [
      "8\n",
      "0\n"
     ]
    }
   ],
   "source": [
    "def f1(x):\n",
    "    return x + 1\n",
    "g = doubler(f1)\n",
    "print(g(3))\n",
    "print(g(-1))"
   ]
  },
  {
   "cell_type": "code",
   "execution_count": 669,
   "metadata": {},
   "outputs": [
    {
     "name": "stdout",
     "output_type": "stream",
     "text": [
      "unnamed args: (1, 2)\n",
      "keyword args: {'key': 'word', 'key2': 'word2'}\n"
     ]
    }
   ],
   "source": [
    "def magic(*args, **kwargs):\n",
    "    print( \"unnamed args:\", args)\n",
    "    print (\"keyword args:\", kwargs)\n",
    "magic(1, 2, key=\"word\", key2=\"word2\")"
   ]
  },
  {
   "cell_type": "code",
   "execution_count": 670,
   "metadata": {},
   "outputs": [
    {
     "name": "stdout",
     "output_type": "stream",
     "text": [
      "6\n"
     ]
    }
   ],
   "source": [
    "def other_way_magic(x, y, z):\n",
    "    return x + y + z\n",
    "x_y_list = [1, 2]\n",
    "z_dict = { \"z\" : 3 }\n",
    "print(other_way_magic(*x_y_list, **z_dict)) "
   ]
  },
  {
   "cell_type": "code",
   "execution_count": 550,
   "metadata": {},
   "outputs": [
    {
     "data": {
      "text/plain": [
       "2"
      ]
     },
     "execution_count": 550,
     "metadata": {},
     "output_type": "execute_result"
    }
   ],
   "source": [
    "y"
   ]
  },
  {
   "cell_type": "code",
   "execution_count": 552,
   "metadata": {},
   "outputs": [
    {
     "name": "stdout",
     "output_type": "stream",
     "text": [
      "cannot modify a tuple\n"
     ]
    }
   ],
   "source": [
    "my_list = [1, 2]\n",
    "my_tuple = (1, 2)\n",
    "other_tuple = 3, 4\n",
    "my_list[1] = 3 \n",
    "try:\n",
    "    my_tuple[1] = 3\n",
    "except TypeError:\n",
    "    print (\"cannot modify a tuple\")"
   ]
  },
  {
   "cell_type": "code",
   "execution_count": 553,
   "metadata": {},
   "outputs": [],
   "source": [
    "def sum_and_product(x, y):\n",
    "    return (x + y),(x * y)\n",
    "sp = sum_and_product(2, 3)\n",
    "s, p = sum_and_product(5, 10)"
   ]
  },
  {
   "cell_type": "code",
   "execution_count": 554,
   "metadata": {},
   "outputs": [
    {
     "data": {
      "text/plain": [
       "15"
      ]
     },
     "execution_count": 554,
     "metadata": {},
     "output_type": "execute_result"
    }
   ],
   "source": [
    "s\n"
   ]
  },
  {
   "cell_type": "code",
   "execution_count": 555,
   "metadata": {},
   "outputs": [
    {
     "data": {
      "text/plain": [
       "50"
      ]
     },
     "execution_count": 555,
     "metadata": {},
     "output_type": "execute_result"
    }
   ],
   "source": [
    "p"
   ]
  },
  {
   "cell_type": "code",
   "execution_count": 556,
   "metadata": {},
   "outputs": [],
   "source": [
    "x, y = 1, 2 \n",
    "x, y = y, x"
   ]
  },
  {
   "cell_type": "code",
   "execution_count": 557,
   "metadata": {},
   "outputs": [
    {
     "data": {
      "text/plain": [
       "2"
      ]
     },
     "execution_count": 557,
     "metadata": {},
     "output_type": "execute_result"
    }
   ],
   "source": [
    "x\n"
   ]
  },
  {
   "cell_type": "code",
   "execution_count": 558,
   "metadata": {},
   "outputs": [
    {
     "data": {
      "text/plain": [
       "1"
      ]
     },
     "execution_count": 558,
     "metadata": {},
     "output_type": "execute_result"
    }
   ],
   "source": [
    "y"
   ]
  },
  {
   "cell_type": "code",
   "execution_count": 559,
   "metadata": {},
   "outputs": [],
   "source": [
    "empty_dict = {}\n",
    "empty_dict2 = dict()\n",
    "grades = { \"Joel\" : 80, \"Tim\" : 95 }"
   ]
  },
  {
   "cell_type": "code",
   "execution_count": 560,
   "metadata": {},
   "outputs": [
    {
     "data": {
      "text/plain": [
       "{'Joel': 80, 'Tim': 95}"
      ]
     },
     "execution_count": 560,
     "metadata": {},
     "output_type": "execute_result"
    }
   ],
   "source": [
    "grades"
   ]
  },
  {
   "cell_type": "code",
   "execution_count": 561,
   "metadata": {},
   "outputs": [],
   "source": [
    "joels_grade = grades[\"Joel\"]"
   ]
  },
  {
   "cell_type": "code",
   "execution_count": 563,
   "metadata": {},
   "outputs": [
    {
     "name": "stdout",
     "output_type": "stream",
     "text": [
      "no grade for Kate!\n"
     ]
    }
   ],
   "source": [
    "try:\n",
    "    kates_grade = grades[\"Kate\"]\n",
    "except KeyError:\n",
    "    print (\"no grade for Kate!\")"
   ]
  },
  {
   "cell_type": "code",
   "execution_count": 569,
   "metadata": {},
   "outputs": [
    {
     "data": {
      "text/plain": [
       "True"
      ]
     },
     "execution_count": 569,
     "metadata": {},
     "output_type": "execute_result"
    }
   ],
   "source": [
    "\"Joel\" in grades"
   ]
  },
  {
   "cell_type": "code",
   "execution_count": 570,
   "metadata": {},
   "outputs": [
    {
     "data": {
      "text/plain": [
       "False"
      ]
     },
     "execution_count": 570,
     "metadata": {},
     "output_type": "execute_result"
    }
   ],
   "source": [
    "\"Kate\" in grades"
   ]
  },
  {
   "cell_type": "code",
   "execution_count": 571,
   "metadata": {},
   "outputs": [
    {
     "data": {
      "text/plain": [
       "80"
      ]
     },
     "execution_count": 571,
     "metadata": {},
     "output_type": "execute_result"
    }
   ],
   "source": [
    "joels_grade = grades.get(\"Joel\", 0)\n",
    "joels_grade"
   ]
  },
  {
   "cell_type": "code",
   "execution_count": 573,
   "metadata": {},
   "outputs": [
    {
     "data": {
      "text/plain": [
       "0"
      ]
     },
     "execution_count": 573,
     "metadata": {},
     "output_type": "execute_result"
    }
   ],
   "source": [
    "kates_grade = grades.get(\"Kate\", 0)\n",
    "kates_grade"
   ]
  },
  {
   "cell_type": "code",
   "execution_count": 574,
   "metadata": {},
   "outputs": [],
   "source": [
    "no_ones_grade = grades.get(\"No One\")\n",
    "no_ones_grade"
   ]
  },
  {
   "cell_type": "code",
   "execution_count": 576,
   "metadata": {},
   "outputs": [
    {
     "data": {
      "text/plain": [
       "3"
      ]
     },
     "execution_count": 576,
     "metadata": {},
     "output_type": "execute_result"
    }
   ],
   "source": [
    "grades[\"Tim\"] = 99\n",
    "grades[\"Kate\"] = 100 \n",
    "num_students = len(grades)\n",
    "num_students"
   ]
  },
  {
   "cell_type": "code",
   "execution_count": 577,
   "metadata": {},
   "outputs": [],
   "source": [
    "tweet = {\n",
    "\"user\" : \"joelgrus\",\n",
    "\"text\" : \"Data Science is Awesome\",\n",
    "\"retweet_count\" : 100,\n",
    "\"hashtags\" : [\"#data\", \"#science\", \"#datascience\", \"#awesome\", \"#yolo\"]\n",
    "}"
   ]
  },
  {
   "cell_type": "code",
   "execution_count": 578,
   "metadata": {},
   "outputs": [
    {
     "data": {
      "text/plain": [
       "{'user': 'joelgrus',\n",
       " 'text': 'Data Science is Awesome',\n",
       " 'retweet_count': 100,\n",
       " 'hashtags': ['#data', '#science', '#datascience', '#awesome', '#yolo']}"
      ]
     },
     "execution_count": 578,
     "metadata": {},
     "output_type": "execute_result"
    }
   ],
   "source": [
    "tweet"
   ]
  },
  {
   "cell_type": "code",
   "execution_count": 579,
   "metadata": {},
   "outputs": [
    {
     "data": {
      "text/plain": [
       "True"
      ]
     },
     "execution_count": 579,
     "metadata": {},
     "output_type": "execute_result"
    }
   ],
   "source": [
    "tweet_keys = tweet.keys() \n",
    "tweet_values = tweet.values() \n",
    "tweet_items = tweet.items() \n",
    "\"user\" in tweet_keys\n"
   ]
  },
  {
   "cell_type": "code",
   "execution_count": 580,
   "metadata": {},
   "outputs": [
    {
     "data": {
      "text/plain": [
       "True"
      ]
     },
     "execution_count": 580,
     "metadata": {},
     "output_type": "execute_result"
    }
   ],
   "source": [
    "\"user\" in tweet"
   ]
  },
  {
   "cell_type": "code",
   "execution_count": 581,
   "metadata": {},
   "outputs": [
    {
     "data": {
      "text/plain": [
       "True"
      ]
     },
     "execution_count": 581,
     "metadata": {},
     "output_type": "execute_result"
    }
   ],
   "source": [
    "\"joelgrus\" in tweet_values"
   ]
  },
  {
   "cell_type": "code",
   "execution_count": 585,
   "metadata": {},
   "outputs": [
    {
     "ename": "NameError",
     "evalue": "name 'document' is not defined",
     "output_type": "error",
     "traceback": [
      "\u001b[1;31m---------------------------------------------------------------------------\u001b[0m",
      "\u001b[1;31mNameError\u001b[0m                                 Traceback (most recent call last)",
      "\u001b[1;32m<ipython-input-585-ffdb8a3bfceb>\u001b[0m in \u001b[0;36m<module>\u001b[1;34m\u001b[0m\n\u001b[0;32m      1\u001b[0m \u001b[0mword_counts\u001b[0m \u001b[1;33m=\u001b[0m \u001b[1;33m{\u001b[0m\u001b[1;33m}\u001b[0m\u001b[1;33m\u001b[0m\u001b[1;33m\u001b[0m\u001b[0m\n\u001b[1;32m----> 2\u001b[1;33m \u001b[1;32mfor\u001b[0m \u001b[0mword\u001b[0m \u001b[1;32min\u001b[0m \u001b[0mdocument\u001b[0m\u001b[1;33m:\u001b[0m\u001b[1;33m\u001b[0m\u001b[1;33m\u001b[0m\u001b[0m\n\u001b[0m\u001b[0;32m      3\u001b[0m     \u001b[1;32mif\u001b[0m \u001b[0mword\u001b[0m \u001b[1;32min\u001b[0m \u001b[0mword_counts\u001b[0m\u001b[1;33m:\u001b[0m\u001b[1;33m\u001b[0m\u001b[1;33m\u001b[0m\u001b[0m\n\u001b[0;32m      4\u001b[0m         \u001b[0mword_counts\u001b[0m\u001b[1;33m[\u001b[0m\u001b[0mword\u001b[0m\u001b[1;33m]\u001b[0m \u001b[1;33m+=\u001b[0m \u001b[1;36m1\u001b[0m\u001b[1;33m\u001b[0m\u001b[1;33m\u001b[0m\u001b[0m\n\u001b[0;32m      5\u001b[0m     \u001b[1;32melse\u001b[0m\u001b[1;33m:\u001b[0m\u001b[1;33m\u001b[0m\u001b[1;33m\u001b[0m\u001b[0m\n",
      "\u001b[1;31mNameError\u001b[0m: name 'document' is not defined"
     ]
    }
   ],
   "source": [
    "word_counts = {}\n",
    "for word in document:\n",
    "    if word in word_counts:\n",
    "        word_counts[word] += 1\n",
    "    else:\n",
    "        word_counts[word] = 1"
   ]
  },
  {
   "cell_type": "code",
   "execution_count": 672,
   "metadata": {},
   "outputs": [
    {
     "name": "stdout",
     "output_type": "stream",
     "text": [
      "6\n"
     ]
    }
   ],
   "source": [
    "def doubler_correct(f):\n",
    "    \n",
    "    def g(*args, **kwargs):\n",
    "        return 2 * f(*args, **kwargs)\n",
    "    return g\n",
    "\n",
    "g = doubler_correct(f2)\n",
    "print(g(1, 2)) # 6"
   ]
  },
  {
   "cell_type": "code",
   "execution_count": null,
   "metadata": {},
   "outputs": [],
   "source": []
  }
 ],
 "metadata": {
  "kernelspec": {
   "display_name": "Python 3",
   "language": "python",
   "name": "python3"
  },
  "language_info": {
   "codemirror_mode": {
    "name": "ipython",
    "version": 3
   },
   "file_extension": ".py",
   "mimetype": "text/x-python",
   "name": "python",
   "nbconvert_exporter": "python",
   "pygments_lexer": "ipython3",
   "version": "3.7.1"
  }
 },
 "nbformat": 4,
 "nbformat_minor": 2
}
