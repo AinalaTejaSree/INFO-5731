{
  "nbformat": 4,
  "nbformat_minor": 0,
  "metadata": {
    "colab": {
      "name": "Mudumba_Assignment 3.ipynb",
      "version": "0.3.2",
      "provenance": [],
      "collapsed_sections": []
    },
    "kernelspec": {
      "name": "python3",
      "display_name": "Python 3"
    }
  },
  "cells": [
    {
      "metadata": {
        "id": "9GLEkynozH-d",
        "colab_type": "text"
      },
      "cell_type": "markdown",
      "source": [
        "# Assignment 3\n",
        "\n",
        "In this assignment, you will try to gather information from open data via API and visualize them.\n",
        "\n",
        "We will use the API from wikipedia as an example.\n",
        "\n",
        "Please go to [this web page](https://wikitech.wikimedia.org/wiki/Analytics/AQS/Pageviews), to learn how to get Pageviews of a certain wikipedia page.\n",
        "\n",
        "![](https://github.com/wshuyi/github_pub_img/raw/master/assets/2019-02-13-10-57-35-202134.png)\n",
        "\n",
        "As you can see here, to get a pageview count timeseries of en.wikipedia's article \"[Albert Enstein](https://en.wikipedia.org/wiki/Albert_Einstein)\" for the month of October 2015, you can use the following url with a \"GET\" method.\n",
        "\n",
        "[https://wikimedia.org/api/rest\\_v1/metrics/pageviews/per-article/en.wikipedia/all-access/all-agents/Albert\\_Einstein/daily/2015100100/2015103100](https://wikimedia.org/api/rest_v1/metrics/pageviews/per-article/en.wikipedia/all-access/all-agents/Albert_Einstein/daily/2015100100/2015103100)\n",
        "\n",
        "Your task, is to get Pageviews count timeseries of en.wikipedia's article \"[University of North Texas](https://en.wikipedia.org/wiki/University_of_North_Texas)\" for the month of January 2019.\n",
        "\n",
        "\n",
        "![](https://github.com/wshuyi/github_pub_img/raw/master/assets/2019-02-13-10-57-35-210502.png)\n",
        "\n",
        "Please answer the following questions by putting your code in the corresponding chunks. You can create new code or text chunks if necessary.\n",
        "\n"
      ]
    },
    {
      "metadata": {
        "id": "ySIA8u72zPIc",
        "colab_type": "text"
      },
      "cell_type": "markdown",
      "source": [
        "**Question 1. (20 points)** Make the corresponding url to gather the required data, and save it into a variable called 'url'.\n",
        "\n"
      ]
    },
    {
      "metadata": {
        "id": "NDBkVHDlzRtp",
        "colab_type": "code",
        "colab": {
          "base_uri": "https://localhost:8080/",
          "height": 35
        },
        "outputId": "98bdc216-fa1a-4fd6-b204-ebef759fceeb"
      },
      "cell_type": "code",
      "source": [
        "url = 'https://wikimedia.org/api/rest_v1/metrics/pageviews/per-article/en.wikipedia/all-access/all-agents/University_of_North_Texas/daily/2019010100/2019013100'\n",
        "url"
      ],
      "execution_count": 8,
      "outputs": [
        {
          "output_type": "execute_result",
          "data": {
            "text/plain": [
              "'https://wikimedia.org/api/rest_v1/metrics/pageviews/per-article/en.wikipedia/all-access/all-agents/University_of_North_Texas/daily/2019010100/2019013100'"
            ]
          },
          "metadata": {
            "tags": []
          },
          "execution_count": 8
        }
      ]
    },
    {
      "metadata": {
        "id": "9dQcHDnvzR_m",
        "colab_type": "text"
      },
      "cell_type": "markdown",
      "source": [
        "**Question 2. (20 points)** Call the API by using the url you created in Question 1, and print out the JSON data. (If you are not familiar with JSON format, please follow [this link](https://en.wikipedia.org/wiki/JSON). Also, you can visit [this link](https://www.w3schools.com/python/python_json.asp) to know how to operate on JSON data with Python. )\n",
        "\n",
        "![](https://github.com/wshuyi/github_pub_img/raw/master/assets/2019-02-13-10-57-35-196474.png)\n",
        "\n"
      ]
    },
    {
      "metadata": {
        "id": "UwObkLeozTxU",
        "colab_type": "code",
        "colab": {}
      },
      "cell_type": "code",
      "source": [
        "import json\n",
        "import requests"
      ],
      "execution_count": 0,
      "outputs": []
    },
    {
      "metadata": {
        "id": "nsY-bt0v-gMY",
        "colab_type": "code",
        "colab": {
          "base_uri": "https://localhost:8080/",
          "height": 35
        },
        "outputId": "16177c08-88af-43a2-e330-c10c533287f9"
      },
      "cell_type": "code",
      "source": [
        "data=requests.get(url)\n",
        "data"
      ],
      "execution_count": 17,
      "outputs": [
        {
          "output_type": "execute_result",
          "data": {
            "text/plain": [
              "<Response [200]>"
            ]
          },
          "metadata": {
            "tags": []
          },
          "execution_count": 17
        }
      ]
    },
    {
      "metadata": {
        "id": "i8a5Xzfy_KoA",
        "colab_type": "code",
        "colab": {
          "base_uri": "https://localhost:8080/",
          "height": 3836
        },
        "outputId": "edd29175-c6f5-4d9d-a29f-40de27d3e221"
      },
      "cell_type": "code",
      "source": [
        "items=data.json()\n",
        "items"
      ],
      "execution_count": 42,
      "outputs": [
        {
          "output_type": "execute_result",
          "data": {
            "text/plain": [
              "{'items': [{'access': 'all-access',\n",
              "   'agent': 'all-agents',\n",
              "   'article': 'University_of_North_Texas',\n",
              "   'granularity': 'daily',\n",
              "   'project': 'en.wikipedia',\n",
              "   'timestamp': '2019010100',\n",
              "   'views': 732},\n",
              "  {'access': 'all-access',\n",
              "   'agent': 'all-agents',\n",
              "   'article': 'University_of_North_Texas',\n",
              "   'granularity': 'daily',\n",
              "   'project': 'en.wikipedia',\n",
              "   'timestamp': '2019010200',\n",
              "   'views': 834},\n",
              "  {'access': 'all-access',\n",
              "   'agent': 'all-agents',\n",
              "   'article': 'University_of_North_Texas',\n",
              "   'granularity': 'daily',\n",
              "   'project': 'en.wikipedia',\n",
              "   'timestamp': '2019010300',\n",
              "   'views': 821},\n",
              "  {'access': 'all-access',\n",
              "   'agent': 'all-agents',\n",
              "   'article': 'University_of_North_Texas',\n",
              "   'granularity': 'daily',\n",
              "   'project': 'en.wikipedia',\n",
              "   'timestamp': '2019010400',\n",
              "   'views': 719},\n",
              "  {'access': 'all-access',\n",
              "   'agent': 'all-agents',\n",
              "   'article': 'University_of_North_Texas',\n",
              "   'granularity': 'daily',\n",
              "   'project': 'en.wikipedia',\n",
              "   'timestamp': '2019010500',\n",
              "   'views': 672},\n",
              "  {'access': 'all-access',\n",
              "   'agent': 'all-agents',\n",
              "   'article': 'University_of_North_Texas',\n",
              "   'granularity': 'daily',\n",
              "   'project': 'en.wikipedia',\n",
              "   'timestamp': '2019010600',\n",
              "   'views': 676},\n",
              "  {'access': 'all-access',\n",
              "   'agent': 'all-agents',\n",
              "   'article': 'University_of_North_Texas',\n",
              "   'granularity': 'daily',\n",
              "   'project': 'en.wikipedia',\n",
              "   'timestamp': '2019010700',\n",
              "   'views': 632},\n",
              "  {'access': 'all-access',\n",
              "   'agent': 'all-agents',\n",
              "   'article': 'University_of_North_Texas',\n",
              "   'granularity': 'daily',\n",
              "   'project': 'en.wikipedia',\n",
              "   'timestamp': '2019010800',\n",
              "   'views': 788},\n",
              "  {'access': 'all-access',\n",
              "   'agent': 'all-agents',\n",
              "   'article': 'University_of_North_Texas',\n",
              "   'granularity': 'daily',\n",
              "   'project': 'en.wikipedia',\n",
              "   'timestamp': '2019010900',\n",
              "   'views': 712},\n",
              "  {'access': 'all-access',\n",
              "   'agent': 'all-agents',\n",
              "   'article': 'University_of_North_Texas',\n",
              "   'granularity': 'daily',\n",
              "   'project': 'en.wikipedia',\n",
              "   'timestamp': '2019011000',\n",
              "   'views': 673},\n",
              "  {'access': 'all-access',\n",
              "   'agent': 'all-agents',\n",
              "   'article': 'University_of_North_Texas',\n",
              "   'granularity': 'daily',\n",
              "   'project': 'en.wikipedia',\n",
              "   'timestamp': '2019011100',\n",
              "   'views': 784},\n",
              "  {'access': 'all-access',\n",
              "   'agent': 'all-agents',\n",
              "   'article': 'University_of_North_Texas',\n",
              "   'granularity': 'daily',\n",
              "   'project': 'en.wikipedia',\n",
              "   'timestamp': '2019011200',\n",
              "   'views': 663},\n",
              "  {'access': 'all-access',\n",
              "   'agent': 'all-agents',\n",
              "   'article': 'University_of_North_Texas',\n",
              "   'granularity': 'daily',\n",
              "   'project': 'en.wikipedia',\n",
              "   'timestamp': '2019011300',\n",
              "   'views': 685},\n",
              "  {'access': 'all-access',\n",
              "   'agent': 'all-agents',\n",
              "   'article': 'University_of_North_Texas',\n",
              "   'granularity': 'daily',\n",
              "   'project': 'en.wikipedia',\n",
              "   'timestamp': '2019011400',\n",
              "   'views': 752},\n",
              "  {'access': 'all-access',\n",
              "   'agent': 'all-agents',\n",
              "   'article': 'University_of_North_Texas',\n",
              "   'granularity': 'daily',\n",
              "   'project': 'en.wikipedia',\n",
              "   'timestamp': '2019011500',\n",
              "   'views': 731},\n",
              "  {'access': 'all-access',\n",
              "   'agent': 'all-agents',\n",
              "   'article': 'University_of_North_Texas',\n",
              "   'granularity': 'daily',\n",
              "   'project': 'en.wikipedia',\n",
              "   'timestamp': '2019011600',\n",
              "   'views': 779},\n",
              "  {'access': 'all-access',\n",
              "   'agent': 'all-agents',\n",
              "   'article': 'University_of_North_Texas',\n",
              "   'granularity': 'daily',\n",
              "   'project': 'en.wikipedia',\n",
              "   'timestamp': '2019011700',\n",
              "   'views': 779},\n",
              "  {'access': 'all-access',\n",
              "   'agent': 'all-agents',\n",
              "   'article': 'University_of_North_Texas',\n",
              "   'granularity': 'daily',\n",
              "   'project': 'en.wikipedia',\n",
              "   'timestamp': '2019011800',\n",
              "   'views': 616},\n",
              "  {'access': 'all-access',\n",
              "   'agent': 'all-agents',\n",
              "   'article': 'University_of_North_Texas',\n",
              "   'granularity': 'daily',\n",
              "   'project': 'en.wikipedia',\n",
              "   'timestamp': '2019011900',\n",
              "   'views': 502},\n",
              "  {'access': 'all-access',\n",
              "   'agent': 'all-agents',\n",
              "   'article': 'University_of_North_Texas',\n",
              "   'granularity': 'daily',\n",
              "   'project': 'en.wikipedia',\n",
              "   'timestamp': '2019012000',\n",
              "   'views': 487},\n",
              "  {'access': 'all-access',\n",
              "   'agent': 'all-agents',\n",
              "   'article': 'University_of_North_Texas',\n",
              "   'granularity': 'daily',\n",
              "   'project': 'en.wikipedia',\n",
              "   'timestamp': '2019012100',\n",
              "   'views': 505},\n",
              "  {'access': 'all-access',\n",
              "   'agent': 'all-agents',\n",
              "   'article': 'University_of_North_Texas',\n",
              "   'granularity': 'daily',\n",
              "   'project': 'en.wikipedia',\n",
              "   'timestamp': '2019012200',\n",
              "   'views': 567},\n",
              "  {'access': 'all-access',\n",
              "   'agent': 'all-agents',\n",
              "   'article': 'University_of_North_Texas',\n",
              "   'granularity': 'daily',\n",
              "   'project': 'en.wikipedia',\n",
              "   'timestamp': '2019012300',\n",
              "   'views': 537},\n",
              "  {'access': 'all-access',\n",
              "   'agent': 'all-agents',\n",
              "   'article': 'University_of_North_Texas',\n",
              "   'granularity': 'daily',\n",
              "   'project': 'en.wikipedia',\n",
              "   'timestamp': '2019012400',\n",
              "   'views': 504},\n",
              "  {'access': 'all-access',\n",
              "   'agent': 'all-agents',\n",
              "   'article': 'University_of_North_Texas',\n",
              "   'granularity': 'daily',\n",
              "   'project': 'en.wikipedia',\n",
              "   'timestamp': '2019012500',\n",
              "   'views': 574},\n",
              "  {'access': 'all-access',\n",
              "   'agent': 'all-agents',\n",
              "   'article': 'University_of_North_Texas',\n",
              "   'granularity': 'daily',\n",
              "   'project': 'en.wikipedia',\n",
              "   'timestamp': '2019012600',\n",
              "   'views': 430},\n",
              "  {'access': 'all-access',\n",
              "   'agent': 'all-agents',\n",
              "   'article': 'University_of_North_Texas',\n",
              "   'granularity': 'daily',\n",
              "   'project': 'en.wikipedia',\n",
              "   'timestamp': '2019012700',\n",
              "   'views': 412},\n",
              "  {'access': 'all-access',\n",
              "   'agent': 'all-agents',\n",
              "   'article': 'University_of_North_Texas',\n",
              "   'granularity': 'daily',\n",
              "   'project': 'en.wikipedia',\n",
              "   'timestamp': '2019012800',\n",
              "   'views': 486},\n",
              "  {'access': 'all-access',\n",
              "   'agent': 'all-agents',\n",
              "   'article': 'University_of_North_Texas',\n",
              "   'granularity': 'daily',\n",
              "   'project': 'en.wikipedia',\n",
              "   'timestamp': '2019012900',\n",
              "   'views': 605},\n",
              "  {'access': 'all-access',\n",
              "   'agent': 'all-agents',\n",
              "   'article': 'University_of_North_Texas',\n",
              "   'granularity': 'daily',\n",
              "   'project': 'en.wikipedia',\n",
              "   'timestamp': '2019013000',\n",
              "   'views': 515},\n",
              "  {'access': 'all-access',\n",
              "   'agent': 'all-agents',\n",
              "   'article': 'University_of_North_Texas',\n",
              "   'granularity': 'daily',\n",
              "   'project': 'en.wikipedia',\n",
              "   'timestamp': '2019013100',\n",
              "   'views': 489}]}"
            ]
          },
          "metadata": {
            "tags": []
          },
          "execution_count": 42
        }
      ]
    },
    {
      "metadata": {
        "id": "TNrhAwQLzVII",
        "colab_type": "text"
      },
      "cell_type": "markdown",
      "source": [
        "**Question 3. (20 points)** Load the JSON data into Pandas Dataframe, and show the first five rows.\n",
        "\n",
        "![](https://github.com/wshuyi/github_pub_img/raw/master/assets/2019-02-13-10-57-35-214261.png)\n",
        "\n"
      ]
    },
    {
      "metadata": {
        "id": "ndFJH614zFog",
        "colab_type": "code",
        "colab": {}
      },
      "cell_type": "code",
      "source": [
        "import pandas as pd"
      ],
      "execution_count": 0,
      "outputs": []
    },
    {
      "metadata": {
        "id": "eyWmBrzN_YUF",
        "colab_type": "code",
        "colab": {
          "base_uri": "https://localhost:8080/",
          "height": 35
        },
        "outputId": "83cc7d40-b228-4061-ad98-07e0302288c8"
      },
      "cell_type": "code",
      "source": [
        "\n",
        "items.keys()"
      ],
      "execution_count": 43,
      "outputs": [
        {
          "output_type": "execute_result",
          "data": {
            "text/plain": [
              "dict_keys(['items'])"
            ]
          },
          "metadata": {
            "tags": []
          },
          "execution_count": 43
        }
      ]
    },
    {
      "metadata": {
        "id": "9E2uF_tdAOdm",
        "colab_type": "code",
        "colab": {
          "base_uri": "https://localhost:8080/",
          "height": 55
        },
        "outputId": "dd0a779a-7d61-491c-f1da-c9740ed76ff8"
      },
      "cell_type": "code",
      "source": [
        "items.values()"
      ],
      "execution_count": 44,
      "outputs": [
        {
          "output_type": "execute_result",
          "data": {
            "text/plain": [
              "dict_values([[{'project': 'en.wikipedia', 'article': 'University_of_North_Texas', 'granularity': 'daily', 'timestamp': '2019010100', 'access': 'all-access', 'agent': 'all-agents', 'views': 732}, {'project': 'en.wikipedia', 'article': 'University_of_North_Texas', 'granularity': 'daily', 'timestamp': '2019010200', 'access': 'all-access', 'agent': 'all-agents', 'views': 834}, {'project': 'en.wikipedia', 'article': 'University_of_North_Texas', 'granularity': 'daily', 'timestamp': '2019010300', 'access': 'all-access', 'agent': 'all-agents', 'views': 821}, {'project': 'en.wikipedia', 'article': 'University_of_North_Texas', 'granularity': 'daily', 'timestamp': '2019010400', 'access': 'all-access', 'agent': 'all-agents', 'views': 719}, {'project': 'en.wikipedia', 'article': 'University_of_North_Texas', 'granularity': 'daily', 'timestamp': '2019010500', 'access': 'all-access', 'agent': 'all-agents', 'views': 672}, {'project': 'en.wikipedia', 'article': 'University_of_North_Texas', 'granularity': 'daily', 'timestamp': '2019010600', 'access': 'all-access', 'agent': 'all-agents', 'views': 676}, {'project': 'en.wikipedia', 'article': 'University_of_North_Texas', 'granularity': 'daily', 'timestamp': '2019010700', 'access': 'all-access', 'agent': 'all-agents', 'views': 632}, {'project': 'en.wikipedia', 'article': 'University_of_North_Texas', 'granularity': 'daily', 'timestamp': '2019010800', 'access': 'all-access', 'agent': 'all-agents', 'views': 788}, {'project': 'en.wikipedia', 'article': 'University_of_North_Texas', 'granularity': 'daily', 'timestamp': '2019010900', 'access': 'all-access', 'agent': 'all-agents', 'views': 712}, {'project': 'en.wikipedia', 'article': 'University_of_North_Texas', 'granularity': 'daily', 'timestamp': '2019011000', 'access': 'all-access', 'agent': 'all-agents', 'views': 673}, {'project': 'en.wikipedia', 'article': 'University_of_North_Texas', 'granularity': 'daily', 'timestamp': '2019011100', 'access': 'all-access', 'agent': 'all-agents', 'views': 784}, {'project': 'en.wikipedia', 'article': 'University_of_North_Texas', 'granularity': 'daily', 'timestamp': '2019011200', 'access': 'all-access', 'agent': 'all-agents', 'views': 663}, {'project': 'en.wikipedia', 'article': 'University_of_North_Texas', 'granularity': 'daily', 'timestamp': '2019011300', 'access': 'all-access', 'agent': 'all-agents', 'views': 685}, {'project': 'en.wikipedia', 'article': 'University_of_North_Texas', 'granularity': 'daily', 'timestamp': '2019011400', 'access': 'all-access', 'agent': 'all-agents', 'views': 752}, {'project': 'en.wikipedia', 'article': 'University_of_North_Texas', 'granularity': 'daily', 'timestamp': '2019011500', 'access': 'all-access', 'agent': 'all-agents', 'views': 731}, {'project': 'en.wikipedia', 'article': 'University_of_North_Texas', 'granularity': 'daily', 'timestamp': '2019011600', 'access': 'all-access', 'agent': 'all-agents', 'views': 779}, {'project': 'en.wikipedia', 'article': 'University_of_North_Texas', 'granularity': 'daily', 'timestamp': '2019011700', 'access': 'all-access', 'agent': 'all-agents', 'views': 779}, {'project': 'en.wikipedia', 'article': 'University_of_North_Texas', 'granularity': 'daily', 'timestamp': '2019011800', 'access': 'all-access', 'agent': 'all-agents', 'views': 616}, {'project': 'en.wikipedia', 'article': 'University_of_North_Texas', 'granularity': 'daily', 'timestamp': '2019011900', 'access': 'all-access', 'agent': 'all-agents', 'views': 502}, {'project': 'en.wikipedia', 'article': 'University_of_North_Texas', 'granularity': 'daily', 'timestamp': '2019012000', 'access': 'all-access', 'agent': 'all-agents', 'views': 487}, {'project': 'en.wikipedia', 'article': 'University_of_North_Texas', 'granularity': 'daily', 'timestamp': '2019012100', 'access': 'all-access', 'agent': 'all-agents', 'views': 505}, {'project': 'en.wikipedia', 'article': 'University_of_North_Texas', 'granularity': 'daily', 'timestamp': '2019012200', 'access': 'all-access', 'agent': 'all-agents', 'views': 567}, {'project': 'en.wikipedia', 'article': 'University_of_North_Texas', 'granularity': 'daily', 'timestamp': '2019012300', 'access': 'all-access', 'agent': 'all-agents', 'views': 537}, {'project': 'en.wikipedia', 'article': 'University_of_North_Texas', 'granularity': 'daily', 'timestamp': '2019012400', 'access': 'all-access', 'agent': 'all-agents', 'views': 504}, {'project': 'en.wikipedia', 'article': 'University_of_North_Texas', 'granularity': 'daily', 'timestamp': '2019012500', 'access': 'all-access', 'agent': 'all-agents', 'views': 574}, {'project': 'en.wikipedia', 'article': 'University_of_North_Texas', 'granularity': 'daily', 'timestamp': '2019012600', 'access': 'all-access', 'agent': 'all-agents', 'views': 430}, {'project': 'en.wikipedia', 'article': 'University_of_North_Texas', 'granularity': 'daily', 'timestamp': '2019012700', 'access': 'all-access', 'agent': 'all-agents', 'views': 412}, {'project': 'en.wikipedia', 'article': 'University_of_North_Texas', 'granularity': 'daily', 'timestamp': '2019012800', 'access': 'all-access', 'agent': 'all-agents', 'views': 486}, {'project': 'en.wikipedia', 'article': 'University_of_North_Texas', 'granularity': 'daily', 'timestamp': '2019012900', 'access': 'all-access', 'agent': 'all-agents', 'views': 605}, {'project': 'en.wikipedia', 'article': 'University_of_North_Texas', 'granularity': 'daily', 'timestamp': '2019013000', 'access': 'all-access', 'agent': 'all-agents', 'views': 515}, {'project': 'en.wikipedia', 'article': 'University_of_North_Texas', 'granularity': 'daily', 'timestamp': '2019013100', 'access': 'all-access', 'agent': 'all-agents', 'views': 489}]])"
            ]
          },
          "metadata": {
            "tags": []
          },
          "execution_count": 44
        }
      ]
    },
    {
      "metadata": {
        "id": "VoxfmHT8AmwK",
        "colab_type": "code",
        "colab": {
          "base_uri": "https://localhost:8080/",
          "height": 3836
        },
        "outputId": "85359da4-448c-47e9-ccd7-50e79a33b3db"
      },
      "cell_type": "code",
      "source": [
        "items2=items\n",
        "items2"
      ],
      "execution_count": 45,
      "outputs": [
        {
          "output_type": "execute_result",
          "data": {
            "text/plain": [
              "{'items': [{'access': 'all-access',\n",
              "   'agent': 'all-agents',\n",
              "   'article': 'University_of_North_Texas',\n",
              "   'granularity': 'daily',\n",
              "   'project': 'en.wikipedia',\n",
              "   'timestamp': '2019010100',\n",
              "   'views': 732},\n",
              "  {'access': 'all-access',\n",
              "   'agent': 'all-agents',\n",
              "   'article': 'University_of_North_Texas',\n",
              "   'granularity': 'daily',\n",
              "   'project': 'en.wikipedia',\n",
              "   'timestamp': '2019010200',\n",
              "   'views': 834},\n",
              "  {'access': 'all-access',\n",
              "   'agent': 'all-agents',\n",
              "   'article': 'University_of_North_Texas',\n",
              "   'granularity': 'daily',\n",
              "   'project': 'en.wikipedia',\n",
              "   'timestamp': '2019010300',\n",
              "   'views': 821},\n",
              "  {'access': 'all-access',\n",
              "   'agent': 'all-agents',\n",
              "   'article': 'University_of_North_Texas',\n",
              "   'granularity': 'daily',\n",
              "   'project': 'en.wikipedia',\n",
              "   'timestamp': '2019010400',\n",
              "   'views': 719},\n",
              "  {'access': 'all-access',\n",
              "   'agent': 'all-agents',\n",
              "   'article': 'University_of_North_Texas',\n",
              "   'granularity': 'daily',\n",
              "   'project': 'en.wikipedia',\n",
              "   'timestamp': '2019010500',\n",
              "   'views': 672},\n",
              "  {'access': 'all-access',\n",
              "   'agent': 'all-agents',\n",
              "   'article': 'University_of_North_Texas',\n",
              "   'granularity': 'daily',\n",
              "   'project': 'en.wikipedia',\n",
              "   'timestamp': '2019010600',\n",
              "   'views': 676},\n",
              "  {'access': 'all-access',\n",
              "   'agent': 'all-agents',\n",
              "   'article': 'University_of_North_Texas',\n",
              "   'granularity': 'daily',\n",
              "   'project': 'en.wikipedia',\n",
              "   'timestamp': '2019010700',\n",
              "   'views': 632},\n",
              "  {'access': 'all-access',\n",
              "   'agent': 'all-agents',\n",
              "   'article': 'University_of_North_Texas',\n",
              "   'granularity': 'daily',\n",
              "   'project': 'en.wikipedia',\n",
              "   'timestamp': '2019010800',\n",
              "   'views': 788},\n",
              "  {'access': 'all-access',\n",
              "   'agent': 'all-agents',\n",
              "   'article': 'University_of_North_Texas',\n",
              "   'granularity': 'daily',\n",
              "   'project': 'en.wikipedia',\n",
              "   'timestamp': '2019010900',\n",
              "   'views': 712},\n",
              "  {'access': 'all-access',\n",
              "   'agent': 'all-agents',\n",
              "   'article': 'University_of_North_Texas',\n",
              "   'granularity': 'daily',\n",
              "   'project': 'en.wikipedia',\n",
              "   'timestamp': '2019011000',\n",
              "   'views': 673},\n",
              "  {'access': 'all-access',\n",
              "   'agent': 'all-agents',\n",
              "   'article': 'University_of_North_Texas',\n",
              "   'granularity': 'daily',\n",
              "   'project': 'en.wikipedia',\n",
              "   'timestamp': '2019011100',\n",
              "   'views': 784},\n",
              "  {'access': 'all-access',\n",
              "   'agent': 'all-agents',\n",
              "   'article': 'University_of_North_Texas',\n",
              "   'granularity': 'daily',\n",
              "   'project': 'en.wikipedia',\n",
              "   'timestamp': '2019011200',\n",
              "   'views': 663},\n",
              "  {'access': 'all-access',\n",
              "   'agent': 'all-agents',\n",
              "   'article': 'University_of_North_Texas',\n",
              "   'granularity': 'daily',\n",
              "   'project': 'en.wikipedia',\n",
              "   'timestamp': '2019011300',\n",
              "   'views': 685},\n",
              "  {'access': 'all-access',\n",
              "   'agent': 'all-agents',\n",
              "   'article': 'University_of_North_Texas',\n",
              "   'granularity': 'daily',\n",
              "   'project': 'en.wikipedia',\n",
              "   'timestamp': '2019011400',\n",
              "   'views': 752},\n",
              "  {'access': 'all-access',\n",
              "   'agent': 'all-agents',\n",
              "   'article': 'University_of_North_Texas',\n",
              "   'granularity': 'daily',\n",
              "   'project': 'en.wikipedia',\n",
              "   'timestamp': '2019011500',\n",
              "   'views': 731},\n",
              "  {'access': 'all-access',\n",
              "   'agent': 'all-agents',\n",
              "   'article': 'University_of_North_Texas',\n",
              "   'granularity': 'daily',\n",
              "   'project': 'en.wikipedia',\n",
              "   'timestamp': '2019011600',\n",
              "   'views': 779},\n",
              "  {'access': 'all-access',\n",
              "   'agent': 'all-agents',\n",
              "   'article': 'University_of_North_Texas',\n",
              "   'granularity': 'daily',\n",
              "   'project': 'en.wikipedia',\n",
              "   'timestamp': '2019011700',\n",
              "   'views': 779},\n",
              "  {'access': 'all-access',\n",
              "   'agent': 'all-agents',\n",
              "   'article': 'University_of_North_Texas',\n",
              "   'granularity': 'daily',\n",
              "   'project': 'en.wikipedia',\n",
              "   'timestamp': '2019011800',\n",
              "   'views': 616},\n",
              "  {'access': 'all-access',\n",
              "   'agent': 'all-agents',\n",
              "   'article': 'University_of_North_Texas',\n",
              "   'granularity': 'daily',\n",
              "   'project': 'en.wikipedia',\n",
              "   'timestamp': '2019011900',\n",
              "   'views': 502},\n",
              "  {'access': 'all-access',\n",
              "   'agent': 'all-agents',\n",
              "   'article': 'University_of_North_Texas',\n",
              "   'granularity': 'daily',\n",
              "   'project': 'en.wikipedia',\n",
              "   'timestamp': '2019012000',\n",
              "   'views': 487},\n",
              "  {'access': 'all-access',\n",
              "   'agent': 'all-agents',\n",
              "   'article': 'University_of_North_Texas',\n",
              "   'granularity': 'daily',\n",
              "   'project': 'en.wikipedia',\n",
              "   'timestamp': '2019012100',\n",
              "   'views': 505},\n",
              "  {'access': 'all-access',\n",
              "   'agent': 'all-agents',\n",
              "   'article': 'University_of_North_Texas',\n",
              "   'granularity': 'daily',\n",
              "   'project': 'en.wikipedia',\n",
              "   'timestamp': '2019012200',\n",
              "   'views': 567},\n",
              "  {'access': 'all-access',\n",
              "   'agent': 'all-agents',\n",
              "   'article': 'University_of_North_Texas',\n",
              "   'granularity': 'daily',\n",
              "   'project': 'en.wikipedia',\n",
              "   'timestamp': '2019012300',\n",
              "   'views': 537},\n",
              "  {'access': 'all-access',\n",
              "   'agent': 'all-agents',\n",
              "   'article': 'University_of_North_Texas',\n",
              "   'granularity': 'daily',\n",
              "   'project': 'en.wikipedia',\n",
              "   'timestamp': '2019012400',\n",
              "   'views': 504},\n",
              "  {'access': 'all-access',\n",
              "   'agent': 'all-agents',\n",
              "   'article': 'University_of_North_Texas',\n",
              "   'granularity': 'daily',\n",
              "   'project': 'en.wikipedia',\n",
              "   'timestamp': '2019012500',\n",
              "   'views': 574},\n",
              "  {'access': 'all-access',\n",
              "   'agent': 'all-agents',\n",
              "   'article': 'University_of_North_Texas',\n",
              "   'granularity': 'daily',\n",
              "   'project': 'en.wikipedia',\n",
              "   'timestamp': '2019012600',\n",
              "   'views': 430},\n",
              "  {'access': 'all-access',\n",
              "   'agent': 'all-agents',\n",
              "   'article': 'University_of_North_Texas',\n",
              "   'granularity': 'daily',\n",
              "   'project': 'en.wikipedia',\n",
              "   'timestamp': '2019012700',\n",
              "   'views': 412},\n",
              "  {'access': 'all-access',\n",
              "   'agent': 'all-agents',\n",
              "   'article': 'University_of_North_Texas',\n",
              "   'granularity': 'daily',\n",
              "   'project': 'en.wikipedia',\n",
              "   'timestamp': '2019012800',\n",
              "   'views': 486},\n",
              "  {'access': 'all-access',\n",
              "   'agent': 'all-agents',\n",
              "   'article': 'University_of_North_Texas',\n",
              "   'granularity': 'daily',\n",
              "   'project': 'en.wikipedia',\n",
              "   'timestamp': '2019012900',\n",
              "   'views': 605},\n",
              "  {'access': 'all-access',\n",
              "   'agent': 'all-agents',\n",
              "   'article': 'University_of_North_Texas',\n",
              "   'granularity': 'daily',\n",
              "   'project': 'en.wikipedia',\n",
              "   'timestamp': '2019013000',\n",
              "   'views': 515},\n",
              "  {'access': 'all-access',\n",
              "   'agent': 'all-agents',\n",
              "   'article': 'University_of_North_Texas',\n",
              "   'granularity': 'daily',\n",
              "   'project': 'en.wikipedia',\n",
              "   'timestamp': '2019013100',\n",
              "   'views': 489}]}"
            ]
          },
          "metadata": {
            "tags": []
          },
          "execution_count": 45
        }
      ]
    },
    {
      "metadata": {
        "id": "VMq9NCC3BCK1",
        "colab_type": "code",
        "colab": {
          "base_uri": "https://localhost:8080/",
          "height": 3836
        },
        "outputId": "d150bde9-4f74-433c-f06d-a3e01ba45c1c"
      },
      "cell_type": "code",
      "source": [
        "frame=items2.pop('items')\n",
        "frame"
      ],
      "execution_count": 46,
      "outputs": [
        {
          "output_type": "execute_result",
          "data": {
            "text/plain": [
              "[{'access': 'all-access',\n",
              "  'agent': 'all-agents',\n",
              "  'article': 'University_of_North_Texas',\n",
              "  'granularity': 'daily',\n",
              "  'project': 'en.wikipedia',\n",
              "  'timestamp': '2019010100',\n",
              "  'views': 732},\n",
              " {'access': 'all-access',\n",
              "  'agent': 'all-agents',\n",
              "  'article': 'University_of_North_Texas',\n",
              "  'granularity': 'daily',\n",
              "  'project': 'en.wikipedia',\n",
              "  'timestamp': '2019010200',\n",
              "  'views': 834},\n",
              " {'access': 'all-access',\n",
              "  'agent': 'all-agents',\n",
              "  'article': 'University_of_North_Texas',\n",
              "  'granularity': 'daily',\n",
              "  'project': 'en.wikipedia',\n",
              "  'timestamp': '2019010300',\n",
              "  'views': 821},\n",
              " {'access': 'all-access',\n",
              "  'agent': 'all-agents',\n",
              "  'article': 'University_of_North_Texas',\n",
              "  'granularity': 'daily',\n",
              "  'project': 'en.wikipedia',\n",
              "  'timestamp': '2019010400',\n",
              "  'views': 719},\n",
              " {'access': 'all-access',\n",
              "  'agent': 'all-agents',\n",
              "  'article': 'University_of_North_Texas',\n",
              "  'granularity': 'daily',\n",
              "  'project': 'en.wikipedia',\n",
              "  'timestamp': '2019010500',\n",
              "  'views': 672},\n",
              " {'access': 'all-access',\n",
              "  'agent': 'all-agents',\n",
              "  'article': 'University_of_North_Texas',\n",
              "  'granularity': 'daily',\n",
              "  'project': 'en.wikipedia',\n",
              "  'timestamp': '2019010600',\n",
              "  'views': 676},\n",
              " {'access': 'all-access',\n",
              "  'agent': 'all-agents',\n",
              "  'article': 'University_of_North_Texas',\n",
              "  'granularity': 'daily',\n",
              "  'project': 'en.wikipedia',\n",
              "  'timestamp': '2019010700',\n",
              "  'views': 632},\n",
              " {'access': 'all-access',\n",
              "  'agent': 'all-agents',\n",
              "  'article': 'University_of_North_Texas',\n",
              "  'granularity': 'daily',\n",
              "  'project': 'en.wikipedia',\n",
              "  'timestamp': '2019010800',\n",
              "  'views': 788},\n",
              " {'access': 'all-access',\n",
              "  'agent': 'all-agents',\n",
              "  'article': 'University_of_North_Texas',\n",
              "  'granularity': 'daily',\n",
              "  'project': 'en.wikipedia',\n",
              "  'timestamp': '2019010900',\n",
              "  'views': 712},\n",
              " {'access': 'all-access',\n",
              "  'agent': 'all-agents',\n",
              "  'article': 'University_of_North_Texas',\n",
              "  'granularity': 'daily',\n",
              "  'project': 'en.wikipedia',\n",
              "  'timestamp': '2019011000',\n",
              "  'views': 673},\n",
              " {'access': 'all-access',\n",
              "  'agent': 'all-agents',\n",
              "  'article': 'University_of_North_Texas',\n",
              "  'granularity': 'daily',\n",
              "  'project': 'en.wikipedia',\n",
              "  'timestamp': '2019011100',\n",
              "  'views': 784},\n",
              " {'access': 'all-access',\n",
              "  'agent': 'all-agents',\n",
              "  'article': 'University_of_North_Texas',\n",
              "  'granularity': 'daily',\n",
              "  'project': 'en.wikipedia',\n",
              "  'timestamp': '2019011200',\n",
              "  'views': 663},\n",
              " {'access': 'all-access',\n",
              "  'agent': 'all-agents',\n",
              "  'article': 'University_of_North_Texas',\n",
              "  'granularity': 'daily',\n",
              "  'project': 'en.wikipedia',\n",
              "  'timestamp': '2019011300',\n",
              "  'views': 685},\n",
              " {'access': 'all-access',\n",
              "  'agent': 'all-agents',\n",
              "  'article': 'University_of_North_Texas',\n",
              "  'granularity': 'daily',\n",
              "  'project': 'en.wikipedia',\n",
              "  'timestamp': '2019011400',\n",
              "  'views': 752},\n",
              " {'access': 'all-access',\n",
              "  'agent': 'all-agents',\n",
              "  'article': 'University_of_North_Texas',\n",
              "  'granularity': 'daily',\n",
              "  'project': 'en.wikipedia',\n",
              "  'timestamp': '2019011500',\n",
              "  'views': 731},\n",
              " {'access': 'all-access',\n",
              "  'agent': 'all-agents',\n",
              "  'article': 'University_of_North_Texas',\n",
              "  'granularity': 'daily',\n",
              "  'project': 'en.wikipedia',\n",
              "  'timestamp': '2019011600',\n",
              "  'views': 779},\n",
              " {'access': 'all-access',\n",
              "  'agent': 'all-agents',\n",
              "  'article': 'University_of_North_Texas',\n",
              "  'granularity': 'daily',\n",
              "  'project': 'en.wikipedia',\n",
              "  'timestamp': '2019011700',\n",
              "  'views': 779},\n",
              " {'access': 'all-access',\n",
              "  'agent': 'all-agents',\n",
              "  'article': 'University_of_North_Texas',\n",
              "  'granularity': 'daily',\n",
              "  'project': 'en.wikipedia',\n",
              "  'timestamp': '2019011800',\n",
              "  'views': 616},\n",
              " {'access': 'all-access',\n",
              "  'agent': 'all-agents',\n",
              "  'article': 'University_of_North_Texas',\n",
              "  'granularity': 'daily',\n",
              "  'project': 'en.wikipedia',\n",
              "  'timestamp': '2019011900',\n",
              "  'views': 502},\n",
              " {'access': 'all-access',\n",
              "  'agent': 'all-agents',\n",
              "  'article': 'University_of_North_Texas',\n",
              "  'granularity': 'daily',\n",
              "  'project': 'en.wikipedia',\n",
              "  'timestamp': '2019012000',\n",
              "  'views': 487},\n",
              " {'access': 'all-access',\n",
              "  'agent': 'all-agents',\n",
              "  'article': 'University_of_North_Texas',\n",
              "  'granularity': 'daily',\n",
              "  'project': 'en.wikipedia',\n",
              "  'timestamp': '2019012100',\n",
              "  'views': 505},\n",
              " {'access': 'all-access',\n",
              "  'agent': 'all-agents',\n",
              "  'article': 'University_of_North_Texas',\n",
              "  'granularity': 'daily',\n",
              "  'project': 'en.wikipedia',\n",
              "  'timestamp': '2019012200',\n",
              "  'views': 567},\n",
              " {'access': 'all-access',\n",
              "  'agent': 'all-agents',\n",
              "  'article': 'University_of_North_Texas',\n",
              "  'granularity': 'daily',\n",
              "  'project': 'en.wikipedia',\n",
              "  'timestamp': '2019012300',\n",
              "  'views': 537},\n",
              " {'access': 'all-access',\n",
              "  'agent': 'all-agents',\n",
              "  'article': 'University_of_North_Texas',\n",
              "  'granularity': 'daily',\n",
              "  'project': 'en.wikipedia',\n",
              "  'timestamp': '2019012400',\n",
              "  'views': 504},\n",
              " {'access': 'all-access',\n",
              "  'agent': 'all-agents',\n",
              "  'article': 'University_of_North_Texas',\n",
              "  'granularity': 'daily',\n",
              "  'project': 'en.wikipedia',\n",
              "  'timestamp': '2019012500',\n",
              "  'views': 574},\n",
              " {'access': 'all-access',\n",
              "  'agent': 'all-agents',\n",
              "  'article': 'University_of_North_Texas',\n",
              "  'granularity': 'daily',\n",
              "  'project': 'en.wikipedia',\n",
              "  'timestamp': '2019012600',\n",
              "  'views': 430},\n",
              " {'access': 'all-access',\n",
              "  'agent': 'all-agents',\n",
              "  'article': 'University_of_North_Texas',\n",
              "  'granularity': 'daily',\n",
              "  'project': 'en.wikipedia',\n",
              "  'timestamp': '2019012700',\n",
              "  'views': 412},\n",
              " {'access': 'all-access',\n",
              "  'agent': 'all-agents',\n",
              "  'article': 'University_of_North_Texas',\n",
              "  'granularity': 'daily',\n",
              "  'project': 'en.wikipedia',\n",
              "  'timestamp': '2019012800',\n",
              "  'views': 486},\n",
              " {'access': 'all-access',\n",
              "  'agent': 'all-agents',\n",
              "  'article': 'University_of_North_Texas',\n",
              "  'granularity': 'daily',\n",
              "  'project': 'en.wikipedia',\n",
              "  'timestamp': '2019012900',\n",
              "  'views': 605},\n",
              " {'access': 'all-access',\n",
              "  'agent': 'all-agents',\n",
              "  'article': 'University_of_North_Texas',\n",
              "  'granularity': 'daily',\n",
              "  'project': 'en.wikipedia',\n",
              "  'timestamp': '2019013000',\n",
              "  'views': 515},\n",
              " {'access': 'all-access',\n",
              "  'agent': 'all-agents',\n",
              "  'article': 'University_of_North_Texas',\n",
              "  'granularity': 'daily',\n",
              "  'project': 'en.wikipedia',\n",
              "  'timestamp': '2019013100',\n",
              "  'views': 489}]"
            ]
          },
          "metadata": {
            "tags": []
          },
          "execution_count": 46
        }
      ]
    },
    {
      "metadata": {
        "id": "7Ta2DR8IBoUn",
        "colab_type": "code",
        "colab": {
          "base_uri": "https://localhost:8080/",
          "height": 203
        },
        "outputId": "6f0f83a9-9cc5-4f46-dea0-371d3309eb42"
      },
      "cell_type": "code",
      "source": [
        "df= pd.DataFrame(frame)\n",
        "df.head()"
      ],
      "execution_count": 50,
      "outputs": [
        {
          "output_type": "execute_result",
          "data": {
            "text/html": [
              "<div>\n",
              "<style scoped>\n",
              "    .dataframe tbody tr th:only-of-type {\n",
              "        vertical-align: middle;\n",
              "    }\n",
              "\n",
              "    .dataframe tbody tr th {\n",
              "        vertical-align: top;\n",
              "    }\n",
              "\n",
              "    .dataframe thead th {\n",
              "        text-align: right;\n",
              "    }\n",
              "</style>\n",
              "<table border=\"1\" class=\"dataframe\">\n",
              "  <thead>\n",
              "    <tr style=\"text-align: right;\">\n",
              "      <th></th>\n",
              "      <th>access</th>\n",
              "      <th>agent</th>\n",
              "      <th>article</th>\n",
              "      <th>granularity</th>\n",
              "      <th>project</th>\n",
              "      <th>timestamp</th>\n",
              "      <th>views</th>\n",
              "    </tr>\n",
              "  </thead>\n",
              "  <tbody>\n",
              "    <tr>\n",
              "      <th>0</th>\n",
              "      <td>all-access</td>\n",
              "      <td>all-agents</td>\n",
              "      <td>University_of_North_Texas</td>\n",
              "      <td>daily</td>\n",
              "      <td>en.wikipedia</td>\n",
              "      <td>2019010100</td>\n",
              "      <td>732</td>\n",
              "    </tr>\n",
              "    <tr>\n",
              "      <th>1</th>\n",
              "      <td>all-access</td>\n",
              "      <td>all-agents</td>\n",
              "      <td>University_of_North_Texas</td>\n",
              "      <td>daily</td>\n",
              "      <td>en.wikipedia</td>\n",
              "      <td>2019010200</td>\n",
              "      <td>834</td>\n",
              "    </tr>\n",
              "    <tr>\n",
              "      <th>2</th>\n",
              "      <td>all-access</td>\n",
              "      <td>all-agents</td>\n",
              "      <td>University_of_North_Texas</td>\n",
              "      <td>daily</td>\n",
              "      <td>en.wikipedia</td>\n",
              "      <td>2019010300</td>\n",
              "      <td>821</td>\n",
              "    </tr>\n",
              "    <tr>\n",
              "      <th>3</th>\n",
              "      <td>all-access</td>\n",
              "      <td>all-agents</td>\n",
              "      <td>University_of_North_Texas</td>\n",
              "      <td>daily</td>\n",
              "      <td>en.wikipedia</td>\n",
              "      <td>2019010400</td>\n",
              "      <td>719</td>\n",
              "    </tr>\n",
              "    <tr>\n",
              "      <th>4</th>\n",
              "      <td>all-access</td>\n",
              "      <td>all-agents</td>\n",
              "      <td>University_of_North_Texas</td>\n",
              "      <td>daily</td>\n",
              "      <td>en.wikipedia</td>\n",
              "      <td>2019010500</td>\n",
              "      <td>672</td>\n",
              "    </tr>\n",
              "  </tbody>\n",
              "</table>\n",
              "</div>"
            ],
            "text/plain": [
              "       access       agent                    article granularity  \\\n",
              "0  all-access  all-agents  University_of_North_Texas       daily   \n",
              "1  all-access  all-agents  University_of_North_Texas       daily   \n",
              "2  all-access  all-agents  University_of_North_Texas       daily   \n",
              "3  all-access  all-agents  University_of_North_Texas       daily   \n",
              "4  all-access  all-agents  University_of_North_Texas       daily   \n",
              "\n",
              "        project   timestamp  views  \n",
              "0  en.wikipedia  2019010100    732  \n",
              "1  en.wikipedia  2019010200    834  \n",
              "2  en.wikipedia  2019010300    821  \n",
              "3  en.wikipedia  2019010400    719  \n",
              "4  en.wikipedia  2019010500    672  "
            ]
          },
          "metadata": {
            "tags": []
          },
          "execution_count": 50
        }
      ]
    },
    {
      "metadata": {
        "id": "qT1mjIAFzWs5",
        "colab_type": "text"
      },
      "cell_type": "markdown",
      "source": [
        "**Question 4. (20 points)** Figure out the max and min views and corresponding date.\n",
        "\n",
        "![](https://github.com/wshuyi/github_pub_img/raw/master/assets/2019-02-13-10-57-35-195410.png)\n",
        "\n",
        "![](https://github.com/wshuyi/github_pub_img/raw/master/assets/2019-02-13-10-57-35-197160.png)\n",
        "\n"
      ]
    },
    {
      "metadata": {
        "id": "ReJQ9vTlBBMy",
        "colab_type": "code",
        "colab": {
          "base_uri": "https://localhost:8080/",
          "height": 35
        },
        "outputId": "2583180a-a179-4770-ce27-bd86ee258c4e"
      },
      "cell_type": "code",
      "source": [
        "max=df.views.max()\n",
        "min=df.views.min()\n",
        "max"
      ],
      "execution_count": 68,
      "outputs": [
        {
          "output_type": "execute_result",
          "data": {
            "text/plain": [
              "834"
            ]
          },
          "metadata": {
            "tags": []
          },
          "execution_count": 68
        }
      ]
    },
    {
      "metadata": {
        "id": "9uLnXiOiAleC",
        "colab_type": "code",
        "colab": {
          "base_uri": "https://localhost:8080/",
          "height": 110
        },
        "outputId": "6296c968-ce3a-41ca-abaa-293bad52216d"
      },
      "cell_type": "code",
      "source": [
        "fd=df[(df.views==max) | (df.views==min)]\n",
        "fd"
      ],
      "execution_count": 70,
      "outputs": [
        {
          "output_type": "execute_result",
          "data": {
            "text/html": [
              "<div>\n",
              "<style scoped>\n",
              "    .dataframe tbody tr th:only-of-type {\n",
              "        vertical-align: middle;\n",
              "    }\n",
              "\n",
              "    .dataframe tbody tr th {\n",
              "        vertical-align: top;\n",
              "    }\n",
              "\n",
              "    .dataframe thead th {\n",
              "        text-align: right;\n",
              "    }\n",
              "</style>\n",
              "<table border=\"1\" class=\"dataframe\">\n",
              "  <thead>\n",
              "    <tr style=\"text-align: right;\">\n",
              "      <th></th>\n",
              "      <th>access</th>\n",
              "      <th>agent</th>\n",
              "      <th>article</th>\n",
              "      <th>granularity</th>\n",
              "      <th>project</th>\n",
              "      <th>timestamp</th>\n",
              "      <th>views</th>\n",
              "    </tr>\n",
              "  </thead>\n",
              "  <tbody>\n",
              "    <tr>\n",
              "      <th>1</th>\n",
              "      <td>all-access</td>\n",
              "      <td>all-agents</td>\n",
              "      <td>University_of_North_Texas</td>\n",
              "      <td>daily</td>\n",
              "      <td>en.wikipedia</td>\n",
              "      <td>2019010200</td>\n",
              "      <td>834</td>\n",
              "    </tr>\n",
              "    <tr>\n",
              "      <th>26</th>\n",
              "      <td>all-access</td>\n",
              "      <td>all-agents</td>\n",
              "      <td>University_of_North_Texas</td>\n",
              "      <td>daily</td>\n",
              "      <td>en.wikipedia</td>\n",
              "      <td>2019012700</td>\n",
              "      <td>412</td>\n",
              "    </tr>\n",
              "  </tbody>\n",
              "</table>\n",
              "</div>"
            ],
            "text/plain": [
              "        access       agent                    article granularity  \\\n",
              "1   all-access  all-agents  University_of_North_Texas       daily   \n",
              "26  all-access  all-agents  University_of_North_Texas       daily   \n",
              "\n",
              "         project   timestamp  views  \n",
              "1   en.wikipedia  2019010200    834  \n",
              "26  en.wikipedia  2019012700    412  "
            ]
          },
          "metadata": {
            "tags": []
          },
          "execution_count": 70
        }
      ]
    },
    {
      "metadata": {
        "id": "92z6TdkxzX3p",
        "colab_type": "code",
        "colab": {}
      },
      "cell_type": "code",
      "source": [
        "fd=fd[['timestamp','views']]"
      ],
      "execution_count": 0,
      "outputs": []
    },
    {
      "metadata": {
        "id": "pL6uU19pGz7W",
        "colab_type": "code",
        "colab": {
          "base_uri": "https://localhost:8080/",
          "height": 123
        },
        "outputId": "c74c7dff-44d7-4e25-b22d-5ff186c50e45"
      },
      "cell_type": "code",
      "source": [
        "for i in fd.index:\n",
        "  print(fd.loc[i])"
      ],
      "execution_count": 89,
      "outputs": [
        {
          "output_type": "stream",
          "text": [
            "timestamp    2019010200\n",
            "views               834\n",
            "Name: 1, dtype: object\n",
            "timestamp    2019012700\n",
            "views               412\n",
            "Name: 26, dtype: object\n"
          ],
          "name": "stdout"
        }
      ]
    },
    {
      "metadata": {
        "id": "5YNmlvXkzYXC",
        "colab_type": "text"
      },
      "cell_type": "markdown",
      "source": [
        "**Question 5. (20 points)** Plot line chart of Pageviews for the whole month.\n",
        "\n",
        "![](https://github.com/wshuyi/github_pub_img/raw/master/assets/2019-02-13-10-57-35-197005.png)\n"
      ]
    },
    {
      "metadata": {
        "id": "w_SMnicQzY1Q",
        "colab_type": "code",
        "colab": {
          "base_uri": "https://localhost:8080/",
          "height": 417
        },
        "outputId": "f34de320-9a19-45c3-9bda-5c7ae7fd1218"
      },
      "cell_type": "code",
      "source": [
        "import matplotlib.pyplot as plt\n",
        "x=[31]\n",
        "df.views.plot()\n",
        "plt.ylabel('views')\n",
        "plt.title('feb', loc='right', y=-0.2)\n",
        "plt.title('Jan 2019', loc='left', y=-0.2)\n",
        "plt.title('date', y=-0.3)\n",
        "plt.xticks([7,14,21,28,31])\n",
        "plt.show()"
      ],
      "execution_count": 117,
      "outputs": [
        {
          "output_type": "display_data",
          "data": {
            "image/png": "[encoded data removed]",
            "text/plain": [
              "<Figure size 576x396 with 1 Axes>"
            ]
          },
          "metadata": {
            "tags": []
          }
        }
      ]
    },
    {
      "metadata": {
        "id": "wdgVDP5BI-vu",
        "colab_type": "code",
        "colab": {
          "base_uri": "https://localhost:8080/",
          "height": 417
        },
        "outputId": "4e3796e0-ce3b-4319-ee3e-275cdd084fc7"
      },
      "cell_type": "code",
      "source": [
        "import matplotlib.pyplot as plt\n",
        "import numpy as np\n",
        "x=np.arange(7,30,7)\n",
        "df.views.plot()\n",
        "plt.ylabel('views')\n",
        "plt.title('Feb', loc='right', y=-0.2)\n",
        "plt.title('Jan 2019', loc='left', y=-0.2)\n",
        "plt.title('date', y=-0.3)\n",
        "plt.xticks(x)\n",
        "plt.show()"
      ],
      "execution_count": 128,
      "outputs": [
        {
          "output_type": "display_data",
          "data": {
            "image/png": "[encoded data removed]",
            "text/plain": [
              "<Figure size 576x396 with 1 Axes>"
            ]
          },
          "metadata": {
            "tags": []
          }
        }
      ]
    },
    {
      "metadata": {
        "id": "2N0UL1QDLsWt",
        "colab_type": "code",
        "colab": {}
      },
      "cell_type": "code",
      "source": [
        ""
      ],
      "execution_count": 0,
      "outputs": []
    }
  ]
}