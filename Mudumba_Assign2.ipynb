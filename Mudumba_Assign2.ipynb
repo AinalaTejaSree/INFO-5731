{
 "cells": [
  {
   "cell_type": "markdown",
   "metadata": {},
   "source": [
    "## INFO 5731\n",
    "## Assignment-2"
   ]
  },
  {
   "cell_type": "markdown",
   "metadata": {},
   "source": [
    "\n",
    "\n",
    "### Link to the repository: https://github.com/saivaruntejamudumba/INFO-5731\n",
    "\n",
    "### Question 1"
   ]
  },
  {
   "cell_type": "markdown",
   "metadata": {},
   "source": [
    "Which of the following statements contain only valid built-in functions in Python 3? If the statement is valid, explain what it does. If it is not valid, explain why not."
   ]
  },
  {
   "cell_type": "markdown",
   "metadata": {},
   "source": [
    "1.1"
   ]
  },
  {
   "cell_type": "code",
   "execution_count": 1,
   "metadata": {},
   "outputs": [
    {
     "data": {
      "text/plain": [
       "True"
      ]
     },
     "execution_count": 1,
     "metadata": {},
     "output_type": "execute_result"
    }
   ],
   "source": [
    "\"A\".isupper()"
   ]
  },
  {
   "cell_type": "markdown",
   "metadata": {},
   "source": [
    "The \"isupper()\" is an inbuilt function in Python which is used for handling strings. This function scans through the characters in the given string and it returns True if all the characters in the string are in Upper case, it returns False if the string has lower case characters."
   ]
  },
  {
   "cell_type": "markdown",
   "metadata": {},
   "source": [
    "1.2"
   ]
  },
  {
   "cell_type": "code",
   "execution_count": 2,
   "metadata": {},
   "outputs": [
    {
     "ename": "SyntaxError",
     "evalue": "Missing parentheses in call to 'print'. Did you mean print(\"This is my Python class\")? (<ipython-input-2-6fbff18deb64>, line 1)",
     "output_type": "error",
     "traceback": [
      "\u001b[1;36m  File \u001b[1;32m\"<ipython-input-2-6fbff18deb64>\"\u001b[1;36m, line \u001b[1;32m1\u001b[0m\n\u001b[1;33m    print \"This is my Python class\";\u001b[0m\n\u001b[1;37m                                  ^\u001b[0m\n\u001b[1;31mSyntaxError\u001b[0m\u001b[1;31m:\u001b[0m Missing parentheses in call to 'print'. Did you mean print(\"This is my Python class\")?\n"
     ]
    }
   ],
   "source": [
    "print \"This is my Python class\";"
   ]
  },
  {
   "cell_type": "markdown",
   "metadata": {},
   "source": [
    "print is an inbuilt function that prints the content given to it to the console. But the above implementation raises an error because the syntax for print has been changed in the Python 3 version. The above statement works fiine for the previous versions, but for the Python 3 version, we need to include the content that we need to print inside the paranthesis. It is executed as shown below."
   ]
  },
  {
   "cell_type": "code",
   "execution_count": 3,
   "metadata": {},
   "outputs": [
    {
     "name": "stdout",
     "output_type": "stream",
     "text": [
      "This is my Python class\n"
     ]
    }
   ],
   "source": [
    "print(\"This is my Python class\");"
   ]
  },
  {
   "cell_type": "markdown",
   "metadata": {},
   "source": [
    "1.3"
   ]
  },
  {
   "cell_type": "code",
   "execution_count": 9,
   "metadata": {},
   "outputs": [
    {
     "ename": "SyntaxError",
     "evalue": "invalid syntax (<ipython-input-9-57805c7f0cc6>, line 3)",
     "output_type": "error",
     "traceback": [
      "\u001b[1;36m  File \u001b[1;32m\"<ipython-input-9-57805c7f0cc6>\"\u001b[1;36m, line \u001b[1;32m3\u001b[0m\n\u001b[1;33m    x == 1 AND y>x\u001b[0m\n\u001b[1;37m             ^\u001b[0m\n\u001b[1;31mSyntaxError\u001b[0m\u001b[1;31m:\u001b[0m invalid syntax\n"
     ]
    }
   ],
   "source": [
    "y=-1\n",
    "x = 0\n",
    "x == 1 AND y>x"
   ]
  },
  {
   "cell_type": "markdown",
   "metadata": {},
   "source": [
    "and is a inbuilt function in python which is used for logical operations, It returns True if both conditions are true and it return False if any of the two conditions are false. But the above statement raises an error because the and operator is typed in upper case as AND and thus it throws a SyntaxError. The correct format is as shown below."
   ]
  },
  {
   "cell_type": "code",
   "execution_count": 36,
   "metadata": {},
   "outputs": [
    {
     "data": {
      "text/plain": [
       "False"
      ]
     },
     "execution_count": 36,
     "metadata": {},
     "output_type": "execute_result"
    }
   ],
   "source": [
    "y=-1\n",
    "x = 0\n",
    "x == 1 and y>x"
   ]
  },
  {
   "cell_type": "markdown",
   "metadata": {},
   "source": [
    "1.4"
   ]
  },
  {
   "cell_type": "code",
   "execution_count": 17,
   "metadata": {},
   "outputs": [
    {
     "name": "stdout",
     "output_type": "stream",
     "text": [
      "[1, 3, 5, 7]\n"
     ]
    }
   ],
   "source": [
    "t = [0,1,3,5,7]\n",
    "def returnback(t):\n",
    "    t = t *1\n",
    "    return t[1:]\n",
    "y = returnback(t)\n",
    "print(y)"
   ]
  },
  {
   "cell_type": "markdown",
   "metadata": {},
   "source": [
    "return is an inbuilt function in python which is used to return a value or multiple values such as an array or a list inside a function. The return function needs to be mentioned only inside a function and it raises an error if it is defined outside the function. The above return statement returns a list from index 1 (2nd element) to the end of the list t."
   ]
  },
  {
   "cell_type": "markdown",
   "metadata": {},
   "source": [
    "1.5"
   ]
  },
  {
   "cell_type": "code",
   "execution_count": 20,
   "metadata": {},
   "outputs": [
    {
     "name": "stdout",
     "output_type": "stream",
     "text": [
      "False\n"
     ]
    }
   ],
   "source": [
    "if \"fruit\" in \"apple\":\n",
    "    print(True)\n",
    "else:\n",
    "    print(False)"
   ]
  },
  {
   "cell_type": "markdown",
   "metadata": {},
   "source": [
    "The if statement checks for a condition and the logic executes the statements defined inside the if condition executes if the condition is true else the logic skips the statements and executes the other statements. The in keyword in python is used to check if a value is in the range of values. In this case it checks whether the \"fruit\" is included in \"apple\" or not. It this was true it would have printed True. As this is false, it prints False"
   ]
  },
  {
   "cell_type": "markdown",
   "metadata": {},
   "source": [
    "1.6"
   ]
  },
  {
   "cell_type": "code",
   "execution_count": 198,
   "metadata": {},
   "outputs": [
    {
     "ename": "AttributeError",
     "evalue": "'str' object has no attribute 'decode'",
     "output_type": "error",
     "traceback": [
      "\u001b[1;31m---------------------------------------------------------------------------\u001b[0m",
      "\u001b[1;31mAttributeError\u001b[0m                            Traceback (most recent call last)",
      "\u001b[1;32m<ipython-input-198-6bbd68fdc96a>\u001b[0m in \u001b[0;36m<module>\u001b[1;34m\u001b[0m\n\u001b[0;32m      1\u001b[0m \u001b[0mf\u001b[0m \u001b[1;33m=\u001b[0m \u001b[0mopen\u001b[0m\u001b[1;33m(\u001b[0m\u001b[1;34m\"words.txt\"\u001b[0m\u001b[1;33m,\u001b[0m \u001b[1;34m\"r\"\u001b[0m\u001b[1;33m)\u001b[0m\u001b[1;33m\u001b[0m\u001b[1;33m\u001b[0m\u001b[0m\n\u001b[1;32m----> 2\u001b[1;33m \u001b[0mtext\u001b[0m \u001b[1;33m=\u001b[0m \u001b[0mf\u001b[0m\u001b[1;33m.\u001b[0m\u001b[0mread\u001b[0m\u001b[1;33m(\u001b[0m\u001b[1;33m)\u001b[0m\u001b[1;33m.\u001b[0m\u001b[0mdecode\u001b[0m\u001b[1;33m(\u001b[0m\u001b[1;34m'utf-8'\u001b[0m\u001b[1;33m)\u001b[0m\u001b[1;33m\u001b[0m\u001b[1;33m\u001b[0m\u001b[0m\n\u001b[0m\u001b[0;32m      3\u001b[0m \u001b[0mtext\u001b[0m\u001b[1;33m\u001b[0m\u001b[1;33m\u001b[0m\u001b[0m\n",
      "\u001b[1;31mAttributeError\u001b[0m: 'str' object has no attribute 'decode'"
     ]
    }
   ],
   "source": [
    "f = open(\"words.txt\", \"r\")\n",
    "text = f.read().decode('utf-8')\n",
    "text"
   ]
  },
  {
   "cell_type": "markdown",
   "metadata": {},
   "source": [
    "The with statement is used to ensure to run the clean up code is executed . And in this case it is used to close the file object in f automatically.The decode function is used to convert to the encoding scheme format as passed in the arguments.The above code works perfectly in Python 2 and it raises an error if executed using Python 3\n",
    "\n",
    "Below is the pic of proper execution of the above code in Python 2\n",
    "\n",
    "![alt text](pythonscript.jpg \"Title\")"
   ]
  },
  {
   "cell_type": "markdown",
   "metadata": {},
   "source": [
    "1.7"
   ]
  },
  {
   "cell_type": "code",
   "execution_count": 31,
   "metadata": {},
   "outputs": [
    {
     "data": {
      "text/plain": [
       "True"
      ]
     },
     "execution_count": 31,
     "metadata": {},
     "output_type": "execute_result"
    }
   ],
   "source": [
    "foo=None\n",
    "foo == None"
   ]
  },
  {
   "cell_type": "markdown",
   "metadata": {},
   "source": [
    "The == operator is used to compare equality and if the value is equal on the both the sides, then it returns True else False."
   ]
  },
  {
   "cell_type": "markdown",
   "metadata": {},
   "source": [
    "1.8"
   ]
  },
  {
   "cell_type": "code",
   "execution_count": 32,
   "metadata": {},
   "outputs": [
    {
     "ename": "TypeError",
     "evalue": "'str' object does not support item assignment",
     "output_type": "error",
     "traceback": [
      "\u001b[1;31m---------------------------------------------------------------------------\u001b[0m",
      "\u001b[1;31mTypeError\u001b[0m                                 Traceback (most recent call last)",
      "\u001b[1;32m<ipython-input-32-5a5aab26b562>\u001b[0m in \u001b[0;36m<module>\u001b[1;34m\u001b[0m\n\u001b[0;32m      1\u001b[0m \u001b[0mname\u001b[0m\u001b[1;33m=\u001b[0m\u001b[1;34m\"My name is Brenda\"\u001b[0m\u001b[1;33m\u001b[0m\u001b[1;33m\u001b[0m\u001b[0m\n\u001b[1;32m----> 2\u001b[1;33m \u001b[0mname\u001b[0m\u001b[1;33m[\u001b[0m\u001b[1;36m0\u001b[0m\u001b[1;33m]\u001b[0m\u001b[1;33m=\u001b[0m\u001b[1;34m'A'\u001b[0m\u001b[1;33m\u001b[0m\u001b[1;33m\u001b[0m\u001b[0m\n\u001b[0m",
      "\u001b[1;31mTypeError\u001b[0m: 'str' object does not support item assignment"
     ]
    }
   ],
   "source": [
    "name=\"My name is Brenda\"\n",
    "name[0]='A'"
   ]
  },
  {
   "cell_type": "markdown",
   "metadata": {},
   "source": [
    "The name above defined is a string. As we know strings are immutable, we cannot change the string elements and thus it raises an error stating that string object does not support item assignment."
   ]
  },
  {
   "cell_type": "markdown",
   "metadata": {},
   "source": [
    "1.9"
   ]
  },
  {
   "cell_type": "code",
   "execution_count": 33,
   "metadata": {
    "scrolled": true
   },
   "outputs": [
    {
     "data": {
      "text/plain": [
       "27"
      ]
     },
     "execution_count": 33,
     "metadata": {},
     "output_type": "execute_result"
    }
   ],
   "source": [
    "x=3\n",
    "x**3"
   ]
  },
  {
   "cell_type": "markdown",
   "metadata": {},
   "source": [
    "The ** operator is used as the power function. As we initialised the x with a value of 3, $x**3$ is equal to 3**3 which is equal to $3*3*3$ and gives the value 27."
   ]
  },
  {
   "cell_type": "markdown",
   "metadata": {},
   "source": [
    "1.10"
   ]
  },
  {
   "cell_type": "code",
   "execution_count": 34,
   "metadata": {},
   "outputs": [
    {
     "data": {
      "text/plain": [
       "6"
      ]
     },
     "execution_count": 34,
     "metadata": {},
     "output_type": "execute_result"
    }
   ],
   "source": [
    "20%7"
   ]
  },
  {
   "cell_type": "markdown",
   "metadata": {},
   "source": [
    "The % operator is used to obtain the remainder. As 20 goes 7 jus by two times and leaves the remainder 6, the % operator displays the remainder left when two numbers are divided."
   ]
  },
  {
   "cell_type": "markdown",
   "metadata": {},
   "source": [
    "### Question 2\n",
    "\n",
    "Write a program to prompt for a score between 0 and 100. If the score is out of range, print an error message. If the score is between 0 and 100, print a grade using the following table:\n",
    "\n",
    "Score Grade\n",
    ">= 90 A\n",
    ">= 80 B\n",
    ">= 70 C\n",
    ">= 60 D\n",
    "< 60 F"
   ]
  },
  {
   "cell_type": "code",
   "execution_count": 52,
   "metadata": {},
   "outputs": [],
   "source": [
    "def grade():\n",
    "    score = int(input('Enter a score between 0 and 100')) # Takes input from the user\n",
    "    if  score < 0 or score > 100: #The score can never be negative or more than total so it checks for that condition\n",
    "        print(\"ERROR!!!! Score is out of range!\")\n",
    "    elif score >= 90 and score <= 100: #Condition for Grade A\n",
    "        print(\"Grade is 'A'\")\n",
    "    elif score >=80 and score < 90: #Condition for Grade B\n",
    "        print(\"Grade is 'B'\")\n",
    "    elif score >=70 and score < 80: #Condition for Grade C\n",
    "        print(\"Grade is 'C'\")\n",
    "    elif score >=60 and score < 70: #Condition for Grade D\n",
    "        print(\"Grade is 'D'\")\n",
    "    elif score >=0 and score < 60: #Condition for Grade F\n",
    "        print(\"Grade is 'F'\")\n"
   ]
  },
  {
   "cell_type": "code",
   "execution_count": 53,
   "metadata": {},
   "outputs": [
    {
     "name": "stdout",
     "output_type": "stream",
     "text": [
      "Enter a score between 0 and 100101\n",
      "ERROR!!!! Score is out of range!\n"
     ]
    }
   ],
   "source": [
    "grade()"
   ]
  },
  {
   "cell_type": "markdown",
   "metadata": {},
   "source": [
    "### Question 3\n",
    "\n",
    "Write a Python program to generate 12 random numbers between 1 and 100. Sort the list of numbers in ascending order and print it out. Sort the list of numbers in descending order and print it out. Calculate the average for the group and print it out."
   ]
  },
  {
   "cell_type": "code",
   "execution_count": 197,
   "metadata": {
    "scrolled": true
   },
   "outputs": [
    {
     "name": "stdout",
     "output_type": "stream",
     "text": [
      "[45, 98, 43, 25, 49, 78, 80, 69, 14, 64, 52, 83]\n",
      "[14, 25, 43, 45, 49, 52, 64, 69, 78, 80, 83, 98]\n",
      "[98, 83, 80, 78, 69, 64, 52, 49, 45, 43, 25, 14]\n",
      "Average is  58\n"
     ]
    }
   ],
   "source": [
    "from random import randint\n",
    "num_list=[]\n",
    "sum = 0\n",
    "i=0\n",
    "j=12\n",
    "for i in range(j):\n",
    "    num_list.append(randint(1,100)) ##generates 12 random numbers\n",
    "    i+= 1\n",
    "\n",
    "print(num_list) #printing the list\n",
    "num_list.sort()\n",
    "print(num_list)\n",
    "num_list.reverse() #reverses the list \n",
    "print(num_list)\n",
    "for i in range(j):\n",
    "    sum= sum + num_list[i] #sums up all the elements of the list\n",
    "average = sum /12\n",
    "print('Average is ', round(average))"
   ]
  },
  {
   "cell_type": "markdown",
   "metadata": {},
   "source": [
    "### Question 4\n",
    "\n",
    "The formula that describes the volume V of a sphere with radius r is the following:\n",
    "$$𝑉=\\frac43∗ 𝜋∗ 𝑟^3$$\n",
    "Write a program to calculate the value of V when r is in the range of 1– 10. Output the result in the following format:\n",
    "   $$ r   V $$\n",
    "   $$ 1   ...$$\n",
    "   $$ 2   ...$$\n",
    "   $$ 3   ...$$"
   ]
  },
  {
   "cell_type": "code",
   "execution_count": 102,
   "metadata": {},
   "outputs": [
    {
     "name": "stdout",
     "output_type": "stream",
     "text": [
      "r V\n",
      "0 4.1887902047863905\n",
      "1 33.510321638291124\n",
      "2 113.09733552923254\n",
      "3 268.082573106329\n",
      "4 523.5987755982989\n",
      "5 904.7786842338603\n",
      "6 1436.7550402417319\n",
      "7 2144.660584850632\n",
      "8 3053.6280592892786\n",
      "9 4188.790204786391\n"
     ]
    }
   ],
   "source": [
    "import math\n",
    "i=0\n",
    "print(\"r V\")\n",
    "for i in range(10):\n",
    "    v = (4/3)*math.pi*(i+1)**3\n",
    "    i_s=str(i) #converts the int into string \n",
    "    v_s=str(v) #converts the int into string \n",
    "    print( i_s + \" \" + v_s)"
   ]
  },
  {
   "cell_type": "markdown",
   "metadata": {},
   "source": [
    "### Question 5\n",
    "\n",
    "Write a program that will do the following string\n",
    "formatting tasks:"
   ]
  },
  {
   "cell_type": "markdown",
   "metadata": {},
   "source": [
    "5.1 Ask the user to enter two sentences"
   ]
  },
  {
   "cell_type": "code",
   "execution_count": 180,
   "metadata": {},
   "outputs": [
    {
     "name": "stdout",
     "output_type": "stream",
     "text": [
      "Enter the first sentenceVarun Teja is @??my?? Name\n",
      "Enter the second sentenceprince @334/ Teja Varun name\n"
     ]
    }
   ],
   "source": [
    "s1 = input(\"Enter the first sentence\")\n",
    "s2 = input(\"Enter the second sentence\")"
   ]
  },
  {
   "cell_type": "markdown",
   "metadata": {},
   "source": [
    "5.2 Make each sentence into a list. Each element in the list should correspond to\n",
    "a word in the sentence. For example, if the sentence is \"Alas! Am I alive? This\n",
    "is my first python program\", the program should print out ['Alas!', 'Am', 'I',\n",
    "'alive?', 'This', 'is', 'my', 'first', 'python', 'program'] or ['Alas, '!', 'Am', 'I', 'alive,\n",
    "'?', 'This', 'is', 'my', 'first', 'python', 'program']"
   ]
  },
  {
   "cell_type": "code",
   "execution_count": 181,
   "metadata": {},
   "outputs": [
    {
     "name": "stdout",
     "output_type": "stream",
     "text": [
      "['Varun', 'Teja', 'is', '@??my??', 'Name']\n",
      "['prince', '@334/', 'Teja', 'Varun', 'name']\n"
     ]
    }
   ],
   "source": [
    "l1=s1.split(\" \") #Splits the sentences with \" \" delimiter and stores it in a list called l1\n",
    "l2=s2.split(\" \") #Splits the sentences with \" \" delimiter and stores it in a list called l1\n",
    "print(l1)\n",
    "print(l2)"
   ]
  },
  {
   "cell_type": "markdown",
   "metadata": {},
   "source": [
    "5.3 Compare the two sentences. Print out a list of words that occur in both\n",
    "sentences"
   ]
  },
  {
   "cell_type": "code",
   "execution_count": 182,
   "metadata": {},
   "outputs": [
    {
     "name": "stdout",
     "output_type": "stream",
     "text": [
      "{'Teja', 'Varun'}\n"
     ]
    }
   ],
   "source": [
    "print(set(l1) & set(l2))"
   ]
  },
  {
   "cell_type": "markdown",
   "metadata": {},
   "source": [
    "5.4 Remove any punctuation from the sentence and print it back out. It should\n",
    "remove at least the following characters, but it can remove more: period(“.”),\n",
    "comma (“,”), semicolon (“;”), and colon (“:”)"
   ]
  },
  {
   "cell_type": "code",
   "execution_count": 195,
   "metadata": {},
   "outputs": [
    {
     "name": "stdout",
     "output_type": "stream",
     "text": [
      "['Varun', 'Teja', 'is', 'my', 'Name']\n",
      "['prince', '334', 'Teja', 'Varun', 'name']\n"
     ]
    }
   ],
   "source": [
    "import re\n",
    "cleanString1=[]\n",
    "cleanString2=[]\n",
    "length = len(l1)\n",
    "for i in range(length):\n",
    "    cleanString1 .append( re.sub('[^A-Za-z0-9]+', '', l1[i])) #Adds the special character free elements into the cleanString1 list \n",
    "    cleanString2.append( re.sub('[^A-Za-z0-9]+', '', l2[i])) #Adds the special character free elements into the cleanString2 list \n",
    "print(cleanString1)\n",
    "print(cleanString2)"
   ]
  },
  {
   "cell_type": "markdown",
   "metadata": {},
   "source": [
    "5.5 Count the number of vowels in the sentences. Print out each vowel and the\n",
    "number of times it appears in the sentences, such as: a:2, e:1, i:0, etc."
   ]
  },
  {
   "cell_type": "code",
   "execution_count": 199,
   "metadata": {},
   "outputs": [
    {
     "name": "stdout",
     "output_type": "stream",
     "text": [
      "The list of vowels in Sentence 1:\n",
      "\n",
      "a : 3\n",
      "e : 2\n",
      "i : 1\n",
      "o : 0\n",
      "u : 1\n",
      "\n",
      "\n",
      "The list of vowels in Sentence 2:\n",
      "\n",
      "a : 6\n",
      "e : 5\n",
      "i : 2\n",
      "o : 0\n",
      "u : 2\n"
     ]
    }
   ],
   "source": [
    "count = {i:0 for i in 'aeiou'} #Initialising the dictionary with vowels\n",
    "v1=s1.lower() #converts the sentences to lower case\n",
    "v2=s2.lower()\n",
    "for char in v1:\n",
    "    if char in count:   #compares the char from the sentence with the count list i.e a,e,i,o,u\n",
    "        count[char] += 1 #if it finds any vowel, it increments the count of that vowel by 1\n",
    "print(\"The list of vowels in Sentence 1:\\n\")\n",
    "for k,v in count.items(): #prints the items of the dictionary with their key and values\n",
    "    print(k,\":\" , v)\n",
    "\n",
    "\n",
    "for char in v2:\n",
    "    if char in count:  #compares the char from the sentence with the count list i.e a,e,i,o,u\n",
    "        count[char] += 1 #if it finds any vowel, it increments the count of that vowel by 1\n",
    "\n",
    "print(\"\\n\")\n",
    "print(\"The list of vowels in Sentence 2:\\n\")\n",
    "for k,v in count.items(): #prints the items of the dictionary with their key and values\n",
    "    print(k,\":\" , v)"
   ]
  },
  {
   "cell_type": "code",
   "execution_count": null,
   "metadata": {},
   "outputs": [],
   "source": []
  }
 ],
 "metadata": {
  "kernelspec": {
   "display_name": "Python 3",
   "language": "python",
   "name": "python3"
  },
  "language_info": {
   "codemirror_mode": {
    "name": "ipython",
    "version": 3
   },
   "file_extension": ".py",
   "mimetype": "text/x-python",
   "name": "python",
   "nbconvert_exporter": "python",
   "pygments_lexer": "ipython3",
   "version": "3.7.1"
  }
 },
 "nbformat": 4,
 "nbformat_minor": 2
}
