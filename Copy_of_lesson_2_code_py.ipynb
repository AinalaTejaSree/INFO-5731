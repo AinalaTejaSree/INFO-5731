{
  "nbformat": 4,
  "nbformat_minor": 0,
  "metadata": {
    "colab": {
      "name": "Copy of lesson-2-code.py.ipynb",
      "version": "0.3.2",
      "provenance": [],
      "include_colab_link": true
    },
    "kernelspec": {
      "display_name": "Python 3",
      "language": "python",
      "name": "python3"
    }
  },
  "cells": [
    {
      "cell_type": "markdown",
      "metadata": {
        "id": "view-in-github",
        "colab_type": "text"
      },
      "source": [
        "<a href=\"https://colab.research.google.com/github/saivaruntejamudumba/INFO-5731/blob/master/Copy_of_lesson_2_code_py.ipynb\" target=\"_parent\"><img src=\"https://colab.research.google.com/assets/colab-badge.svg\" alt=\"Open In Colab\"/></a>"
      ]
    },
    {
      "metadata": {
        "id": "OxzkFpLQdBWk",
        "colab_type": "code",
        "colab": {}
      },
      "cell_type": "code",
      "source": [
        "message='And now for something completely different'"
      ],
      "execution_count": 0,
      "outputs": []
    },
    {
      "metadata": {
        "id": "fgEUYYJRdBWs",
        "colab_type": "code",
        "colab": {}
      },
      "cell_type": "code",
      "source": [
        "n=17"
      ],
      "execution_count": 0,
      "outputs": []
    },
    {
      "metadata": {
        "id": "yfKjyYSSdBWz",
        "colab_type": "code",
        "colab": {}
      },
      "cell_type": "code",
      "source": [
        "pi=3.141592653589793"
      ],
      "execution_count": 0,
      "outputs": []
    },
    {
      "metadata": {
        "id": "HD4WDkJsdBW4",
        "colab_type": "code",
        "outputId": "e63192dd-eec1-419a-8eb4-564eef9e3dc0",
        "colab": {}
      },
      "cell_type": "code",
      "source": [
        "42"
      ],
      "execution_count": 0,
      "outputs": [
        {
          "output_type": "execute_result",
          "data": {
            "text/plain": [
              "42"
            ]
          },
          "metadata": {
            "tags": []
          },
          "execution_count": 4
        }
      ]
    },
    {
      "metadata": {
        "id": "IecjZQASdBXA",
        "colab_type": "code",
        "outputId": "f2d60c2e-3de3-4855-90c8-443665dd0ebc",
        "colab": {}
      },
      "cell_type": "code",
      "source": [
        "n"
      ],
      "execution_count": 0,
      "outputs": [
        {
          "output_type": "execute_result",
          "data": {
            "text/plain": [
              "17"
            ]
          },
          "metadata": {
            "tags": []
          },
          "execution_count": 5
        }
      ]
    },
    {
      "metadata": {
        "id": "H0g3jrxtdBXd",
        "colab_type": "code",
        "outputId": "171632b1-76af-4c84-ec67-3d6809a1eba3",
        "colab": {}
      },
      "cell_type": "code",
      "source": [
        "n+25"
      ],
      "execution_count": 0,
      "outputs": [
        {
          "output_type": "execute_result",
          "data": {
            "text/plain": [
              "42"
            ]
          },
          "metadata": {
            "tags": []
          },
          "execution_count": 6
        }
      ]
    },
    {
      "metadata": {
        "id": "-cluYTgEdBXw",
        "colab_type": "code",
        "colab": {}
      },
      "cell_type": "code",
      "source": [
        "n=17"
      ],
      "execution_count": 0,
      "outputs": []
    },
    {
      "metadata": {
        "id": "3Xcw1kFvdBX3",
        "colab_type": "code",
        "outputId": "dbd9db4a-a89f-4d54-99c9-a517a58998ca",
        "colab": {}
      },
      "cell_type": "code",
      "source": [
        "print(n)"
      ],
      "execution_count": 0,
      "outputs": [
        {
          "output_type": "stream",
          "text": [
            "17\n"
          ],
          "name": "stdout"
        }
      ]
    },
    {
      "metadata": {
        "id": "FovkeeiRdBYD",
        "colab_type": "code",
        "colab": {}
      },
      "cell_type": "code",
      "source": [
        "miles=26.2"
      ],
      "execution_count": 0,
      "outputs": []
    },
    {
      "metadata": {
        "id": "Cz83upC3dBYM",
        "colab_type": "code",
        "outputId": "795dd715-526c-4e1c-f91e-9ef35bfdc55a",
        "colab": {}
      },
      "cell_type": "code",
      "source": [
        "miles*1.61"
      ],
      "execution_count": 0,
      "outputs": [
        {
          "output_type": "execute_result",
          "data": {
            "text/plain": [
              "42.182"
            ]
          },
          "metadata": {
            "tags": []
          },
          "execution_count": 10
        }
      ]
    },
    {
      "metadata": {
        "id": "C8U9wU_IdBYW",
        "colab_type": "code",
        "colab": {}
      },
      "cell_type": "code",
      "source": [
        "first='throat'"
      ],
      "execution_count": 0,
      "outputs": []
    },
    {
      "metadata": {
        "id": "pafsUvpudBYc",
        "colab_type": "code",
        "colab": {}
      },
      "cell_type": "code",
      "source": [
        "second='warbler'"
      ],
      "execution_count": 0,
      "outputs": []
    },
    {
      "metadata": {
        "id": "dlNF1JtXdBYl",
        "colab_type": "code",
        "outputId": "98f03e3d-2ef4-4e3e-8e00-aa5a4d55179f",
        "colab": {}
      },
      "cell_type": "code",
      "source": [
        "first+second"
      ],
      "execution_count": 0,
      "outputs": [
        {
          "output_type": "execute_result",
          "data": {
            "text/plain": [
              "'throatwarbler'"
            ]
          },
          "metadata": {
            "tags": []
          },
          "execution_count": 3
        }
      ]
    },
    {
      "metadata": {
        "id": "Pp7zPDWddBYr",
        "colab_type": "code",
        "outputId": "092f173d-62f2-4a4a-fa66-35981d41fa8f",
        "colab": {}
      },
      "cell_type": "code",
      "source": [
        "type(42)"
      ],
      "execution_count": 0,
      "outputs": [
        {
          "output_type": "execute_result",
          "data": {
            "text/plain": [
              "int"
            ]
          },
          "metadata": {
            "tags": []
          },
          "execution_count": 4
        }
      ]
    },
    {
      "metadata": {
        "id": "uft37bYEdBY2",
        "colab_type": "code",
        "outputId": "98486c4b-b8f8-43d6-a07b-0d7c69964b4e",
        "colab": {}
      },
      "cell_type": "code",
      "source": [
        "int(32)"
      ],
      "execution_count": 0,
      "outputs": [
        {
          "output_type": "execute_result",
          "data": {
            "text/plain": [
              "32"
            ]
          },
          "metadata": {
            "tags": []
          },
          "execution_count": 5
        }
      ]
    },
    {
      "metadata": {
        "id": "GgtikQW4dBY-",
        "colab_type": "code",
        "outputId": "2dd6c818-641b-4969-a9aa-dec0f2fee731",
        "colab": {}
      },
      "cell_type": "code",
      "source": [
        "int(3.9999)"
      ],
      "execution_count": 0,
      "outputs": [
        {
          "output_type": "execute_result",
          "data": {
            "text/plain": [
              "3"
            ]
          },
          "metadata": {
            "tags": []
          },
          "execution_count": 7
        }
      ]
    },
    {
      "metadata": {
        "id": "7tAQaMR3dBZF",
        "colab_type": "code",
        "outputId": "595af80c-82c7-46ef-d34a-41c01cd6c1f1",
        "colab": {}
      },
      "cell_type": "code",
      "source": [
        "int(-2.3)"
      ],
      "execution_count": 0,
      "outputs": [
        {
          "output_type": "execute_result",
          "data": {
            "text/plain": [
              "-2"
            ]
          },
          "metadata": {
            "tags": []
          },
          "execution_count": 8
        }
      ]
    },
    {
      "metadata": {
        "id": "iXg-zE_RdBZQ",
        "colab_type": "code",
        "outputId": "86da4348-5b0a-411d-e5af-c307a3c47ccb",
        "colab": {}
      },
      "cell_type": "code",
      "source": [
        "float(32)"
      ],
      "execution_count": 0,
      "outputs": [
        {
          "output_type": "execute_result",
          "data": {
            "text/plain": [
              "32.0"
            ]
          },
          "metadata": {
            "tags": []
          },
          "execution_count": 9
        }
      ]
    },
    {
      "metadata": {
        "id": "CUXkm8ZpdBZX",
        "colab_type": "code",
        "outputId": "7301bc94-ef56-4c37-8b66-2c5b15319e5f",
        "colab": {}
      },
      "cell_type": "code",
      "source": [
        "float('3.14159')"
      ],
      "execution_count": 0,
      "outputs": [
        {
          "output_type": "execute_result",
          "data": {
            "text/plain": [
              "3.14159"
            ]
          },
          "metadata": {
            "tags": []
          },
          "execution_count": 10
        }
      ]
    },
    {
      "metadata": {
        "id": "7HB-M3b0dBZl",
        "colab_type": "code",
        "outputId": "60222330-b155-4425-9785-ad5b8e8c85b7",
        "colab": {}
      },
      "cell_type": "code",
      "source": [
        "str(32)"
      ],
      "execution_count": 0,
      "outputs": [
        {
          "output_type": "execute_result",
          "data": {
            "text/plain": [
              "'32'"
            ]
          },
          "metadata": {
            "tags": []
          },
          "execution_count": 11
        }
      ]
    },
    {
      "metadata": {
        "id": "j_kpEzWddBZs",
        "colab_type": "code",
        "outputId": "b2fe4ecb-b4d2-4916-b093-2abced4e30bb",
        "colab": {}
      },
      "cell_type": "code",
      "source": [
        "str(3.14156)"
      ],
      "execution_count": 0,
      "outputs": [
        {
          "output_type": "execute_result",
          "data": {
            "text/plain": [
              "'3.14156'"
            ]
          },
          "metadata": {
            "tags": []
          },
          "execution_count": 12
        }
      ]
    },
    {
      "metadata": {
        "id": "zFpDfg6XdBah",
        "colab_type": "code",
        "colab": {}
      },
      "cell_type": "code",
      "source": [
        "import math"
      ],
      "execution_count": 0,
      "outputs": []
    },
    {
      "metadata": {
        "id": "KzYhQ3MXdBam",
        "colab_type": "code",
        "outputId": "4c6b0925-51e7-41dd-ddbf-9b11cf0a6d58",
        "colab": {}
      },
      "cell_type": "code",
      "source": [
        "math"
      ],
      "execution_count": 0,
      "outputs": [
        {
          "output_type": "execute_result",
          "data": {
            "text/plain": [
              "<module 'math' from '/anaconda3/lib/python3.7/lib-dynload/math.cpython-37m-darwin.so'>"
            ]
          },
          "metadata": {
            "tags": []
          },
          "execution_count": 19
        }
      ]
    },
    {
      "metadata": {
        "id": "zCCwlNOudBaq",
        "colab_type": "code",
        "colab": {}
      },
      "cell_type": "code",
      "source": [
        "def signal_power():\n",
        "    math.sin()"
      ],
      "execution_count": 0,
      "outputs": []
    },
    {
      "metadata": {
        "id": "tXRuMENKdBav",
        "colab_type": "code",
        "colab": {}
      },
      "cell_type": "code",
      "source": [
        "def noise_power():\n",
        "    math.exp()"
      ],
      "execution_count": 0,
      "outputs": []
    },
    {
      "metadata": {
        "id": "tCAPo1ykdBa0",
        "colab_type": "code",
        "outputId": "d79a1a39-6961-4ae3-e719-dfa871914cc8",
        "colab": {}
      },
      "cell_type": "code",
      "source": [
        "ratio=signal_power/noise_power"
      ],
      "execution_count": 0,
      "outputs": [
        {
          "output_type": "error",
          "ename": "TypeError",
          "evalue": "unsupported operand type(s) for /: 'function' and 'function'",
          "traceback": [
            "\u001b[0;31m---------------------------------------------------------------------------\u001b[0m",
            "\u001b[0;31mTypeError\u001b[0m                                 Traceback (most recent call last)",
            "\u001b[0;32m<ipython-input-58-cc582679bea0>\u001b[0m in \u001b[0;36m<module>\u001b[0;34m\u001b[0m\n\u001b[0;32m----> 1\u001b[0;31m \u001b[0mratio\u001b[0m\u001b[0;34m=\u001b[0m\u001b[0msignal_power\u001b[0m\u001b[0;34m/\u001b[0m\u001b[0mnoise_power\u001b[0m\u001b[0;34m\u001b[0m\u001b[0;34m\u001b[0m\u001b[0m\n\u001b[0m",
            "\u001b[0;31mTypeError\u001b[0m: unsupported operand type(s) for /: 'function' and 'function'"
          ]
        }
      ]
    },
    {
      "metadata": {
        "id": "aKmABoIEdBa9",
        "colab_type": "code",
        "outputId": "5bb9af5e-9063-4d58-f99c-0ee433f4b911",
        "colab": {}
      },
      "cell_type": "code",
      "source": [
        "decibels=10*math.log10(ratio)"
      ],
      "execution_count": 0,
      "outputs": [
        {
          "output_type": "error",
          "ename": "NameError",
          "evalue": "name 'ratio' is not defined",
          "traceback": [
            "\u001b[0;31m---------------------------------------------------------------------------\u001b[0m",
            "\u001b[0;31mNameError\u001b[0m                                 Traceback (most recent call last)",
            "\u001b[0;32m<ipython-input-59-163e4cc9ff44>\u001b[0m in \u001b[0;36m<module>\u001b[0;34m\u001b[0m\n\u001b[0;32m----> 1\u001b[0;31m \u001b[0mdecibels\u001b[0m\u001b[0;34m=\u001b[0m\u001b[0;36m10\u001b[0m\u001b[0;34m*\u001b[0m\u001b[0mmath\u001b[0m\u001b[0;34m.\u001b[0m\u001b[0mlog10\u001b[0m\u001b[0;34m(\u001b[0m\u001b[0mratio\u001b[0m\u001b[0;34m)\u001b[0m\u001b[0;34m\u001b[0m\u001b[0;34m\u001b[0m\u001b[0m\n\u001b[0m",
            "\u001b[0;31mNameError\u001b[0m: name 'ratio' is not defined"
          ]
        }
      ]
    },
    {
      "metadata": {
        "id": "k560HFpYdBbJ",
        "colab_type": "code",
        "colab": {}
      },
      "cell_type": "code",
      "source": [
        "radians=0.7"
      ],
      "execution_count": 0,
      "outputs": []
    },
    {
      "metadata": {
        "id": "-qIAc6VodBbN",
        "colab_type": "code",
        "colab": {}
      },
      "cell_type": "code",
      "source": [
        "height=math.sin(radians)"
      ],
      "execution_count": 0,
      "outputs": []
    },
    {
      "metadata": {
        "id": "ueHg1AuTdBbR",
        "colab_type": "code",
        "colab": {}
      },
      "cell_type": "code",
      "source": [
        "degrees=45"
      ],
      "execution_count": 0,
      "outputs": []
    },
    {
      "metadata": {
        "id": "leDWDpBNdBbu",
        "colab_type": "code",
        "colab": {}
      },
      "cell_type": "code",
      "source": [
        "radians=degrees/180.0*math.pi"
      ],
      "execution_count": 0,
      "outputs": []
    },
    {
      "metadata": {
        "id": "tT8eHkUIdBb0",
        "colab_type": "code",
        "outputId": "dce9e633-779a-4845-cb45-98751eb36407",
        "colab": {}
      },
      "cell_type": "code",
      "source": [
        "math.sin(radians)"
      ],
      "execution_count": 0,
      "outputs": [
        {
          "output_type": "execute_result",
          "data": {
            "text/plain": [
              "0.7071067811865475"
            ]
          },
          "metadata": {
            "tags": []
          },
          "execution_count": 44
        }
      ]
    },
    {
      "metadata": {
        "id": "APHEulvBdBb-",
        "colab_type": "code",
        "outputId": "399017bf-a24d-4c1b-c810-0b94616be557",
        "colab": {}
      },
      "cell_type": "code",
      "source": [
        "math.sqrt(2)/2.0"
      ],
      "execution_count": 0,
      "outputs": [
        {
          "output_type": "execute_result",
          "data": {
            "text/plain": [
              "0.7071067811865476"
            ]
          },
          "metadata": {
            "tags": []
          },
          "execution_count": 45
        }
      ]
    },
    {
      "metadata": {
        "id": "gOlubP7idBcJ",
        "colab_type": "code",
        "colab": {}
      },
      "cell_type": "code",
      "source": [
        "x=math.sin(degrees/360.0*2*math.pi)"
      ],
      "execution_count": 0,
      "outputs": []
    },
    {
      "metadata": {
        "id": "C0JhRCaedBcO",
        "colab_type": "code",
        "colab": {}
      },
      "cell_type": "code",
      "source": [
        "x=math.exp(math.log(x+1))"
      ],
      "execution_count": 0,
      "outputs": []
    },
    {
      "metadata": {
        "id": "0BXf4XwFdBcX",
        "colab_type": "code",
        "colab": {}
      },
      "cell_type": "code",
      "source": [
        "def print_lyrics():\n",
        "    print(\"I'm a lumberjack, and I'm okay.\")\n",
        "    print(\"I sleep all night and I work all day.\")"
      ],
      "execution_count": 0,
      "outputs": []
    },
    {
      "metadata": {
        "id": "d1lf7XwfdBcc",
        "colab_type": "code",
        "outputId": "1092a4de-8313-46df-d4b2-e6f0124e444b",
        "colab": {}
      },
      "cell_type": "code",
      "source": [
        "print(print_lyrics)"
      ],
      "execution_count": 0,
      "outputs": [
        {
          "output_type": "stream",
          "text": [
            "<function print_lyrics at 0x10b9276a8>\n"
          ],
          "name": "stdout"
        }
      ]
    },
    {
      "metadata": {
        "id": "EJXW1_r9dBco",
        "colab_type": "code",
        "outputId": "f5fbdadc-65cf-45f2-fdbe-acec19c34991",
        "colab": {}
      },
      "cell_type": "code",
      "source": [
        "type(print_lyrics)"
      ],
      "execution_count": 0,
      "outputs": [
        {
          "output_type": "execute_result",
          "data": {
            "text/plain": [
              "function"
            ]
          },
          "metadata": {
            "tags": []
          },
          "execution_count": 51
        }
      ]
    },
    {
      "metadata": {
        "id": "F6U17rqFdBcu",
        "colab_type": "code",
        "outputId": "6d455c90-afcd-4330-e571-79f3d8e113dc",
        "colab": {}
      },
      "cell_type": "code",
      "source": [
        "print_lyrics()"
      ],
      "execution_count": 0,
      "outputs": [
        {
          "output_type": "stream",
          "text": [
            "I'm a lumberjack, and I'm okay.\n",
            "I sleep all night and I work all day.\n"
          ],
          "name": "stdout"
        }
      ]
    },
    {
      "metadata": {
        "id": "b5YiFbwYdBc2",
        "colab_type": "code",
        "colab": {}
      },
      "cell_type": "code",
      "source": [
        "def repeat_lyrics():\n",
        "    print_lyrics()\n",
        "    print_lyrics()"
      ],
      "execution_count": 0,
      "outputs": []
    },
    {
      "metadata": {
        "id": "p37B2rs0dBc7",
        "colab_type": "code",
        "outputId": "db7ca238-d411-4a1c-e682-911d9f2fb0bb",
        "colab": {}
      },
      "cell_type": "code",
      "source": [
        "repeat_lyrics()"
      ],
      "execution_count": 0,
      "outputs": [
        {
          "output_type": "stream",
          "text": [
            "I'm a lumberjack, and I'm okay.\n",
            "I sleep all night and I work all day.\n",
            "I'm a lumberjack, and I'm okay.\n",
            "I sleep all night and I work all day.\n"
          ],
          "name": "stdout"
        }
      ]
    },
    {
      "metadata": {
        "id": "d00vJXbddBdE",
        "colab_type": "code",
        "colab": {}
      },
      "cell_type": "code",
      "source": [
        "def print_twice():\n",
        "    print(\"spam\")\n",
        "    print(bruce)"
      ],
      "execution_count": 0,
      "outputs": []
    },
    {
      "metadata": {
        "id": "B2hw41GkdBdL",
        "colab_type": "code",
        "outputId": "985e04c8-3acd-4b7b-a77d-29e548ac89ad",
        "colab": {}
      },
      "cell_type": "code",
      "source": [
        "print_twice('spam')"
      ],
      "execution_count": 0,
      "outputs": [
        {
          "output_type": "stream",
          "text": [
            "spam\n",
            "spam\n"
          ],
          "name": "stdout"
        }
      ]
    },
    {
      "metadata": {
        "id": "xe9ok1ajdBdR",
        "colab_type": "code",
        "outputId": "e55e185a-928a-4a02-db73-8445cf23eedb",
        "colab": {}
      },
      "cell_type": "code",
      "source": [
        "print_twice(42)"
      ],
      "execution_count": 0,
      "outputs": [
        {
          "output_type": "stream",
          "text": [
            "42\n",
            "42\n"
          ],
          "name": "stdout"
        }
      ]
    },
    {
      "metadata": {
        "id": "hObX2fUNdBdW",
        "colab_type": "code",
        "outputId": "a50d2b7e-1aa9-4160-eb44-65b6dd81b9ee",
        "colab": {}
      },
      "cell_type": "code",
      "source": [
        "print_twice(math.pi)"
      ],
      "execution_count": 0,
      "outputs": [
        {
          "output_type": "stream",
          "text": [
            "3.141592653589793\n",
            "3.141592653589793\n"
          ],
          "name": "stdout"
        }
      ]
    },
    {
      "metadata": {
        "id": "4zyJaWYrdBde",
        "colab_type": "code",
        "outputId": "6eb704db-2574-4d88-d1d5-066df6c9443a",
        "colab": {}
      },
      "cell_type": "code",
      "source": [
        "print_twice('spam '*4)"
      ],
      "execution_count": 0,
      "outputs": [
        {
          "output_type": "stream",
          "text": [
            "spam spam spam spam \n",
            "spam spam spam spam \n"
          ],
          "name": "stdout"
        }
      ]
    },
    {
      "metadata": {
        "id": "qzlLFBaVdBdk",
        "colab_type": "code",
        "outputId": "e5542dfc-1e0f-448b-b708-fb93d8ec42b4",
        "colab": {}
      },
      "cell_type": "code",
      "source": [
        "print_twice(math.cos(math.pi))"
      ],
      "execution_count": 0,
      "outputs": [
        {
          "output_type": "stream",
          "text": [
            "-1.0\n",
            "-1.0\n"
          ],
          "name": "stdout"
        }
      ]
    },
    {
      "metadata": {
        "id": "N5iAW4GcdBdo",
        "colab_type": "code",
        "colab": {}
      },
      "cell_type": "code",
      "source": [
        "michael='Eric, the half a bee'"
      ],
      "execution_count": 0,
      "outputs": []
    },
    {
      "metadata": {
        "id": "2botEXF7dBdv",
        "colab_type": "code",
        "outputId": "0ecf10c1-9082-48ac-d6bd-78db4ff194a2",
        "colab": {}
      },
      "cell_type": "code",
      "source": [
        "print_twice(michael)"
      ],
      "execution_count": 0,
      "outputs": [
        {
          "output_type": "stream",
          "text": [
            "Eric, the half a bee\n",
            "Eric, the half a bee\n"
          ],
          "name": "stdout"
        }
      ]
    },
    {
      "metadata": {
        "id": "jLbra_vudBd4",
        "colab_type": "code",
        "colab": {}
      },
      "cell_type": "code",
      "source": [
        "def cat_twice(part1,part2):\n",
        "    cat=part1+part2\n",
        "    print_twice(cat)"
      ],
      "execution_count": 0,
      "outputs": []
    },
    {
      "metadata": {
        "id": "DSrj1DrDdBd7",
        "colab_type": "code",
        "colab": {}
      },
      "cell_type": "code",
      "source": [
        "line1='Bing tiddle '"
      ],
      "execution_count": 0,
      "outputs": []
    },
    {
      "metadata": {
        "id": "gCtTj_k9dBd-",
        "colab_type": "code",
        "colab": {}
      },
      "cell_type": "code",
      "source": [
        "line2='tiddle bang.'"
      ],
      "execution_count": 0,
      "outputs": []
    },
    {
      "metadata": {
        "id": "Uap9Eo6FdBeC",
        "colab_type": "code",
        "outputId": "b97a6243-798a-4ebb-a5fa-f928585abcd2",
        "colab": {}
      },
      "cell_type": "code",
      "source": [
        "cat_twice(line1,line2)"
      ],
      "execution_count": 0,
      "outputs": [
        {
          "output_type": "stream",
          "text": [
            "Bing tiddle tiddle bang.\n",
            "Bing tiddle tiddle bang.\n"
          ],
          "name": "stdout"
        }
      ]
    },
    {
      "metadata": {
        "id": "2pPdjChkdBeI",
        "colab_type": "code",
        "outputId": "bcf952bb-1c34-4e6b-ea96-98f05dbcc96b",
        "colab": {}
      },
      "cell_type": "code",
      "source": [
        "math.sqrt(5)"
      ],
      "execution_count": 0,
      "outputs": [
        {
          "output_type": "execute_result",
          "data": {
            "text/plain": [
              "2.23606797749979"
            ]
          },
          "metadata": {
            "tags": []
          },
          "execution_count": 80
        }
      ]
    },
    {
      "metadata": {
        "id": "C7QkKVEkdBeO",
        "colab_type": "code",
        "outputId": "95efe3a4-4e5b-4200-c76b-9e9c9092c7bf",
        "colab": {}
      },
      "cell_type": "code",
      "source": [
        "result=print_twice('Bing')"
      ],
      "execution_count": 0,
      "outputs": [
        {
          "output_type": "stream",
          "text": [
            "Bing\n",
            "Bing\n"
          ],
          "name": "stdout"
        }
      ]
    },
    {
      "metadata": {
        "id": "C4QXU-HMdBeS",
        "colab_type": "code",
        "outputId": "e9af65d2-6330-4799-f9c4-0db30f6e238f",
        "colab": {}
      },
      "cell_type": "code",
      "source": [
        "print(result)"
      ],
      "execution_count": 0,
      "outputs": [
        {
          "output_type": "stream",
          "text": [
            "None\n"
          ],
          "name": "stdout"
        }
      ]
    },
    {
      "metadata": {
        "id": "7vQeAlmidBeW",
        "colab_type": "code",
        "outputId": "3dcb9102-c4a7-41d2-b971-3c6749923b8b",
        "colab": {}
      },
      "cell_type": "code",
      "source": [
        "print(type(None))"
      ],
      "execution_count": 0,
      "outputs": [
        {
          "output_type": "stream",
          "text": [
            "<class 'NoneType'>\n"
          ],
          "name": "stdout"
        }
      ]
    },
    {
      "metadata": {
        "id": "HNp-I_q_dBeb",
        "colab_type": "code",
        "colab": {}
      },
      "cell_type": "code",
      "source": [
        "import turtle"
      ],
      "execution_count": 0,
      "outputs": []
    },
    {
      "metadata": {
        "id": "g2W63f-cdBed",
        "colab_type": "code",
        "colab": {}
      },
      "cell_type": "code",
      "source": [
        "bob=turtle.Turtle()"
      ],
      "execution_count": 0,
      "outputs": []
    },
    {
      "metadata": {
        "id": "B-FrvQCvdBef",
        "colab_type": "code",
        "outputId": "18425efa-61be-47d0-dd98-71051eb1a552",
        "colab": {}
      },
      "cell_type": "code",
      "source": [
        "print(bob)"
      ],
      "execution_count": 0,
      "outputs": [
        {
          "output_type": "stream",
          "text": [
            "<turtle.Turtle object at 0x110234780>\n"
          ],
          "name": "stdout"
        }
      ]
    },
    {
      "metadata": {
        "id": "_TH2-DSOdBel",
        "colab_type": "code",
        "colab": {}
      },
      "cell_type": "code",
      "source": [
        "bob.fd(100)"
      ],
      "execution_count": 0,
      "outputs": []
    },
    {
      "metadata": {
        "id": "OHUFjlI1dBev",
        "colab_type": "code",
        "colab": {}
      },
      "cell_type": "code",
      "source": [
        "bob.lt(90)"
      ],
      "execution_count": 0,
      "outputs": []
    },
    {
      "metadata": {
        "id": "DB-zT2NrdBey",
        "colab_type": "code",
        "colab": {}
      },
      "cell_type": "code",
      "source": [
        "bob.fd(100)"
      ],
      "execution_count": 0,
      "outputs": []
    },
    {
      "metadata": {
        "id": "QXuffhajdBe0",
        "colab_type": "code",
        "colab": {}
      },
      "cell_type": "code",
      "source": [
        "bob.lt(90)"
      ],
      "execution_count": 0,
      "outputs": []
    },
    {
      "metadata": {
        "id": "4i2ziiUddBe2",
        "colab_type": "code",
        "colab": {}
      },
      "cell_type": "code",
      "source": [
        "bob.fd(100)"
      ],
      "execution_count": 0,
      "outputs": []
    },
    {
      "metadata": {
        "id": "rbVCtMDvdBe6",
        "colab_type": "code",
        "colab": {}
      },
      "cell_type": "code",
      "source": [
        "bob.lt(90)"
      ],
      "execution_count": 0,
      "outputs": []
    },
    {
      "metadata": {
        "id": "IK-yMSgPdBe-",
        "colab_type": "code",
        "colab": {}
      },
      "cell_type": "code",
      "source": [
        "bob.fd(100)"
      ],
      "execution_count": 0,
      "outputs": []
    },
    {
      "metadata": {
        "id": "mXd5D232dBfB",
        "colab_type": "code",
        "colab": {}
      },
      "cell_type": "code",
      "source": [
        "turtle.mainloop()"
      ],
      "execution_count": 0,
      "outputs": []
    },
    {
      "metadata": {
        "id": "Nz3hxYwxdBfD",
        "colab_type": "code",
        "outputId": "b5621655-b1ee-4c18-8d42-64cc76967edd",
        "colab": {}
      },
      "cell_type": "code",
      "source": [
        "for i in range(4):\n",
        "    print('Hello!')"
      ],
      "execution_count": 0,
      "outputs": [
        {
          "output_type": "stream",
          "text": [
            "Hello!\n",
            "Hello!\n",
            "Hello!\n",
            "Hello!\n"
          ],
          "name": "stdout"
        }
      ]
    },
    {
      "metadata": {
        "id": "2qjqQU-udBfF",
        "colab_type": "code",
        "colab": {}
      },
      "cell_type": "code",
      "source": [
        "import turtle"
      ],
      "execution_count": 0,
      "outputs": []
    },
    {
      "metadata": {
        "id": "cU9q-8cmdBfH",
        "colab_type": "code",
        "colab": {}
      },
      "cell_type": "code",
      "source": [
        "bob=turtle.Turtle()"
      ],
      "execution_count": 0,
      "outputs": []
    },
    {
      "metadata": {
        "id": "sKPewlaIdBfJ",
        "colab_type": "code",
        "outputId": "b26119c9-0801-44dd-a066-b7977a3f0dbe",
        "colab": {}
      },
      "cell_type": "code",
      "source": [
        "print(bob)"
      ],
      "execution_count": 0,
      "outputs": [
        {
          "output_type": "stream",
          "text": [
            "<turtle.Turtle object at 0x10fffe048>\n"
          ],
          "name": "stdout"
        }
      ]
    },
    {
      "metadata": {
        "id": "E68-dTf4dBfM",
        "colab_type": "code",
        "colab": {}
      },
      "cell_type": "code",
      "source": [
        "def square(t):\n",
        "    for i in range(4):\n",
        "        t.fd(100)\n",
        "        t.lt(90)"
      ],
      "execution_count": 0,
      "outputs": []
    },
    {
      "metadata": {
        "id": "Ue31QP8HdBfP",
        "colab_type": "code",
        "colab": {}
      },
      "cell_type": "code",
      "source": [
        "square(bob)"
      ],
      "execution_count": 0,
      "outputs": []
    },
    {
      "metadata": {
        "id": "l0oVpEzSdBfR",
        "colab_type": "code",
        "colab": {}
      },
      "cell_type": "code",
      "source": [
        "turtle.mainloop()"
      ],
      "execution_count": 0,
      "outputs": []
    },
    {
      "metadata": {
        "id": "1LXUwoPKdBfZ",
        "colab_type": "code",
        "colab": {}
      },
      "cell_type": "code",
      "source": [
        "def square(t,length):\n",
        "    for i in range(4):\n",
        "        t.fd(length)\n",
        "        t.lt(90)"
      ],
      "execution_count": 0,
      "outputs": []
    },
    {
      "metadata": {
        "id": "VETGn0QMdBfb",
        "colab_type": "code",
        "outputId": "7d9dbb42-3a3f-42d0-ad6e-02a2057b0744",
        "colab": {}
      },
      "cell_type": "code",
      "source": [
        "square(bob,100)"
      ],
      "execution_count": 0,
      "outputs": [
        {
          "output_type": "error",
          "ename": "TypeError",
          "evalue": "square() takes 1 positional argument but 2 were given",
          "traceback": [
            "\u001b[0;31m---------------------------------------------------------------------------\u001b[0m",
            "\u001b[0;31mTypeError\u001b[0m                                 Traceback (most recent call last)",
            "\u001b[0;32m<ipython-input-14-8f710e333222>\u001b[0m in \u001b[0;36m<module>\u001b[0;34m\u001b[0m\n\u001b[0;32m----> 1\u001b[0;31m \u001b[0msquare\u001b[0m\u001b[0;34m(\u001b[0m\u001b[0mbob\u001b[0m\u001b[0;34m,\u001b[0m\u001b[0;36m100\u001b[0m\u001b[0;34m)\u001b[0m\u001b[0;34m\u001b[0m\u001b[0;34m\u001b[0m\u001b[0m\n\u001b[0m",
            "\u001b[0;31mTypeError\u001b[0m: square() takes 1 positional argument but 2 were given"
          ]
        }
      ]
    },
    {
      "metadata": {
        "id": "zPRvzyegdBfd",
        "colab_type": "code",
        "colab": {}
      },
      "cell_type": "code",
      "source": [
        "minutes=105"
      ],
      "execution_count": 0,
      "outputs": []
    },
    {
      "metadata": {
        "id": "d4EZhMWHdBfe",
        "colab_type": "code",
        "outputId": "4ae842ba-d293-4acf-fb0d-823db9e273fa",
        "colab": {}
      },
      "cell_type": "code",
      "source": [
        "minutes/60"
      ],
      "execution_count": 0,
      "outputs": [
        {
          "output_type": "execute_result",
          "data": {
            "text/plain": [
              "1.75"
            ]
          },
          "metadata": {
            "tags": []
          },
          "execution_count": 46
        }
      ]
    },
    {
      "metadata": {
        "id": "Gv_vLWF1dBfh",
        "colab_type": "code",
        "colab": {}
      },
      "cell_type": "code",
      "source": [
        "hours=minutes//60"
      ],
      "execution_count": 0,
      "outputs": []
    },
    {
      "metadata": {
        "id": "4wDS21QUdBfl",
        "colab_type": "code",
        "outputId": "64db9d16-f059-4f35-b493-ece305a0e89a",
        "colab": {}
      },
      "cell_type": "code",
      "source": [
        "hours"
      ],
      "execution_count": 0,
      "outputs": [
        {
          "output_type": "execute_result",
          "data": {
            "text/plain": [
              "1"
            ]
          },
          "metadata": {
            "tags": []
          },
          "execution_count": 48
        }
      ]
    },
    {
      "metadata": {
        "id": "R1xoaHzXdBfo",
        "colab_type": "code",
        "colab": {}
      },
      "cell_type": "code",
      "source": [
        "remainder=minutes-hours*60"
      ],
      "execution_count": 0,
      "outputs": []
    },
    {
      "metadata": {
        "id": "cP8H9vIodBfs",
        "colab_type": "code",
        "outputId": "3a18bc73-0a10-4047-c5cc-5704d9ab5ce4",
        "colab": {}
      },
      "cell_type": "code",
      "source": [
        "remainder"
      ],
      "execution_count": 0,
      "outputs": [
        {
          "output_type": "execute_result",
          "data": {
            "text/plain": [
              "45"
            ]
          },
          "metadata": {
            "tags": []
          },
          "execution_count": 50
        }
      ]
    },
    {
      "metadata": {
        "id": "vm-drpWUdBf1",
        "colab_type": "code",
        "colab": {}
      },
      "cell_type": "code",
      "source": [
        "remainder=minutes%60"
      ],
      "execution_count": 0,
      "outputs": []
    },
    {
      "metadata": {
        "id": "ZNfee8Z2dBf3",
        "colab_type": "code",
        "outputId": "e44e4fa6-14df-4564-ae11-66b3d19f4221",
        "colab": {}
      },
      "cell_type": "code",
      "source": [
        "remainder"
      ],
      "execution_count": 0,
      "outputs": [
        {
          "output_type": "execute_result",
          "data": {
            "text/plain": [
              "45"
            ]
          },
          "metadata": {
            "tags": []
          },
          "execution_count": 52
        }
      ]
    },
    {
      "metadata": {
        "id": "Q2OX12MudBgE",
        "colab_type": "code",
        "outputId": "1bc208d5-08e8-44f8-db36-345db3b3cef5",
        "colab": {}
      },
      "cell_type": "code",
      "source": [
        "5==5"
      ],
      "execution_count": 0,
      "outputs": [
        {
          "output_type": "execute_result",
          "data": {
            "text/plain": [
              "True"
            ]
          },
          "metadata": {
            "tags": []
          },
          "execution_count": 53
        }
      ]
    },
    {
      "metadata": {
        "id": "B_RRxitydBgK",
        "colab_type": "code",
        "outputId": "01cc6499-eefe-49f7-a7da-8f5ebbf31d30",
        "colab": {}
      },
      "cell_type": "code",
      "source": [
        "5==6"
      ],
      "execution_count": 0,
      "outputs": [
        {
          "output_type": "execute_result",
          "data": {
            "text/plain": [
              "False"
            ]
          },
          "metadata": {
            "tags": []
          },
          "execution_count": 54
        }
      ]
    },
    {
      "metadata": {
        "id": "XTVrvNG3dBgT",
        "colab_type": "code",
        "outputId": "28054b8d-9dc8-463a-ae96-91a1632e8124",
        "colab": {}
      },
      "cell_type": "code",
      "source": [
        "type(True)"
      ],
      "execution_count": 0,
      "outputs": [
        {
          "output_type": "execute_result",
          "data": {
            "text/plain": [
              "bool"
            ]
          },
          "metadata": {
            "tags": []
          },
          "execution_count": 55
        }
      ]
    },
    {
      "metadata": {
        "id": "vTPtkaArdBgX",
        "colab_type": "code",
        "outputId": "e02edd70-5f97-40b9-9609-9a28534a258c",
        "colab": {}
      },
      "cell_type": "code",
      "source": [
        "type(False)"
      ],
      "execution_count": 0,
      "outputs": [
        {
          "output_type": "execute_result",
          "data": {
            "text/plain": [
              "bool"
            ]
          },
          "metadata": {
            "tags": []
          },
          "execution_count": 56
        }
      ]
    },
    {
      "metadata": {
        "id": "UvTYCMWpdBgg",
        "colab_type": "code",
        "outputId": "ec514c1b-4873-4099-a024-589171d3e01e",
        "colab": {}
      },
      "cell_type": "code",
      "source": [
        "42 and True"
      ],
      "execution_count": 0,
      "outputs": [
        {
          "output_type": "execute_result",
          "data": {
            "text/plain": [
              "True"
            ]
          },
          "metadata": {
            "tags": []
          },
          "execution_count": 57
        }
      ]
    },
    {
      "metadata": {
        "id": "tyPvO7WpdBgn",
        "colab_type": "code",
        "outputId": "e6e507a6-8be0-47cf-bbf0-15246d940797",
        "colab": {}
      },
      "cell_type": "code",
      "source": [
        "text=input()"
      ],
      "execution_count": 0,
      "outputs": [
        {
          "output_type": "stream",
          "text": [
            "What are you waiting for?\n"
          ],
          "name": "stdout"
        }
      ]
    },
    {
      "metadata": {
        "id": "Q8PwORzOdBgs",
        "colab_type": "code",
        "outputId": "14efc66c-e0f8-4875-daf7-bfc7bef82828",
        "colab": {}
      },
      "cell_type": "code",
      "source": [
        "text"
      ],
      "execution_count": 0,
      "outputs": [
        {
          "output_type": "execute_result",
          "data": {
            "text/plain": [
              "'What are you waiting for?'"
            ]
          },
          "metadata": {
            "tags": []
          },
          "execution_count": 60
        }
      ]
    },
    {
      "metadata": {
        "id": "pgdMTItQdBg0",
        "colab_type": "code",
        "outputId": "cece1805-f191-42b4-d9de-e102c35e0135",
        "colab": {}
      },
      "cell_type": "code",
      "source": [
        "name=input('What...is your name?\\n')"
      ],
      "execution_count": 0,
      "outputs": [
        {
          "output_type": "stream",
          "text": [
            "What...is your name?\n",
            "Arthur,King of the Britons!\n"
          ],
          "name": "stdout"
        }
      ]
    },
    {
      "metadata": {
        "id": "TUa4pUtgdBg5",
        "colab_type": "code",
        "outputId": "670b151f-51ac-4043-c93a-31f14a7b42eb",
        "colab": {}
      },
      "cell_type": "code",
      "source": [
        "name"
      ],
      "execution_count": 0,
      "outputs": [
        {
          "output_type": "execute_result",
          "data": {
            "text/plain": [
              "'Arthur,King of the Britons!'"
            ]
          },
          "metadata": {
            "tags": []
          },
          "execution_count": 62
        }
      ]
    },
    {
      "metadata": {
        "id": "T3ieDXe1dBg-",
        "colab_type": "code",
        "colab": {}
      },
      "cell_type": "code",
      "source": [
        "prompt='What...is the airspeed velocity of an unladen swallow?\\n'"
      ],
      "execution_count": 0,
      "outputs": []
    },
    {
      "metadata": {
        "id": "4PIUddFNdBg_",
        "colab_type": "code",
        "outputId": "cbccfa60-e05a-4aec-e277-5486898b7f81",
        "colab": {}
      },
      "cell_type": "code",
      "source": [
        "speed=input(prompt)"
      ],
      "execution_count": 0,
      "outputs": [
        {
          "output_type": "stream",
          "text": [
            "What...is the airspeed velocity of an unladen swallow?\n",
            "42\n"
          ],
          "name": "stdout"
        }
      ]
    },
    {
      "metadata": {
        "id": "JWcbGgSQdBhC",
        "colab_type": "code",
        "outputId": "e7f9e7e7-dd25-45aa-84d8-c69100bc4438",
        "colab": {}
      },
      "cell_type": "code",
      "source": [
        "int(speed)"
      ],
      "execution_count": 0,
      "outputs": [
        {
          "output_type": "execute_result",
          "data": {
            "text/plain": [
              "42"
            ]
          },
          "metadata": {
            "tags": []
          },
          "execution_count": 65
        }
      ]
    },
    {
      "metadata": {
        "id": "FiEP6-c4dBhL",
        "colab_type": "code",
        "colab": {}
      },
      "cell_type": "code",
      "source": [
        "import math"
      ],
      "execution_count": 0,
      "outputs": []
    },
    {
      "metadata": {
        "id": "cqWvNMTvdBhO",
        "colab_type": "code",
        "colab": {}
      },
      "cell_type": "code",
      "source": [
        "signal_power=9"
      ],
      "execution_count": 0,
      "outputs": []
    },
    {
      "metadata": {
        "id": "SGGqsTvsdBhW",
        "colab_type": "code",
        "colab": {}
      },
      "cell_type": "code",
      "source": [
        "noise_power=10"
      ],
      "execution_count": 0,
      "outputs": []
    },
    {
      "metadata": {
        "id": "7K-hrAFydBha",
        "colab_type": "code",
        "colab": {}
      },
      "cell_type": "code",
      "source": [
        "ratio=signal_power//noise_power"
      ],
      "execution_count": 0,
      "outputs": []
    },
    {
      "metadata": {
        "id": "hC6Zq80bdBhf",
        "colab_type": "code",
        "outputId": "52f3a37d-6e39-46b2-f156-365a4fa42bd1",
        "colab": {}
      },
      "cell_type": "code",
      "source": [
        "decibels=10*math.log10(ratio)"
      ],
      "execution_count": 0,
      "outputs": [
        {
          "output_type": "error",
          "ename": "ValueError",
          "evalue": "math domain error",
          "traceback": [
            "\u001b[0;31m---------------------------------------------------------------------------\u001b[0m",
            "\u001b[0;31mValueError\u001b[0m                                Traceback (most recent call last)",
            "\u001b[0;32m<ipython-input-11-163e4cc9ff44>\u001b[0m in \u001b[0;36m<module>\u001b[0;34m\u001b[0m\n\u001b[0;32m----> 1\u001b[0;31m \u001b[0mdecibels\u001b[0m\u001b[0;34m=\u001b[0m\u001b[0;36m10\u001b[0m\u001b[0;34m*\u001b[0m\u001b[0mmath\u001b[0m\u001b[0;34m.\u001b[0m\u001b[0mlog10\u001b[0m\u001b[0;34m(\u001b[0m\u001b[0mratio\u001b[0m\u001b[0;34m)\u001b[0m\u001b[0;34m\u001b[0m\u001b[0;34m\u001b[0m\u001b[0m\n\u001b[0m",
            "\u001b[0;31mValueError\u001b[0m: math domain error"
          ]
        }
      ]
    },
    {
      "metadata": {
        "id": "M_IEeTmcdBhk",
        "colab_type": "code",
        "outputId": "9f51075b-c6f1-436a-fc96-40a51045e4ec",
        "colab": {}
      },
      "cell_type": "code",
      "source": [
        "print(decibels)"
      ],
      "execution_count": 0,
      "outputs": [
        {
          "output_type": "error",
          "ename": "NameError",
          "evalue": "name 'decibels' is not defined",
          "traceback": [
            "\u001b[0;31m---------------------------------------------------------------------------\u001b[0m",
            "\u001b[0;31mNameError\u001b[0m                                 Traceback (most recent call last)",
            "\u001b[0;32m<ipython-input-12-610cd24b5082>\u001b[0m in \u001b[0;36m<module>\u001b[0;34m\u001b[0m\n\u001b[0;32m----> 1\u001b[0;31m \u001b[0mprint\u001b[0m\u001b[0;34m(\u001b[0m\u001b[0mdecibels\u001b[0m\u001b[0;34m)\u001b[0m\u001b[0;34m\u001b[0m\u001b[0;34m\u001b[0m\u001b[0m\n\u001b[0m",
            "\u001b[0;31mNameError\u001b[0m: name 'decibels' is not defined"
          ]
        }
      ]
    },
    {
      "metadata": {
        "id": "-Z5zh1zpdBhp",
        "colab_type": "code",
        "colab": {}
      },
      "cell_type": "code",
      "source": [
        "def distance(x1,y1,x2,y2):\n",
        "    dx=x2-x1\n",
        "    dy=y2-y1\n",
        "    print('dx is',dx)\n",
        "    print('dy is', dy)\n",
        "    dsquared=dx**2+dy**2\n",
        "    result=math.sqrt(dsquared)\n",
        "    return result"
      ],
      "execution_count": 0,
      "outputs": []
    },
    {
      "metadata": {
        "id": "PDMLEHO8dBhq",
        "colab_type": "code",
        "outputId": "0a316ace-217b-4f56-b51c-f74a6b3f65fd",
        "colab": {}
      },
      "cell_type": "code",
      "source": [
        "distance(5,8,2,4)"
      ],
      "execution_count": 0,
      "outputs": [
        {
          "output_type": "stream",
          "text": [
            "dx is -3\n",
            "dy is -4\n"
          ],
          "name": "stdout"
        },
        {
          "output_type": "execute_result",
          "data": {
            "text/plain": [
              "5.0"
            ]
          },
          "metadata": {
            "tags": []
          },
          "execution_count": 19
        }
      ]
    },
    {
      "metadata": {
        "id": "_99Tr6NtdBht",
        "colab_type": "code",
        "colab": {}
      },
      "cell_type": "code",
      "source": [
        "def radius(xc,yc,xp,yp):\n",
        "    px=xp-xc\n",
        "    py=yp-yc\n",
        "    dsquared=px**2+py**2\n",
        "    result=math.sqrt(dsquared)\n",
        "    return result"
      ],
      "execution_count": 0,
      "outputs": []
    },
    {
      "metadata": {
        "id": "Uc0l37iBdBhx",
        "colab_type": "code",
        "colab": {}
      },
      "cell_type": "code",
      "source": [
        "def circle_area(xc,yc,xp,yp):\n",
        "    result=math.pi*(radius(xc,yc,xp,yp)**2)\n",
        "    return result"
      ],
      "execution_count": 0,
      "outputs": []
    },
    {
      "metadata": {
        "id": "chG-dXtadBh3",
        "colab_type": "code",
        "outputId": "e0654b0c-4714-46a8-e200-db6fedc0a64c",
        "colab": {}
      },
      "cell_type": "code",
      "source": [
        "circle_area(3,4,6,8)"
      ],
      "execution_count": 0,
      "outputs": [
        {
          "output_type": "execute_result",
          "data": {
            "text/plain": [
              "78.53981633974483"
            ]
          },
          "metadata": {
            "tags": []
          },
          "execution_count": 33
        }
      ]
    },
    {
      "metadata": {
        "id": "PTRrL_aWdBh-",
        "colab_type": "code",
        "colab": {}
      },
      "cell_type": "code",
      "source": [
        "def is_divisible(x,y):\n",
        "    if x%y==0:\n",
        "        return True\n",
        "    else:\n",
        "        return False"
      ],
      "execution_count": 0,
      "outputs": []
    },
    {
      "metadata": {
        "id": "ObvMFflAdBiD",
        "colab_type": "code",
        "outputId": "a241c55e-ca82-4108-d49c-bba31b987d5b",
        "colab": {}
      },
      "cell_type": "code",
      "source": [
        "is_divisible(6,4)"
      ],
      "execution_count": 0,
      "outputs": [
        {
          "output_type": "execute_result",
          "data": {
            "text/plain": [
              "False"
            ]
          },
          "metadata": {
            "tags": []
          },
          "execution_count": 35
        }
      ]
    },
    {
      "metadata": {
        "id": "nVdV9bGzdBiL",
        "colab_type": "code",
        "outputId": "433299db-ce16-4427-ccca-3ff947436570",
        "colab": {}
      },
      "cell_type": "code",
      "source": [
        "is_divisible(6,3)"
      ],
      "execution_count": 0,
      "outputs": [
        {
          "output_type": "execute_result",
          "data": {
            "text/plain": [
              "True"
            ]
          },
          "metadata": {
            "tags": []
          },
          "execution_count": 36
        }
      ]
    },
    {
      "metadata": {
        "id": "s8DLehj6dBiO",
        "colab_type": "code",
        "colab": {}
      },
      "cell_type": "code",
      "source": [
        "def factorial(n):\n",
        "    if n==0:\n",
        "        return 1\n",
        "    else:\n",
        "        recurse=factorial(n-1)\n",
        "        result=n*recurse\n",
        "        return result"
      ],
      "execution_count": 0,
      "outputs": []
    },
    {
      "metadata": {
        "id": "M5_DihSIdBiX",
        "colab_type": "code",
        "outputId": "e08e22ca-7b50-43e2-9248-c6edb3441bba",
        "colab": {}
      },
      "cell_type": "code",
      "source": [
        "factorial(8)"
      ],
      "execution_count": 0,
      "outputs": [
        {
          "output_type": "execute_result",
          "data": {
            "text/plain": [
              "40320"
            ]
          },
          "metadata": {
            "tags": []
          },
          "execution_count": 40
        }
      ]
    },
    {
      "metadata": {
        "id": "kpZiMuRFdBib",
        "colab_type": "code",
        "colab": {}
      },
      "cell_type": "code",
      "source": [
        "def factorial(n):\n",
        "    if not isinstance(n,int):\n",
        "        print('Factorial is only defined for integers.')\n",
        "        return None\n",
        "    elif n<0:\n",
        "        print('Factorial is not defined for negative integers.')\n",
        "        return None\n",
        "    elif n==0:\n",
        "        return 1\n",
        "    else:\n",
        "        return n*factorial(n-1)"
      ],
      "execution_count": 0,
      "outputs": []
    },
    {
      "metadata": {
        "id": "MhuEjJRPdBif",
        "colab_type": "code",
        "outputId": "b31d339d-75aa-4e1d-9e9a-9a1aa3c029a1",
        "colab": {}
      },
      "cell_type": "code",
      "source": [
        "factorial(8.9)"
      ],
      "execution_count": 0,
      "outputs": [
        {
          "output_type": "stream",
          "text": [
            "Factorial is only defined for integers.\n"
          ],
          "name": "stdout"
        }
      ]
    },
    {
      "metadata": {
        "id": "doMPTgAbdBim",
        "colab_type": "code",
        "outputId": "0b84df90-7aee-4f46-9213-363776948273",
        "colab": {}
      },
      "cell_type": "code",
      "source": [
        "factorial(-1)"
      ],
      "execution_count": 0,
      "outputs": [
        {
          "output_type": "stream",
          "text": [
            "Factorial is not defined for negative integers.\n"
          ],
          "name": "stdout"
        }
      ]
    },
    {
      "metadata": {
        "id": "A0dLsUq-dBip",
        "colab_type": "code",
        "outputId": "3151d7c3-926c-4606-db98-d997f697c477",
        "colab": {}
      },
      "cell_type": "code",
      "source": [
        "factorial(0)"
      ],
      "execution_count": 0,
      "outputs": [
        {
          "output_type": "execute_result",
          "data": {
            "text/plain": [
              "1"
            ]
          },
          "metadata": {
            "tags": []
          },
          "execution_count": 47
        }
      ]
    },
    {
      "metadata": {
        "id": "F3pE_OTudBit",
        "colab_type": "code",
        "outputId": "7574c1df-f1dd-4e5f-f0fa-51f46e95b907",
        "colab": {}
      },
      "cell_type": "code",
      "source": [
        "factorial(8)"
      ],
      "execution_count": 0,
      "outputs": [
        {
          "output_type": "execute_result",
          "data": {
            "text/plain": [
              "40320"
            ]
          },
          "metadata": {
            "tags": []
          },
          "execution_count": 48
        }
      ]
    },
    {
      "metadata": {
        "id": "XRGCE8yZdBiy",
        "colab_type": "code",
        "colab": {}
      },
      "cell_type": "code",
      "source": [
        "def factorial(n):\n",
        "    space=' '*(4*n)\n",
        "    print(space,'factorial',n)\n",
        "    if n==0:\n",
        "        print(space,'returning 1')\n",
        "        return 1\n",
        "    else:\n",
        "        recurse=factorial(n-1)\n",
        "        result=n*recurse\n",
        "        print(space,'returning',result)\n",
        "        return result"
      ],
      "execution_count": 0,
      "outputs": []
    },
    {
      "metadata": {
        "id": "qs-4YCaMdBi8",
        "colab_type": "code",
        "outputId": "0bcbd921-0af1-4a93-d492-6bcefa8bdb63",
        "colab": {}
      },
      "cell_type": "code",
      "source": [
        "factorial(4)"
      ],
      "execution_count": 0,
      "outputs": [
        {
          "output_type": "stream",
          "text": [
            "                 factorial 4\n",
            "             factorial 3\n",
            "         factorial 2\n",
            "     factorial 1\n",
            " factorial 0\n",
            " returning 1\n",
            "     returning 1\n",
            "         returning 2\n",
            "             returning 6\n",
            "                 returning 24\n"
          ],
          "name": "stdout"
        },
        {
          "output_type": "execute_result",
          "data": {
            "text/plain": [
              "24"
            ]
          },
          "metadata": {
            "tags": []
          },
          "execution_count": 52
        }
      ]
    },
    {
      "metadata": {
        "id": "SU2xvM4ZdBjB",
        "colab_type": "code",
        "colab": {}
      },
      "cell_type": "code",
      "source": [
        "x=5"
      ],
      "execution_count": 0,
      "outputs": []
    },
    {
      "metadata": {
        "id": "s29EmAk_dBjD",
        "colab_type": "code",
        "outputId": "471f8901-2555-45b0-8d32-bceda7980111",
        "colab": {}
      },
      "cell_type": "code",
      "source": [
        "x"
      ],
      "execution_count": 0,
      "outputs": [
        {
          "output_type": "execute_result",
          "data": {
            "text/plain": [
              "5"
            ]
          },
          "metadata": {
            "tags": []
          },
          "execution_count": 54
        }
      ]
    },
    {
      "metadata": {
        "id": "i7CSLi5cdBjG",
        "colab_type": "code",
        "colab": {}
      },
      "cell_type": "code",
      "source": [
        "x=7"
      ],
      "execution_count": 0,
      "outputs": []
    },
    {
      "metadata": {
        "id": "adaKdp53dBjI",
        "colab_type": "code",
        "outputId": "51ad48e3-2e36-42bf-c1ea-9cba003a8f45",
        "colab": {}
      },
      "cell_type": "code",
      "source": [
        "x"
      ],
      "execution_count": 0,
      "outputs": [
        {
          "output_type": "execute_result",
          "data": {
            "text/plain": [
              "7"
            ]
          },
          "metadata": {
            "tags": []
          },
          "execution_count": 56
        }
      ]
    },
    {
      "metadata": {
        "id": "cQtpCltZdBjN",
        "colab_type": "code",
        "colab": {}
      },
      "cell_type": "code",
      "source": [
        "a=5"
      ],
      "execution_count": 0,
      "outputs": []
    },
    {
      "metadata": {
        "id": "-vrX3EQbdBjP",
        "colab_type": "code",
        "colab": {}
      },
      "cell_type": "code",
      "source": [
        "b=a"
      ],
      "execution_count": 0,
      "outputs": []
    },
    {
      "metadata": {
        "id": "DnnbJ2a1dBjT",
        "colab_type": "code",
        "colab": {}
      },
      "cell_type": "code",
      "source": [
        "a=3"
      ],
      "execution_count": 0,
      "outputs": []
    },
    {
      "metadata": {
        "id": "1nw05EIvdBjV",
        "colab_type": "code",
        "colab": {}
      },
      "cell_type": "code",
      "source": [
        "x=x+1"
      ],
      "execution_count": 0,
      "outputs": []
    },
    {
      "metadata": {
        "id": "9xw9F2FqdBjX",
        "colab_type": "code",
        "colab": {}
      },
      "cell_type": "code",
      "source": [
        "x=0"
      ],
      "execution_count": 0,
      "outputs": []
    },
    {
      "metadata": {
        "id": "tj44DTDmdBja",
        "colab_type": "code",
        "colab": {}
      },
      "cell_type": "code",
      "source": [
        "def countdown(n):\n",
        "    while n>0:\n",
        "        print(n)\n",
        "        n=n-1\n",
        "    print('Blastoff!')"
      ],
      "execution_count": 0,
      "outputs": []
    },
    {
      "metadata": {
        "id": "D8xSdNJ5dBjd",
        "colab_type": "code",
        "outputId": "5556afb0-bcd0-4514-c08c-8ab31ceced97",
        "colab": {}
      },
      "cell_type": "code",
      "source": [
        "countdown(8)"
      ],
      "execution_count": 0,
      "outputs": [
        {
          "output_type": "stream",
          "text": [
            "8\n",
            "7\n",
            "6\n",
            "5\n",
            "4\n",
            "3\n",
            "2\n",
            "1\n",
            "Blastoff!\n"
          ],
          "name": "stdout"
        }
      ]
    },
    {
      "metadata": {
        "id": "wZeCaHmQdBjf",
        "colab_type": "code",
        "colab": {}
      },
      "cell_type": "code",
      "source": [
        "def sequence(n):\n",
        "    while n!=1:\n",
        "        print(n)\n",
        "        if n%2==0:\n",
        "            n=n/2\n",
        "        else:\n",
        "            n=n*3+1"
      ],
      "execution_count": 0,
      "outputs": []
    },
    {
      "metadata": {
        "id": "-Wexoq4odBji",
        "colab_type": "code",
        "outputId": "69db0567-e9ee-42da-be41-4e5efe8ced11",
        "colab": {}
      },
      "cell_type": "code",
      "source": [
        "sequence(4)"
      ],
      "execution_count": 0,
      "outputs": [
        {
          "output_type": "stream",
          "text": [
            "4\n",
            "2.0\n"
          ],
          "name": "stdout"
        }
      ]
    },
    {
      "metadata": {
        "id": "ZDnVNj7QdBjl",
        "colab_type": "code",
        "outputId": "545f1fc2-2b91-4acd-c544-b4da6d3e8db0",
        "colab": {}
      },
      "cell_type": "code",
      "source": [
        "while True:\n",
        "    line=input('> ')\n",
        "    if line=='done':\n",
        "        break\n",
        "    print(line)\n",
        "print('Done!')"
      ],
      "execution_count": 0,
      "outputs": [
        {
          "output_type": "stream",
          "text": [
            "> not done\n",
            "not done\n",
            "> not done\n",
            "not done\n",
            "> 111\n",
            "111\n",
            "> 333\n",
            "333\n",
            "> done\n",
            "Done!\n"
          ],
          "name": "stdout"
        }
      ]
    },
    {
      "metadata": {
        "id": "DwchtE4pdBjr",
        "colab_type": "code",
        "colab": {}
      },
      "cell_type": "code",
      "source": [
        "a=4"
      ],
      "execution_count": 0,
      "outputs": []
    },
    {
      "metadata": {
        "id": "u8YsYlOudBj3",
        "colab_type": "code",
        "colab": {}
      },
      "cell_type": "code",
      "source": [
        "x=3"
      ],
      "execution_count": 0,
      "outputs": []
    },
    {
      "metadata": {
        "id": "N5yZ9-3ZdBj4",
        "colab_type": "code",
        "colab": {}
      },
      "cell_type": "code",
      "source": [
        "y=(x+a/x)/2"
      ],
      "execution_count": 0,
      "outputs": []
    },
    {
      "metadata": {
        "id": "eBXqMedHdBj5",
        "colab_type": "code",
        "outputId": "cf4184ce-adbe-441e-d021-f781bec120aa",
        "colab": {}
      },
      "cell_type": "code",
      "source": [
        "y"
      ],
      "execution_count": 0,
      "outputs": [
        {
          "output_type": "execute_result",
          "data": {
            "text/plain": [
              "2.1666666666666665"
            ]
          },
          "metadata": {
            "tags": []
          },
          "execution_count": 75
        }
      ]
    },
    {
      "metadata": {
        "id": "joZNDYm6dBj9",
        "colab_type": "code",
        "colab": {}
      },
      "cell_type": "code",
      "source": [
        "x=y"
      ],
      "execution_count": 0,
      "outputs": []
    },
    {
      "metadata": {
        "id": "XN_F5OqZdBkC",
        "colab_type": "code",
        "colab": {}
      },
      "cell_type": "code",
      "source": [
        "y=(x+a/x)/2"
      ],
      "execution_count": 0,
      "outputs": []
    },
    {
      "metadata": {
        "id": "gKZxScF7dBkE",
        "colab_type": "code",
        "outputId": "77f0030d-fd98-4c92-a406-1b5905210f0a",
        "colab": {}
      },
      "cell_type": "code",
      "source": [
        "y"
      ],
      "execution_count": 0,
      "outputs": [
        {
          "output_type": "execute_result",
          "data": {
            "text/plain": [
              "2.0064102564102564"
            ]
          },
          "metadata": {
            "tags": []
          },
          "execution_count": 78
        }
      ]
    },
    {
      "metadata": {
        "id": "q83osz_4dBkH",
        "colab_type": "code",
        "colab": {}
      },
      "cell_type": "code",
      "source": [
        "x=y"
      ],
      "execution_count": 0,
      "outputs": []
    },
    {
      "metadata": {
        "id": "_zVgMN2adBkI",
        "colab_type": "code",
        "colab": {}
      },
      "cell_type": "code",
      "source": [
        "y=(x+a/x)/2"
      ],
      "execution_count": 0,
      "outputs": []
    },
    {
      "metadata": {
        "id": "pC6QnfF4dBkK",
        "colab_type": "code",
        "outputId": "3f752517-6ae3-46fa-dd64-1a7beb88b533",
        "colab": {}
      },
      "cell_type": "code",
      "source": [
        "y"
      ],
      "execution_count": 0,
      "outputs": [
        {
          "output_type": "execute_result",
          "data": {
            "text/plain": [
              "2.0000102400262145"
            ]
          },
          "metadata": {
            "tags": []
          },
          "execution_count": 81
        }
      ]
    },
    {
      "metadata": {
        "id": "SzebxYmEdBkM",
        "colab_type": "code",
        "colab": {}
      },
      "cell_type": "code",
      "source": [
        "x=y"
      ],
      "execution_count": 0,
      "outputs": []
    },
    {
      "metadata": {
        "id": "76ijiQc0dBkN",
        "colab_type": "code",
        "colab": {}
      },
      "cell_type": "code",
      "source": [
        "y=(x+a/x)/2"
      ],
      "execution_count": 0,
      "outputs": []
    },
    {
      "metadata": {
        "id": "unLJlYsDdBkN",
        "colab_type": "code",
        "outputId": "a657b710-a0dc-4a55-95bf-330de6d0312e",
        "colab": {}
      },
      "cell_type": "code",
      "source": [
        "y"
      ],
      "execution_count": 0,
      "outputs": [
        {
          "output_type": "execute_result",
          "data": {
            "text/plain": [
              "2.0000000000262146"
            ]
          },
          "metadata": {
            "tags": []
          },
          "execution_count": 84
        }
      ]
    },
    {
      "metadata": {
        "id": "4kcN10AadBkQ",
        "colab_type": "code",
        "colab": {}
      },
      "cell_type": "code",
      "source": [
        "while True:\n",
        "    print(x)\n",
        "    y=(x+a/x)/2\n",
        "    if y==x:\n",
        "        break\n",
        "    x=y"
      ],
      "execution_count": 0,
      "outputs": []
    },
    {
      "metadata": {
        "id": "4-QRHq4UdBkW",
        "colab_type": "code",
        "colab": {}
      },
      "cell_type": "code",
      "source": [
        ""
      ],
      "execution_count": 0,
      "outputs": []
    }
  ]
}